{
 "cells": [
  {
   "cell_type": "markdown",
   "metadata": {},
   "source": [
    "# Algorithms\n",
    "\n",
    "April 2020"
   ]
  },
  {
   "cell_type": "code",
   "execution_count": 1,
   "metadata": {},
   "outputs": [],
   "source": [
    "import itertools\n",
    "# from collections import defaultdict \n",
    "\n",
    "from bm_util import *\n",
    "from sort import *\n",
    "from search import *"
   ]
  },
  {
   "cell_type": "markdown",
   "metadata": {},
   "source": [
    "### Fibonacci"
   ]
  },
  {
   "cell_type": "code",
   "execution_count": 55,
   "metadata": {},
   "outputs": [],
   "source": []
  },
  {
   "cell_type": "code",
   "execution_count": 56,
   "metadata": {},
   "outputs": [
    {
     "data": {
      "text/plain": [
       "21"
      ]
     },
     "execution_count": 56,
     "metadata": {},
     "output_type": "execute_result"
    }
   ],
   "source": [
    "fibonacci_arr(8)"
   ]
  },
  {
   "cell_type": "code",
   "execution_count": 37,
   "metadata": {},
   "outputs": [
    {
     "data": {
      "text/plain": [
       "21"
      ]
     },
     "execution_count": 37,
     "metadata": {},
     "output_type": "execute_result"
    }
   ],
   "source": [
    "fibonacci_rec(8)"
   ]
  },
  {
   "cell_type": "code",
   "execution_count": 2,
   "metadata": {},
   "outputs": [
    {
     "name": "stdout",
     "output_type": "stream",
     "text": [
      "912 ns ± 6.37 ns per loop (mean ± std. dev. of 7 runs, 1000000 loops each)\n"
     ]
    }
   ],
   "source": [
    "%timeit fibonacci(8)"
   ]
  },
  {
   "cell_type": "code",
   "execution_count": 3,
   "metadata": {},
   "outputs": [
    {
     "name": "stdout",
     "output_type": "stream",
     "text": [
      "1.41 µs ± 148 ns per loop (mean ± std. dev. of 7 runs, 1000000 loops each)\n"
     ]
    }
   ],
   "source": [
    "%timeit fibonacci_dict(8)"
   ]
  },
  {
   "cell_type": "code",
   "execution_count": 4,
   "metadata": {},
   "outputs": [
    {
     "data": {
      "text/plain": [
       "21"
      ]
     },
     "execution_count": 4,
     "metadata": {},
     "output_type": "execute_result"
    }
   ],
   "source": [
    "fibonacci(8)"
   ]
  },
  {
   "cell_type": "code",
   "execution_count": 5,
   "metadata": {},
   "outputs": [
    {
     "data": {
      "text/plain": [
       "21"
      ]
     },
     "execution_count": 5,
     "metadata": {},
     "output_type": "execute_result"
    }
   ],
   "source": [
    "fibonacci_dict(8)"
   ]
  },
  {
   "cell_type": "code",
   "execution_count": null,
   "metadata": {},
   "outputs": [],
   "source": []
  },
  {
   "cell_type": "markdown",
   "metadata": {},
   "source": [
    "### Binary Search"
   ]
  },
  {
   "cell_type": "code",
   "execution_count": 6,
   "metadata": {},
   "outputs": [
    {
     "data": {
      "text/plain": [
       "[0, 1, 4, 9, 16, 25, 36, 49, 64, 81]"
      ]
     },
     "execution_count": 6,
     "metadata": {},
     "output_type": "execute_result"
    }
   ],
   "source": [
    "A = [x**2 for x in range(10)]\n",
    "A"
   ]
  },
  {
   "cell_type": "code",
   "execution_count": 7,
   "metadata": {},
   "outputs": [
    {
     "data": {
      "text/plain": [
       "True"
      ]
     },
     "execution_count": 7,
     "metadata": {},
     "output_type": "execute_result"
    }
   ],
   "source": [
    "binary_search(A,9)"
   ]
  },
  {
   "cell_type": "code",
   "execution_count": 8,
   "metadata": {},
   "outputs": [
    {
     "data": {
      "text/plain": [
       "False"
      ]
     },
     "execution_count": 8,
     "metadata": {},
     "output_type": "execute_result"
    }
   ],
   "source": [
    "binary_search(A,10)"
   ]
  },
  {
   "cell_type": "code",
   "execution_count": 9,
   "metadata": {},
   "outputs": [
    {
     "data": {
      "text/plain": [
       "False"
      ]
     },
     "execution_count": 9,
     "metadata": {},
     "output_type": "execute_result"
    }
   ],
   "source": [
    "binary_search(A,11)"
   ]
  },
  {
   "cell_type": "markdown",
   "metadata": {},
   "source": [
    "#### Example: Search Countries Based on Population"
   ]
  },
  {
   "cell_type": "code",
   "execution_count": 10,
   "metadata": {},
   "outputs": [],
   "source": [
    "countries = ['US','Canada','China','India']\n",
    "populations = [300,30,1500,1100]"
   ]
  },
  {
   "cell_type": "code",
   "execution_count": 11,
   "metadata": {},
   "outputs": [
    {
     "data": {
      "text/plain": [
       "[(30, 'Canada'), (300, 'US'), (1100, 'India'), (1500, 'China')]"
      ]
     },
     "execution_count": 11,
     "metadata": {},
     "output_type": "execute_result"
    }
   ],
   "source": [
    "country_list = sorted(list(zip(countries,populations)),key=lambda x: x[1])\n",
    "country_list = [(y,x) for (x,y) in country_list]\n",
    "country_list"
   ]
  },
  {
   "cell_type": "code",
   "execution_count": 12,
   "metadata": {},
   "outputs": [],
   "source": [
    "def search_countries(country_list,terms):\n",
    "    \"\"\"Search list for terms\n",
    "    \"\"\"\n",
    "    d = {}\n",
    "    for term in terms:\n",
    "        if binary_search([x[0] for x in country_list],term[0])==True:\n",
    "            d[term]=True\n",
    "        else:\n",
    "            d[term]=False\n",
    "    return d"
   ]
  },
  {
   "cell_type": "code",
   "execution_count": 13,
   "metadata": {},
   "outputs": [
    {
     "data": {
      "text/plain": [
       "{(1500, 'China'): True, (1400, 'China'): False, (50, 'Kazakhstan'): False}"
      ]
     },
     "execution_count": 13,
     "metadata": {},
     "output_type": "execute_result"
    }
   ],
   "source": [
    "search_countries(country_list,[(1500,'China'),(1400,'China'),(50,'Kazakhstan')])"
   ]
  },
  {
   "cell_type": "markdown",
   "metadata": {},
   "source": [
    "### Breadth First Search"
   ]
  },
  {
   "cell_type": "code",
   "execution_count": 14,
   "metadata": {},
   "outputs": [],
   "source": [
    "g = BreadthFirstSearch()"
   ]
  },
  {
   "cell_type": "code",
   "execution_count": 15,
   "metadata": {},
   "outputs": [],
   "source": [
    "g.addEdge(0, 1) \n",
    "g.addEdge(0, 2) \n",
    "g.addEdge(1, 2) \n",
    "g.addEdge(2, 0) \n",
    "g.addEdge(2, 3) \n",
    "g.addEdge(3, 3)"
   ]
  },
  {
   "cell_type": "code",
   "execution_count": 16,
   "metadata": {},
   "outputs": [
    {
     "data": {
      "text/plain": [
       "defaultdict(list, {0: [1, 2], 1: [2], 2: [0, 3], 3: [3]})"
      ]
     },
     "execution_count": 16,
     "metadata": {},
     "output_type": "execute_result"
    }
   ],
   "source": [
    "g.graph"
   ]
  },
  {
   "cell_type": "code",
   "execution_count": 17,
   "metadata": {},
   "outputs": [
    {
     "name": "stdout",
     "output_type": "stream",
     "text": [
      "2 explored\n",
      "0 explored\n",
      "3 explored\n",
      "1 explored\n"
     ]
    }
   ],
   "source": [
    "g.BFS(2)"
   ]
  },
  {
   "cell_type": "code",
   "execution_count": 18,
   "metadata": {},
   "outputs": [],
   "source": [
    "d = DepthFirstSearch()"
   ]
  },
  {
   "cell_type": "code",
   "execution_count": 19,
   "metadata": {},
   "outputs": [],
   "source": [
    "d.addEdge(0, 1) \n",
    "d.addEdge(0, 2) \n",
    "d.addEdge(1, 2) \n",
    "d.addEdge(2, 0) \n",
    "d.addEdge(2, 3) \n",
    "d.addEdge(3, 3) "
   ]
  },
  {
   "cell_type": "code",
   "execution_count": 20,
   "metadata": {},
   "outputs": [
    {
     "data": {
      "text/plain": [
       "defaultdict(list, {0: [1, 2], 1: [2], 2: [0, 3], 3: [3]})"
      ]
     },
     "execution_count": 20,
     "metadata": {},
     "output_type": "execute_result"
    }
   ],
   "source": [
    "d.graph"
   ]
  },
  {
   "cell_type": "code",
   "execution_count": 21,
   "metadata": {},
   "outputs": [
    {
     "name": "stdout",
     "output_type": "stream",
     "text": [
      "2 explored\n",
      "0 explored\n",
      "1 explored\n",
      "3 explored\n"
     ]
    }
   ],
   "source": [
    "d.DFS(2)"
   ]
  },
  {
   "cell_type": "markdown",
   "metadata": {},
   "source": [
    "### Sort"
   ]
  },
  {
   "cell_type": "code",
   "execution_count": 22,
   "metadata": {},
   "outputs": [],
   "source": [
    "a, b, c, d, e = [list(x) for x in itertools.tee([10, 7, 8, 9, 1, 5],5)]"
   ]
  },
  {
   "cell_type": "code",
   "execution_count": 23,
   "metadata": {},
   "outputs": [
    {
     "name": "stdout",
     "output_type": "stream",
     "text": [
      "7.13 µs ± 177 ns per loop (mean ± std. dev. of 7 runs, 100000 loops each)\n",
      "6.3 µs ± 189 ns per loop (mean ± std. dev. of 7 runs, 100000 loops each)\n",
      "203 ns ± 1.95 ns per loop (mean ± std. dev. of 7 runs, 1000000 loops each)\n"
     ]
    }
   ],
   "source": [
    "%timeit mergesort(a)\n",
    "%timeit quicksort(b)\n",
    "%timeit sorted(c)"
   ]
  },
  {
   "cell_type": "code",
   "execution_count": 24,
   "metadata": {},
   "outputs": [
    {
     "name": "stdout",
     "output_type": "stream",
     "text": [
      "Unsorted:\t[10, 7, 8, 9, 1, 5]\n",
      "Applying MergeSort\n",
      "1.\t[10, 7, 8, 9, 1, 5]\n",
      "1.\t[10, 7, 8]\n",
      "1.\t[10]\n",
      "1.\t[7, 8]\n",
      "1.\t[7]\n",
      "1.\t[8]\n",
      "2.\tl[0]<r[0]: 7<8\n",
      "2.\tarr[0]=l[0]=7,[7, 8]\n",
      "3.\tarr[1]=r[0]=8,[7, 8]\n",
      "2.\tl[0]>r[0]: 10>7\n",
      "2.\tarr[0]=r[0]=7,[7, 7, 8]\n",
      "2.\tl[0]>r[1]: 10>8\n",
      "2.\tarr[1]=r[1]=8,[7, 8, 8]\n",
      "3.\tarr[2]=l[0]=10,[7, 8, 10]\n",
      "1.\t[9, 1, 5]\n",
      "1.\t[9]\n",
      "1.\t[1, 5]\n",
      "1.\t[1]\n",
      "1.\t[5]\n",
      "2.\tl[0]<r[0]: 1<5\n",
      "2.\tarr[0]=l[0]=1,[1, 5]\n",
      "3.\tarr[1]=r[0]=5,[1, 5]\n",
      "2.\tl[0]>r[0]: 9>1\n",
      "2.\tarr[0]=r[0]=1,[1, 1, 5]\n",
      "2.\tl[0]>r[1]: 9>5\n",
      "2.\tarr[1]=r[1]=5,[1, 5, 5]\n",
      "3.\tarr[2]=l[0]=9,[1, 5, 9]\n",
      "2.\tl[0]>r[0]: 7>1\n",
      "2.\tarr[0]=r[0]=1,[1, 7, 8, 9, 1, 5]\n",
      "2.\tl[0]>r[1]: 7>5\n",
      "2.\tarr[1]=r[1]=5,[1, 5, 8, 9, 1, 5]\n",
      "2.\tl[0]<r[2]: 7<9\n",
      "2.\tarr[2]=l[0]=7,[1, 5, 7, 9, 1, 5]\n",
      "2.\tl[1]<r[2]: 8<9\n",
      "2.\tarr[3]=l[1]=8,[1, 5, 7, 8, 1, 5]\n",
      "2.\tl[2]>r[2]: 10>9\n",
      "2.\tarr[4]=r[2]=9,[1, 5, 7, 8, 9, 5]\n",
      "3.\tarr[5]=l[2]=10,[1, 5, 7, 8, 9, 10]\n",
      "Sorted:\t[1, 5, 7, 8, 9, 10]\n"
     ]
    },
    {
     "data": {
      "text/plain": [
       "[1, 5, 7, 8, 9, 10]"
      ]
     },
     "execution_count": 24,
     "metadata": {},
     "output_type": "execute_result"
    }
   ],
   "source": [
    "mergesort_printed(d)"
   ]
  },
  {
   "cell_type": "code",
   "execution_count": 25,
   "metadata": {},
   "outputs": [
    {
     "name": "stdout",
     "output_type": "stream",
     "text": [
      "Unsorted:\t[10, 7, 8, 9, 1, 5]\n",
      "Applying QuickSort\n",
      "Low 0 is less than High 5\n",
      "Partition at Array [10, 7, 8, 9, 1, 5], Low 0, High 5\n",
      "Pivot=arr[5]=5\n",
      "arr[4]<=5\n",
      "swapping arr[0] and arr[4]\n",
      "swapping arr[1] and arr[5]\n",
      "Applying sort at Array [1, 5, 8, 9, 10, 7], Low 0, High 0\n",
      "Applying sort at Array [1, 5, 8, 9, 10, 7], Low 2, High 5\n",
      "Low 2 is less than High 5\n",
      "Partition at Array [1, 5, 8, 9, 10, 7], Low 2, High 5\n",
      "Pivot=arr[5]=7\n",
      "swapping arr[2] and arr[5]\n",
      "Applying sort at Array [1, 5, 7, 9, 10, 8], Low 2, High 1\n",
      "Applying sort at Array [1, 5, 7, 9, 10, 8], Low 3, High 5\n",
      "Low 3 is less than High 5\n",
      "Partition at Array [1, 5, 7, 9, 10, 8], Low 3, High 5\n",
      "Pivot=arr[5]=8\n",
      "swapping arr[3] and arr[5]\n",
      "Applying sort at Array [1, 5, 7, 8, 10, 9], Low 3, High 2\n",
      "Applying sort at Array [1, 5, 7, 8, 10, 9], Low 4, High 5\n",
      "Low 4 is less than High 5\n",
      "Partition at Array [1, 5, 7, 8, 10, 9], Low 4, High 5\n",
      "Pivot=arr[5]=9\n",
      "swapping arr[4] and arr[5]\n",
      "Applying sort at Array [1, 5, 7, 8, 9, 10], Low 4, High 3\n",
      "Applying sort at Array [1, 5, 7, 8, 9, 10], Low 5, High 5\n",
      "Sorted:\t[1, 5, 7, 8, 9, 10]\n"
     ]
    },
    {
     "data": {
      "text/plain": [
       "[1, 5, 7, 8, 9, 10]"
      ]
     },
     "execution_count": 25,
     "metadata": {},
     "output_type": "execute_result"
    }
   ],
   "source": [
    "quicksort_printed(e)"
   ]
  },
  {
   "cell_type": "code",
   "execution_count": null,
   "metadata": {},
   "outputs": [],
   "source": []
  },
  {
   "cell_type": "markdown",
   "metadata": {},
   "source": [
    "### Python Built-In Functions"
   ]
  },
  {
   "cell_type": "code",
   "execution_count": 26,
   "metadata": {},
   "outputs": [
    {
     "data": {
      "text/plain": [
       "\"'chicken pot pie\\\\n.'\""
      ]
     },
     "execution_count": 26,
     "metadata": {},
     "output_type": "execute_result"
    }
   ],
   "source": [
    "ascii(\"chicken pot pie\\n.\")"
   ]
  },
  {
   "cell_type": "code",
   "execution_count": 27,
   "metadata": {},
   "outputs": [
    {
     "data": {
      "text/plain": [
       "'0b1110'"
      ]
     },
     "execution_count": 27,
     "metadata": {},
     "output_type": "execute_result"
    }
   ],
   "source": [
    "format(14, '#b')"
   ]
  },
  {
   "cell_type": "code",
   "execution_count": 28,
   "metadata": {},
   "outputs": [
    {
     "data": {
      "text/plain": [
       "'1110'"
      ]
     },
     "execution_count": 28,
     "metadata": {},
     "output_type": "execute_result"
    }
   ],
   "source": [
    "format(14, 'b')"
   ]
  },
  {
   "cell_type": "code",
   "execution_count": 29,
   "metadata": {},
   "outputs": [
    {
     "data": {
      "text/plain": [
       "'e'"
      ]
     },
     "execution_count": 29,
     "metadata": {},
     "output_type": "execute_result"
    }
   ],
   "source": [
    "chr(101)"
   ]
  },
  {
   "cell_type": "code",
   "execution_count": 30,
   "metadata": {},
   "outputs": [
    {
     "data": {
      "text/plain": [
       "97"
      ]
     },
     "execution_count": 30,
     "metadata": {},
     "output_type": "execute_result"
    }
   ],
   "source": [
    "ord('a')"
   ]
  },
  {
   "cell_type": "code",
   "execution_count": 31,
   "metadata": {},
   "outputs": [
    {
     "data": {
      "text/plain": [
       "['A',\n",
       " 'BeautifulSoup',\n",
       " 'BreadthFirstSearch',\n",
       " 'DepthFirstSearch',\n",
       " 'Graph',\n",
       " 'In',\n",
       " 'Out',\n",
       " '_',\n",
       " '_11',\n",
       " '_13',\n",
       " '_16',\n",
       " '_20',\n",
       " '_24',\n",
       " '_25',\n",
       " '_26',\n",
       " '_27',\n",
       " '_28',\n",
       " '_29',\n",
       " '_30',\n",
       " '_4',\n",
       " '_5',\n",
       " '_6',\n",
       " '_7',\n",
       " '_8',\n",
       " '_9',\n",
       " '__',\n",
       " '___',\n",
       " '__builtin__',\n",
       " '__builtins__',\n",
       " '__doc__',\n",
       " '__loader__',\n",
       " '__name__',\n",
       " '__package__',\n",
       " '__spec__',\n",
       " '_dh',\n",
       " '_i',\n",
       " '_i1',\n",
       " '_i10',\n",
       " '_i11',\n",
       " '_i12',\n",
       " '_i13',\n",
       " '_i14',\n",
       " '_i15',\n",
       " '_i16',\n",
       " '_i17',\n",
       " '_i18',\n",
       " '_i19',\n",
       " '_i2',\n",
       " '_i20',\n",
       " '_i21',\n",
       " '_i22',\n",
       " '_i23',\n",
       " '_i24',\n",
       " '_i25',\n",
       " '_i26',\n",
       " '_i27',\n",
       " '_i28',\n",
       " '_i29',\n",
       " '_i3',\n",
       " '_i30',\n",
       " '_i31',\n",
       " '_i4',\n",
       " '_i5',\n",
       " '_i6',\n",
       " '_i7',\n",
       " '_i8',\n",
       " '_i9',\n",
       " '_ih',\n",
       " '_ii',\n",
       " '_iii',\n",
       " '_oh',\n",
       " 'a',\n",
       " 'b',\n",
       " 'binary_search',\n",
       " 'c',\n",
       " 'countries',\n",
       " 'country_list',\n",
       " 'd',\n",
       " 'defaultdict',\n",
       " 'download_url_to_filepath',\n",
       " 'e',\n",
       " 'exit',\n",
       " 'fibonacci',\n",
       " 'fibonacci_dict',\n",
       " 'find_primes',\n",
       " 'func',\n",
       " 'functions',\n",
       " 'g',\n",
       " 'gcd',\n",
       " 'generator',\n",
       " 'get_ipython',\n",
       " 'isprime',\n",
       " 'isprime2',\n",
       " 'isprime3',\n",
       " 'itertools',\n",
       " 'mergesort',\n",
       " 'mergesort_printed',\n",
       " 'multiply_binary',\n",
       " 'np',\n",
       " 'os',\n",
       " 'parse_table_from_url',\n",
       " 'pd',\n",
       " 'populations',\n",
       " 'prime_list',\n",
       " 'quicksort',\n",
       " 'quicksort_printed',\n",
       " 'quit',\n",
       " 're',\n",
       " 'requests',\n",
       " 'search_countries',\n",
       " 'unzip_file',\n",
       " 'urllib',\n",
       " 'zipfile']"
      ]
     },
     "execution_count": 31,
     "metadata": {},
     "output_type": "execute_result"
    }
   ],
   "source": [
    "dir()"
   ]
  },
  {
   "cell_type": "markdown",
   "metadata": {},
   "source": [
    "### Itertools"
   ]
  },
  {
   "cell_type": "code",
   "execution_count": 32,
   "metadata": {},
   "outputs": [
    {
     "data": {
      "text/plain": [
       "[0, 1, 8, 27, 64, 125, 216, 343, 512, 729]"
      ]
     },
     "execution_count": 32,
     "metadata": {},
     "output_type": "execute_result"
    }
   ],
   "source": [
    "from itertools import repeat\n",
    "\n",
    "listy = [1,2,3]\n",
    "\n",
    "list(map(pow, range(10), repeat(3)))"
   ]
  },
  {
   "cell_type": "markdown",
   "metadata": {},
   "source": [
    "### Apply Functions from a List"
   ]
  },
  {
   "cell_type": "code",
   "execution_count": 33,
   "metadata": {},
   "outputs": [],
   "source": [
    "raw = 'ABC'\n",
    "\n",
    "functions = [str.isalnum, str.isalpha, str.isupper]\n",
    "\n",
    "for func in functions:\n",
    "    assert any(func(letter) for letter in raw)"
   ]
  },
  {
   "cell_type": "markdown",
   "metadata": {},
   "source": [
    "### Time Experiments\n",
    "\n",
    "Primes"
   ]
  },
  {
   "cell_type": "code",
   "execution_count": 34,
   "metadata": {},
   "outputs": [
    {
     "name": "stdout",
     "output_type": "stream",
     "text": [
      "2.14 ms ± 94.8 µs per loop (mean ± std. dev. of 7 runs, 100 loops each)\n",
      "4.79 µs ± 43.5 ns per loop (mean ± std. dev. of 7 runs, 100000 loops each)\n",
      "4.47 µs ± 76.5 ns per loop (mean ± std. dev. of 7 runs, 100000 loops each)\n",
      "88.2 µs ± 9.44 µs per loop (mean ± std. dev. of 7 runs, 10000 loops each)\n",
      "79.2 µs ± 956 ns per loop (mean ± std. dev. of 7 runs, 10000 loops each)\n"
     ]
    }
   ],
   "source": [
    "%timeit isprime(2064991007)\n",
    "%timeit isprime2(2064991007)\n",
    "%timeit isprime3(2064991007)\n",
    "%timeit list(filter(isprime,range(1,100)))\n",
    "%timeit list(filter(isprime3,range(1,100)))"
   ]
  },
  {
   "cell_type": "markdown",
   "metadata": {},
   "source": [
    "Sorting"
   ]
  },
  {
   "cell_type": "code",
   "execution_count": 35,
   "metadata": {},
   "outputs": [
    {
     "name": "stdout",
     "output_type": "stream",
     "text": [
      "6.17 µs ± 80.3 ns per loop (mean ± std. dev. of 7 runs, 100000 loops each)\n",
      "6.94 µs ± 54.6 ns per loop (mean ± std. dev. of 7 runs, 100000 loops each)\n",
      "168 ns ± 1.26 ns per loop (mean ± std. dev. of 7 runs, 10000000 loops each)\n"
     ]
    }
   ],
   "source": [
    "num_list = [10, 7, 8, 9, 1, 5]\n",
    "%timeit quicksort(num_list) # 361 µs ± 51 µs per loop (mean ± std. dev. of 7 runs, 1000 loops each)\n",
    "%timeit mergesort(num_list) # 5.63 ms ± 435 µs per loop (mean ± std. dev. of 7 runs, 100 loops each)\n",
    "%timeit sorted(num_list) # 393 ns ± 14.9 ns per loop (mean ± std. dev. of 7 runs, 1000000 loops each)"
   ]
  }
 ],
 "metadata": {
  "kernelspec": {
   "display_name": "Algorithms",
   "language": "python",
   "name": "algorithms"
  },
  "language_info": {
   "codemirror_mode": {
    "name": "ipython",
    "version": 3
   },
   "file_extension": ".py",
   "mimetype": "text/x-python",
   "name": "python",
   "nbconvert_exporter": "python",
   "pygments_lexer": "ipython3",
   "version": "3.7.4"
  }
 },
 "nbformat": 4,
 "nbformat_minor": 4
}
