{
 "cells": [
  {
   "cell_type": "markdown",
   "metadata": {},
   "source": [
    "[LeetCode question list](https://leetcode.com/discuss/career/449135/how-to-effectively-use-leetcode-to-prepare-for-interviews)"
   ]
  },
  {
   "cell_type": "code",
   "execution_count": 1,
   "metadata": {},
   "outputs": [],
   "source": [
    "import heapq\n",
    "import numpy as np\n",
    "from typing import List, Dict, Union, Optional\n",
    "from collections import deque"
   ]
  },
  {
   "cell_type": "code",
   "execution_count": null,
   "metadata": {},
   "outputs": [],
   "source": []
  },
  {
   "cell_type": "markdown",
   "metadata": {},
   "source": [
    "### Functions"
   ]
  },
  {
   "cell_type": "code",
   "execution_count": 2,
   "metadata": {},
   "outputs": [],
   "source": [
    "class Node:\n",
    "    \"\"\"Node for single and double linked lists\"\"\"\n",
    "    def __init__(self, x):\n",
    "        self.val = x\n",
    "        self.next = None\n",
    "        self.prev = None\n",
    "        \n",
    "class TreeNode:\n",
    "    \"\"\"Binary tree node\"\"\"\n",
    "    def __init__(self, x):\n",
    "        self.val = x\n",
    "        self.left = None\n",
    "        self.right = None"
   ]
  },
  {
   "cell_type": "code",
   "execution_count": null,
   "metadata": {},
   "outputs": [],
   "source": []
  },
  {
   "cell_type": "code",
   "execution_count": null,
   "metadata": {},
   "outputs": [],
   "source": []
  },
  {
   "cell_type": "code",
   "execution_count": null,
   "metadata": {},
   "outputs": [],
   "source": []
  },
  {
   "cell_type": "markdown",
   "metadata": {},
   "source": [
    "13. [Roman to Integer](https://leetcode.com/problems/roman-to-integer/)"
   ]
  },
  {
   "cell_type": "code",
   "execution_count": 3,
   "metadata": {},
   "outputs": [],
   "source": [
    "def roman_to_integer(s):\n",
    "    d = {\"I\":1,\"V\":5,\"X\":10,\"L\":50,\"C\":100,\"D\":500,\"M\":1000, \"CD\":400,\"CM\":900,\"XC\":90,\"IV\":4,\"IX\":9}\n",
    "    \n",
    "    num = 0\n",
    "    while len(s)>0:\n",
    "        two = s[:2]\n",
    "        one = s[0]\n",
    "        if two in d:\n",
    "            s = s[2:]\n",
    "            num+=d[two]\n",
    "        elif one in d:\n",
    "            s = s[1:]\n",
    "            num+=d[one]\n",
    "        else:\n",
    "            raise ValueError(\"Not a valid roman numeral\")\n",
    "    return num    "
   ]
  },
  {
   "cell_type": "code",
   "execution_count": 4,
   "metadata": {},
   "outputs": [
    {
     "data": {
      "text/plain": [
       "1994"
      ]
     },
     "execution_count": 4,
     "metadata": {},
     "output_type": "execute_result"
    }
   ],
   "source": [
    "roman_to_integer('MCMXCIV')"
   ]
  },
  {
   "cell_type": "code",
   "execution_count": 5,
   "metadata": {},
   "outputs": [],
   "source": [
    "assert roman_to_integer('MCMXCIV')==1994"
   ]
  },
  {
   "cell_type": "markdown",
   "metadata": {},
   "source": [
    "20. [Valid Parentheses](https://leetcode.com/problems/valid-parentheses/)"
   ]
  },
  {
   "cell_type": "code",
   "execution_count": 6,
   "metadata": {},
   "outputs": [],
   "source": [
    "def valid_paren(s):\n",
    "    left = \"{[(\"\n",
    "    right = \"}])\"\n",
    "    stack = []\n",
    "    for c in s:\n",
    "        if c in left:\n",
    "            stack.append(c)\n",
    "        elif c in right:\n",
    "            right_idx = right.index(c)\n",
    "            if len(stack)>0 and stack[-1]==left[right_idx]:\n",
    "                stack.pop()\n",
    "            else:\n",
    "                return False\n",
    "    if len(stack)==0:\n",
    "        return True\n",
    "    return False"
   ]
  },
  {
   "cell_type": "markdown",
   "metadata": {},
   "source": [
    "21. [Merge Two Sorted Lists](https://leetcode.com/problems/merge-two-sorted-lists/)"
   ]
  },
  {
   "cell_type": "code",
   "execution_count": 7,
   "metadata": {},
   "outputs": [],
   "source": [
    "def mergeTwoLists(l1, l2):\n",
    "    a = []\n",
    "\n",
    "    while l1:\n",
    "        a.append(l1.val)\n",
    "        l1 = l1.next\n",
    "\n",
    "    while l2:\n",
    "        a.append(l2.val)\n",
    "        l2 = l2.next\n",
    "\n",
    "    a = sorted(a)\n",
    "\n",
    "    root = Node(0)\n",
    "    m = root\n",
    "    for i in range(len(a)):\n",
    "        temp = Node(a[i])\n",
    "        root.next = temp\n",
    "        root = root.next\n",
    "    return m.next\n",
    "\n",
    "# NOTE this is for array only, not linked list\n",
    "# def mergeTwoLists2(l1, l2):\n",
    "#     l3 = []\n",
    "#     while(l1 or l2):\n",
    "#         if not l2 or l1 and l1[0]<=l2[0]:\n",
    "#             l3.append(l1.pop(0))\n",
    "#         else:\n",
    "#             l3.append(l2.pop(0))\n",
    "#     return l3"
   ]
  },
  {
   "cell_type": "code",
   "execution_count": 8,
   "metadata": {},
   "outputs": [],
   "source": [
    "a = Node(1)\n",
    "b = Node(2)\n",
    "c = Node(4)\n",
    "\n",
    "d = Node(1)\n",
    "e = Node(3)\n",
    "f = Node(4)\n",
    "\n",
    "# linked list 1\n",
    "a.next = b\n",
    "b.next = c\n",
    "\n",
    "# linked list 2\n",
    "d.next = e\n",
    "e.next = f"
   ]
  },
  {
   "cell_type": "code",
   "execution_count": 9,
   "metadata": {},
   "outputs": [
    {
     "name": "stdout",
     "output_type": "stream",
     "text": [
      "1\n",
      "1\n",
      "2\n",
      "3\n",
      "4\n",
      "4\n"
     ]
    }
   ],
   "source": [
    "g = mergeTwoLists(a,d)\n",
    "\n",
    "while g:\n",
    "    print(g.val)\n",
    "    g = g.next"
   ]
  },
  {
   "cell_type": "code",
   "execution_count": 10,
   "metadata": {},
   "outputs": [],
   "source": [
    "# h = mergeTwoLists2(a,d)\n",
    "\n",
    "# while h:\n",
    "#     print(h.val)\n",
    "#     h = h.next"
   ]
  },
  {
   "cell_type": "markdown",
   "metadata": {},
   "source": [
    "141. [Linked List Cycle](https://leetcode.com/problems/linked-list-cycle/)"
   ]
  },
  {
   "cell_type": "code",
   "execution_count": 11,
   "metadata": {},
   "outputs": [],
   "source": [
    "def hasCycle(head):\n",
    "    if not head or not head.next:\n",
    "        return False\n",
    "    \n",
    "    slow = head\n",
    "    fast = head.next\n",
    "    while slow!=fast:\n",
    "        if not fast or not fast.next:\n",
    "            return False\n",
    "        slow = slow.next\n",
    "        fast = fast.next.next\n",
    "    return True"
   ]
  },
  {
   "cell_type": "code",
   "execution_count": 12,
   "metadata": {},
   "outputs": [
    {
     "data": {
      "text/plain": [
       "True"
      ]
     },
     "execution_count": 12,
     "metadata": {},
     "output_type": "execute_result"
    }
   ],
   "source": [
    "# with cycle\n",
    "a = Node(1)\n",
    "b = Node(2)\n",
    "c = Node(4)\n",
    "\n",
    "a.next = b\n",
    "b.next = c\n",
    "c.next = a\n",
    "\n",
    "hasCycle(a)"
   ]
  },
  {
   "cell_type": "code",
   "execution_count": 13,
   "metadata": {},
   "outputs": [
    {
     "data": {
      "text/plain": [
       "False"
      ]
     },
     "execution_count": 13,
     "metadata": {},
     "output_type": "execute_result"
    }
   ],
   "source": [
    "# no cycle\n",
    "d = Node(1)\n",
    "e = Node(2)\n",
    "f = Node(4)\n",
    "\n",
    "d.next = e\n",
    "e.next = f\n",
    "\n",
    "hasCycle(d)"
   ]
  },
  {
   "cell_type": "markdown",
   "metadata": {},
   "source": [
    "155. [Min Stack](https://leetcode.com/problems/min-stack/)"
   ]
  },
  {
   "cell_type": "code",
   "execution_count": 14,
   "metadata": {},
   "outputs": [],
   "source": [
    "class MinStack:\n",
    "\n",
    "    def __init__(self):\n",
    "        \"\"\"\n",
    "        initialize your data structure here.\n",
    "        \"\"\"\n",
    "        self.stack = []\n",
    "        \n",
    "\n",
    "    def push(self, x: int) -> None:\n",
    "        return self.stack.append(x)\n",
    "\n",
    "    def pop(self) -> None:\n",
    "        return self.stack.pop()\n",
    "        \n",
    "\n",
    "    def top(self) -> int:\n",
    "        return self.stack[-1]\n",
    "        \n",
    "    def getMin(self) -> int:\n",
    "        return min(self.stack)"
   ]
  },
  {
   "cell_type": "markdown",
   "metadata": {},
   "source": [
    "169. [Majority Elements](https://leetcode.com/problems/majority-element/)"
   ]
  },
  {
   "cell_type": "code",
   "execution_count": 15,
   "metadata": {},
   "outputs": [],
   "source": [
    "b = [3,3,4]"
   ]
  },
  {
   "cell_type": "code",
   "execution_count": 16,
   "metadata": {},
   "outputs": [],
   "source": [
    "def majorityElement(nums):\n",
    "    d = {}\n",
    "    for c in nums:\n",
    "        if c in d:\n",
    "            d[c]+=1\n",
    "        else:\n",
    "            d[c]=1\n",
    "    return max(d, key=lambda k: d[k])"
   ]
  },
  {
   "cell_type": "code",
   "execution_count": 17,
   "metadata": {},
   "outputs": [],
   "source": [
    "assert majorityElement(b)==3"
   ]
  },
  {
   "cell_type": "markdown",
   "metadata": {},
   "source": [
    "202. [Happy Number](https://leetcode.com/problems/happy-number/)"
   ]
  },
  {
   "cell_type": "code",
   "execution_count": 18,
   "metadata": {},
   "outputs": [],
   "source": [
    "def isHappy(n):\n",
    "    i=0\n",
    "    while n!=1:\n",
    "        if i>100:\n",
    "            return False\n",
    "        lst = [int(x)**2 for x in str(n)]\n",
    "        n = sum(lst)\n",
    "        i+=1\n",
    "    return True"
   ]
  },
  {
   "cell_type": "code",
   "execution_count": 19,
   "metadata": {},
   "outputs": [],
   "source": [
    "assert isHappy(19)==True"
   ]
  },
  {
   "cell_type": "markdown",
   "metadata": {},
   "source": [
    "204. [Count Primes](https://leetcode.com/problems/count-primes/)"
   ]
  },
  {
   "cell_type": "code",
   "execution_count": 20,
   "metadata": {},
   "outputs": [],
   "source": [
    "def isPrime(n):\n",
    "    if n==2:\n",
    "        return True\n",
    "    elif n%2==0 or n<2:\n",
    "        return False\n",
    "    else:\n",
    "        for i in range(3,int(np.sqrt(n))+1,2):\n",
    "            if n%i==0:\n",
    "                return False\n",
    "    return True\n",
    "\n",
    "def countPrimes(n):\n",
    "    primes = [x for x in range(n) if isPrime(x)]\n",
    "    return len(primes)"
   ]
  },
  {
   "cell_type": "code",
   "execution_count": 21,
   "metadata": {},
   "outputs": [],
   "source": [
    "assert countPrimes(10)==4"
   ]
  },
  {
   "cell_type": "markdown",
   "metadata": {},
   "source": [
    "242. [Valid Anagram](https://leetcode.com/problems/valid-anagram/)"
   ]
  },
  {
   "cell_type": "code",
   "execution_count": 22,
   "metadata": {},
   "outputs": [],
   "source": [
    "def isAnagram(s, t):\n",
    "    return sorted(s)==sorted(t)"
   ]
  },
  {
   "cell_type": "code",
   "execution_count": 23,
   "metadata": {},
   "outputs": [
    {
     "data": {
      "text/plain": [
       "True"
      ]
     },
     "execution_count": 23,
     "metadata": {},
     "output_type": "execute_result"
    }
   ],
   "source": [
    "isAnagram(\"anagram\",\"nagaram\")"
   ]
  },
  {
   "cell_type": "code",
   "execution_count": 24,
   "metadata": {},
   "outputs": [
    {
     "data": {
      "text/plain": [
       "False"
      ]
     },
     "execution_count": 24,
     "metadata": {},
     "output_type": "execute_result"
    }
   ],
   "source": [
    "isAnagram('rat','car')"
   ]
  },
  {
   "cell_type": "markdown",
   "metadata": {},
   "source": [
    "371. [Sum of Two Integers](https://leetcode.com/problems/sum-of-two-integers/)"
   ]
  },
  {
   "cell_type": "code",
   "execution_count": 25,
   "metadata": {},
   "outputs": [],
   "source": [
    "def getSum(a, b):\n",
    "    return sum([a,b])"
   ]
  },
  {
   "cell_type": "code",
   "execution_count": 26,
   "metadata": {},
   "outputs": [],
   "source": [
    "assert getSum(1,2)==3"
   ]
  },
  {
   "cell_type": "markdown",
   "metadata": {},
   "source": [
    "88. [Merge Sorted Array](https://leetcode.com/problems/merge-sorted-array/)"
   ]
  },
  {
   "cell_type": "code",
   "execution_count": 27,
   "metadata": {},
   "outputs": [],
   "source": [
    "def merge(nums1, m, nums2, n):\n",
    "    \"\"\"Modify nums1 in-place\"\"\"\n",
    "    for i in range(n):\n",
    "        nums1.pop()\n",
    "    for j in range(n):\n",
    "        nums1.append(nums2[j])\n",
    "    nums1.sort()   \n",
    "            \n",
    "def merge2(nums1, m, nums2, n):\n",
    "    \"\"\"Returns sort\"\"\"\n",
    "    sort = []\n",
    "    nums1 = nums1[:m]\n",
    "    while nums1 or nums2:\n",
    "        if nums1 and nums2:\n",
    "            if nums1[0]>nums2[0]:\n",
    "                sort.append(nums2[0])\n",
    "                nums2 = nums2[1:]\n",
    "            else:\n",
    "                sort.append(nums1[0])\n",
    "                nums1 = nums1[1:]\n",
    "        elif nums2:\n",
    "            sort.append(nums2[0])\n",
    "            nums2 = nums2[1:]\n",
    "        else:\n",
    "            sort.append(nums1[0])\n",
    "            nums1 = nums1[1:]\n",
    "    return sort"
   ]
  },
  {
   "cell_type": "code",
   "execution_count": 28,
   "metadata": {},
   "outputs": [],
   "source": [
    "nums1 = [1,2,3,0,0,0]\n",
    "nums2 = [2,5,6]\n",
    "m = 3\n",
    "n = 3\n",
    "\n",
    "merge(nums1, m, nums2, n)\n",
    "assert nums1==[1, 2, 2, 3, 5, 6]"
   ]
  },
  {
   "cell_type": "markdown",
   "metadata": {},
   "source": [
    "108. [Convert Sorted Array to Binary Search Tree](https://leetcode.com/problems/convert-sorted-array-to-binary-search-tree/)"
   ]
  },
  {
   "cell_type": "code",
   "execution_count": null,
   "metadata": {},
   "outputs": [],
   "source": []
  },
  {
   "cell_type": "code",
   "execution_count": 29,
   "metadata": {},
   "outputs": [],
   "source": [
    "def sortedArrayToBST(nums):\n",
    "    \"\"\"STUDY\"\"\"\n",
    "    if not nums: return None\n",
    "    if len(nums)==1: return TreeNode(nums[0])\n",
    "    \n",
    "    size = len(nums)\n",
    "    mid = size//2\n",
    "    root = TreeNode(nums[mid])\n",
    "    \n",
    "    root.left = sortedArrayToBST(nums[:mid])\n",
    "    root.right = sortedArrayToBST(nums[mid+1:])\n",
    "#     if root.left:\n",
    "#         print(f\"LEFT: {root.left.val}\")\n",
    "#     if root.right:\n",
    "#         print(f\"RIGHT: {root.right.val}\")\n",
    "    return root\n",
    "\n",
    "def makeList(TreeNode):\n",
    "    \"\"\"TODO confirm this is working correctly\"\"\"\n",
    "    if TreeNode is None:\n",
    "        return []\n",
    "    return makeList(TreeNode.left) + [TreeNode.val] + makeList(TreeNode.right)\n",
    "\n",
    "def ArrayToBST(nums):\n",
    "    nums = sorted(nums)\n",
    "    root = sortedArrayToBST(nums)\n",
    "    return root"
   ]
  },
  {
   "cell_type": "code",
   "execution_count": 30,
   "metadata": {},
   "outputs": [],
   "source": [
    "arr = [-10,-3,0,5,9]"
   ]
  },
  {
   "cell_type": "code",
   "execution_count": 31,
   "metadata": {},
   "outputs": [],
   "source": [
    "root = sortedArrayToBST(arr)\n",
    "assert makeList(root)==arr"
   ]
  },
  {
   "cell_type": "code",
   "execution_count": 32,
   "metadata": {},
   "outputs": [],
   "source": [
    "root = TreeNode(0)\n",
    "l1 = TreeNode(-3)\n",
    "r1 = TreeNode(9)\n",
    "l2 = TreeNode(-10)\n",
    "r2 = TreeNode(5)"
   ]
  },
  {
   "cell_type": "code",
   "execution_count": 33,
   "metadata": {},
   "outputs": [],
   "source": [
    "root.left = l1\n",
    "root.right = r1\n",
    "l1.left = l2\n",
    "r1.left = r2"
   ]
  },
  {
   "cell_type": "markdown",
   "metadata": {},
   "source": [
    "189. [Rotate Array](https://leetcode.com/problems/rotate-array/)"
   ]
  },
  {
   "cell_type": "code",
   "execution_count": 34,
   "metadata": {},
   "outputs": [],
   "source": [
    "def rotate(nums,k):\n",
    "    \"\"\"In place\"\"\"\n",
    "    for i in range(k):\n",
    "        n = nums.pop()\n",
    "        nums.insert(0,n)\n",
    "\n",
    "def rotate2(nums,k):\n",
    "    return nums[k+1:] + nums[:-k]"
   ]
  },
  {
   "cell_type": "code",
   "execution_count": 35,
   "metadata": {},
   "outputs": [
    {
     "data": {
      "text/plain": [
       "[5, 6, 7, 1, 2, 3, 4]"
      ]
     },
     "execution_count": 35,
     "metadata": {},
     "output_type": "execute_result"
    }
   ],
   "source": [
    "nums = [1,2,3,4,5,6,7]\n",
    "rotate(nums,3)\n",
    "nums"
   ]
  },
  {
   "cell_type": "code",
   "execution_count": 36,
   "metadata": {},
   "outputs": [],
   "source": [
    "nums = [1,2,3,4,5,6,7]\n",
    "assert rotate2(nums,3)==[5, 6, 7, 1, 2, 3, 4]\n",
    "\n",
    "# in line\n",
    "rotate(nums,3)\n",
    "assert nums == [5, 6, 7, 1, 2, 3, 4]"
   ]
  },
  {
   "cell_type": "markdown",
   "metadata": {},
   "source": [
    "205. [Isomorphic Strings](https://leetcode.com/problems/isomorphic-strings/)"
   ]
  },
  {
   "cell_type": "code",
   "execution_count": 37,
   "metadata": {},
   "outputs": [],
   "source": [
    "def isIsomorphic(s,t):\n",
    "    pairs = list(zip(s,t))\n",
    "    return len(set(pairs))==len(set(s))==len(set(t))"
   ]
  },
  {
   "cell_type": "code",
   "execution_count": 38,
   "metadata": {},
   "outputs": [],
   "source": [
    "s = \"egg\"\n",
    "t = \"add\"\n",
    "assert isIsomorphic(\"egg\",\"add\")\n",
    "assert not isIsomorphic(\"foo\",\"bar\")\n",
    "assert isIsomorphic(\"paper\",\"title\")\n",
    "assert not isIsomorphic(\"ab\",\"aa\")"
   ]
  },
  {
   "cell_type": "code",
   "execution_count": null,
   "metadata": {},
   "outputs": [],
   "source": []
  },
  {
   "cell_type": "markdown",
   "metadata": {},
   "source": [
    "226. [Invert Binary Tree](https://leetcode.com/problems/invert-binary-tree/)"
   ]
  },
  {
   "cell_type": "code",
   "execution_count": 39,
   "metadata": {},
   "outputs": [],
   "source": [
    "def invertTree(root):\n",
    "    \"\"\"STUDY\"\"\"\n",
    "    if root is None:\n",
    "        return\n",
    "    \n",
    "    invertTree(root.left)\n",
    "    invertTree(root.right)\n",
    "    \n",
    "    root.left, root.right = root.right, root.left\n",
    "    return root"
   ]
  },
  {
   "cell_type": "code",
   "execution_count": 40,
   "metadata": {},
   "outputs": [
    {
     "data": {
      "text/plain": [
       "[9, 7, 6, 4, 3, 2, 1]"
      ]
     },
     "execution_count": 40,
     "metadata": {},
     "output_type": "execute_result"
    }
   ],
   "source": [
    "inpt = ArrayToBST([4,2,7,1,3,6,9])\n",
    "outp = invertTree(inpt)\n",
    "lst = makeList(outp)\n",
    "lst"
   ]
  },
  {
   "cell_type": "markdown",
   "metadata": {},
   "source": [
    "448. [Find All Numbers Disappeared in an Array](https://leetcode.com/problems/find-all-numbers-disappeared-in-an-array/)"
   ]
  },
  {
   "cell_type": "code",
   "execution_count": 41,
   "metadata": {},
   "outputs": [],
   "source": [
    "def findDisappearedNumbers(nums):\n",
    "    \"\"\"Runtime 352ms\"\"\"\n",
    "    uniques = set(nums)\n",
    "    return [x for x in range(1,len(nums)+1) if x not in uniques]\n",
    "\n",
    "def findDisappearedNumbers1(nums):\n",
    "    \"\"\"Runtime 400ms\"\"\"\n",
    "    d = {}\n",
    "    for i in range(len(nums)):\n",
    "        if nums[i] in d:\n",
    "            d[nums[i]]+=1\n",
    "        else:\n",
    "            d[nums[i]]=1\n",
    "    return [x for x in range(1,len(nums)+1) if x not in d.keys()]\n",
    "\n",
    "\n",
    "def findDisappearedNumbers2(nums):\n",
    "    \"\"\"Time Limit Exceeded\"\"\"\n",
    "    return [x for x in range(1,len(nums)+1) if x not in nums]"
   ]
  },
  {
   "cell_type": "code",
   "execution_count": 42,
   "metadata": {},
   "outputs": [],
   "source": [
    "nums = [4,3,2,7,8,2,3,1]"
   ]
  },
  {
   "cell_type": "code",
   "execution_count": 43,
   "metadata": {},
   "outputs": [],
   "source": [
    "assert findDisappearedNumbers(nums)==[5, 6]\n",
    "assert findDisappearedNumbers([1,1])==[2]"
   ]
  },
  {
   "cell_type": "markdown",
   "metadata": {},
   "source": [
    "572. [Subtree of Another Tree](https://leetcode.com/problems/subtree-of-another-tree/)"
   ]
  },
  {
   "cell_type": "code",
   "execution_count": 44,
   "metadata": {},
   "outputs": [],
   "source": [
    "def isSubtree(s, t):\n",
    "    \"\"\"STUDY\"\"\"\n",
    "    if not (t or s):\n",
    "        return False\n",
    "    return traverseTree(s, t)\n",
    "\n",
    "def traverseTree(tree_leaf, subtree):\n",
    "    if not tree_leaf:\n",
    "        return False\n",
    "    if isStructureSame(tree_leaf, subtree):\n",
    "        return True\n",
    "    \n",
    "    return traverseTree(tree_leaf.left, subtree) or traverseTree(tree_leaf.right, subtree)\n",
    "\n",
    "def isStructureSame(root_s, root_t):\n",
    "    if not (root_s or root_t):\n",
    "        return True\n",
    "    return ((root_s and root_t) and \n",
    "            (root_s.val == root_t.val) and \n",
    "        isStructureSame(root_s.left, root_t.left) and \n",
    "        isStructureSame(root_s.right, root_t.right))"
   ]
  },
  {
   "cell_type": "markdown",
   "metadata": {},
   "source": [
    "557. [Reverse Words in a String III](https://leetcode.com/problems/reverse-words-in-a-string-iii/)"
   ]
  },
  {
   "cell_type": "code",
   "execution_count": 45,
   "metadata": {},
   "outputs": [],
   "source": [
    "def reverseWords(s):\n",
    "    words = s.split(\" \")\n",
    "    reversal = [x[::-1] for x in words]\n",
    "    return \" \".join(reversal)"
   ]
  },
  {
   "cell_type": "code",
   "execution_count": 46,
   "metadata": {},
   "outputs": [],
   "source": [
    "s = \"Let's take LeetCode contest\""
   ]
  },
  {
   "cell_type": "code",
   "execution_count": 47,
   "metadata": {},
   "outputs": [],
   "source": [
    "assert reverseWords(s)==\"s'teL ekat edoCteeL tsetnoc\""
   ]
  },
  {
   "cell_type": "markdown",
   "metadata": {},
   "source": [
    "589. [N-ary Tree Preorder Traversal](https://leetcode.com/problems/n-ary-tree-preorder-traversal/)"
   ]
  },
  {
   "cell_type": "code",
   "execution_count": 48,
   "metadata": {},
   "outputs": [],
   "source": [
    "# class Node:\n",
    "#     def __init__(self, val, children):\n",
    "#         self.val = val\n",
    "#         self.children = children\n",
    "def preorder(root):\n",
    "    \"\"\"STUDY. Iterative\"\"\"\n",
    "    if not root:\n",
    "        return []\n",
    "    res = []\n",
    "    fifo = deque()\n",
    "    fifo.append(root)\n",
    "    while fifo:\n",
    "        node = fifo.popleft()\n",
    "        res.append(node.val)\n",
    "        for c in node.children[::-1]:\n",
    "            fifo.appendleft(c)\n",
    "    return res\n",
    "    \n",
    "\n",
    "def preorder(root):\n",
    "    \"\"\"STUDY.  Recursive\"\"\"\n",
    "    if not root:\n",
    "        return []\n",
    "    result = [root.val]\n",
    "    for c in root.children:\n",
    "        result.extend(preorder(c))\n",
    "    return result"
   ]
  },
  {
   "cell_type": "markdown",
   "metadata": {},
   "source": [
    "605. [Can Place Flowers](https://leetcode.com/problems/can-place-flowers/)"
   ]
  },
  {
   "cell_type": "code",
   "execution_count": 49,
   "metadata": {},
   "outputs": [],
   "source": [
    "class Solution:\n",
    "    def canPlaceFlowers(self, flowerbed, n):\n",
    "        count = 0\n",
    "        if flowerbed==[0]:\n",
    "            return True\n",
    "        for i in range(len(flowerbed)-1):\n",
    "            if flowerbed[i]==0 and flowerbed[i+1]==0 and i==0:\n",
    "                flowerbed[i]=1\n",
    "                count+=1\n",
    "            elif flowerbed[i]==0 and flowerbed[i+1]==0 and i==len(flowerbed)-2:\n",
    "                flowerbed[i+1]=1\n",
    "                count+=1\n",
    "            elif flowerbed[i]==0 and flowerbed[i-1]==0 and flowerbed[i+1]==0:\n",
    "                flowerbed[i]=1\n",
    "                count+=1\n",
    "            else:\n",
    "                pass\n",
    "        print(flowerbed)\n",
    "        return count>=n"
   ]
  },
  {
   "cell_type": "code",
   "execution_count": 50,
   "metadata": {},
   "outputs": [
    {
     "name": "stdout",
     "output_type": "stream",
     "text": [
      "[1, 0, 1, 0, 1, 0, 1]\n"
     ]
    }
   ],
   "source": [
    "flowerbed = [1,0,0,0,1,0,0]\n",
    "n = 2\n",
    "assert Solution().canPlaceFlowers([1,0,0,0,1,0,0], 2)"
   ]
  },
  {
   "cell_type": "code",
   "execution_count": 51,
   "metadata": {},
   "outputs": [],
   "source": [
    "assert Solution().canPlaceFlowers([0], 1)"
   ]
  },
  {
   "cell_type": "markdown",
   "metadata": {},
   "source": [
    "617. [Merge Two Binary Trees](https://leetcode.com/problems/merge-two-binary-trees/)"
   ]
  },
  {
   "cell_type": "code",
   "execution_count": 52,
   "metadata": {},
   "outputs": [],
   "source": [
    "# Definition for a binary tree node.\n",
    "# class TreeNode:\n",
    "#     def __init__(self, x):\n",
    "#         self.val = x\n",
    "#         self.left = None\n",
    "#         self.right = None\n",
    "\n",
    "class Solution:\n",
    "    def mergeTrees(self, t1, t2):\n",
    "        \"\"\"STUDY Recursion\"\"\"\n",
    "        if not t1:\n",
    "            return t2\n",
    "        elif not t2:\n",
    "            return t1\n",
    "        \n",
    "        # preorder traversal\n",
    "        t1.val += t2.val\n",
    "        t1.left = self.mergeTrees(t1.left, t2.left)\n",
    "        t1.right = self.mergeTrees(t1.right, t2.right)\n",
    "        return t1\n",
    "    \n",
    "#     def mergeTrees2(self, t1, t2):\n",
    "#         \"\"\"TODO Iterative\"\"\"\n",
    "#         if not t1:\n",
    "#             return t2\n",
    "#         if not t2:\n",
    "#             return t1\n",
    "#         stack = []\n",
    "#         stack.push(TreeNode)"
   ]
  },
  {
   "cell_type": "markdown",
   "metadata": {},
   "source": [
    "665. [Non-decreasing Array](https://leetcode.com/problems/non-decreasing-array/)"
   ]
  },
  {
   "cell_type": "code",
   "execution_count": 53,
   "metadata": {},
   "outputs": [],
   "source": [
    "class Solution:\n",
    "    def checkPossibility(self, nums):\n",
    "        \"\"\"STUDY Locate and analyze problem index, O(n)\"\"\"\n",
    "        p = None\n",
    "        for i in range(len(nums)-1):\n",
    "            if nums[i]>nums[i+1]:\n",
    "                if p is not None:\n",
    "                    return False\n",
    "                p = i\n",
    "                \n",
    "        return (p is None or \n",
    "                p == 0 or \n",
    "                p == len(nums)-2 or \n",
    "                nums[p-1]<=nums[p+1] or \n",
    "                nums[p]<=nums[p+2])\n",
    "    \n",
    "    \n",
    "    # attempt 1, output limit exceeded \"brute force\"\n",
    "#     def checkIncreasing(self, nums):\n",
    "#         \"\"\"Check if numbers are always increasing\"\"\"\n",
    "#         for i in range(len(nums)-1):\n",
    "#             if nums[i]>nums[i+1]:\n",
    "#                 return False\n",
    "#         return True\n",
    "    \n",
    "#     def checkPossibility(self, nums):\n",
    "#         for i in range(len(nums)):\n",
    "#             nums1 = nums[:i] + nums[i+1:]\n",
    "#             print(nums1)\n",
    "#             if self.checkIncreasing(nums1):\n",
    "#                 return True\n",
    "#         return False"
   ]
  },
  {
   "cell_type": "code",
   "execution_count": 54,
   "metadata": {},
   "outputs": [
    {
     "data": {
      "text/plain": [
       "False"
      ]
     },
     "execution_count": 54,
     "metadata": {},
     "output_type": "execute_result"
    }
   ],
   "source": [
    "Solution().checkPossibility([3,4,2,3])"
   ]
  },
  {
   "cell_type": "code",
   "execution_count": 55,
   "metadata": {},
   "outputs": [
    {
     "data": {
      "text/plain": [
       "True"
      ]
     },
     "execution_count": 55,
     "metadata": {},
     "output_type": "execute_result"
    }
   ],
   "source": [
    "Solution().checkPossibility([2,3,3,2,4])"
   ]
  },
  {
   "cell_type": "code",
   "execution_count": 56,
   "metadata": {},
   "outputs": [],
   "source": [
    "assert Solution().checkPossibility([2,3,3,2,4])\n",
    "assert Solution().checkPossibility([4,2,3])\n",
    "assert not Solution().checkPossibility([3,4,2,3])"
   ]
  },
  {
   "cell_type": "code",
   "execution_count": 57,
   "metadata": {},
   "outputs": [],
   "source": [
    "assert Solution().checkPossibility([1,1,1])\n",
    "assert Solution().checkPossibility([4,2,3])\n",
    "assert Solution().checkPossibility([4,2,1])==False"
   ]
  },
  {
   "cell_type": "markdown",
   "metadata": {},
   "source": [
    "669. [Trim a Binary Search Tree](https://leetcode.com/problems/trim-a-binary-search-tree/)"
   ]
  },
  {
   "cell_type": "code",
   "execution_count": 58,
   "metadata": {},
   "outputs": [],
   "source": [
    "# Definition for a binary tree node.\n",
    "class TreeNode:\n",
    "    def __init__(self, x):\n",
    "        self.val = x\n",
    "        self.left = None\n",
    "        self.right = None\n",
    "\n",
    "class Solution:\n",
    "    def trimBST(self, root: TreeNode, L: int, R: int) -> TreeNode:\n",
    "        \"\"\"STUDY recursion O(n)\"\"\"\n",
    "        def trim(node):\n",
    "            if not node:\n",
    "                return None\n",
    "            elif node.val > R:\n",
    "                return trim(node.left)\n",
    "            elif node.val < L:\n",
    "                return trim(node.right)\n",
    "            else:\n",
    "                node.left = trim(node.left)\n",
    "                node.right = trim(node.right)\n",
    "                return node\n",
    "            \n",
    "        return trim(root)"
   ]
  },
  {
   "cell_type": "markdown",
   "metadata": {},
   "source": [
    "674. [Longest Continuous Increasing Subsequence](https://leetcode.com/problems/longest-continuous-increasing-subsequence/)"
   ]
  },
  {
   "cell_type": "code",
   "execution_count": 59,
   "metadata": {},
   "outputs": [],
   "source": [
    "class Solution:\n",
    "    def findLengthOfLCIS(self, nums):\n",
    "        # traverse once to map breaks\n",
    "        breaks = []\n",
    "        for i in range(len(nums)-1):\n",
    "            if nums[i]>=nums[i+1]:\n",
    "                breaks.append(i+1)\n",
    "        if len(breaks)==len(nums)-1:\n",
    "            return 1\n",
    "        elif len(breaks)==0:\n",
    "            return len(nums)\n",
    "        else:\n",
    "            brk_len = []\n",
    "            for j in range(len(breaks)-1):\n",
    "                brk_len.append(breaks[j+1] - breaks[j])\n",
    "            brk_len.append(breaks[0])\n",
    "            brk_len.append(len(nums)-breaks[-1])\n",
    "        return max(brk_len)\n",
    "    \n",
    "    \n",
    "    # attempt 1, time limit exceeded\n",
    "#     def isIncreasing(self, nums):\n",
    "#         for i in range(len(nums)-1):\n",
    "#             if nums[i]>=nums[i+1]:\n",
    "#                 return False\n",
    "#         return True\n",
    "            \n",
    "    \n",
    "#     def findLengthOfLCIS(self, nums):\n",
    "#         mx = 0\n",
    "#         for i in range(len(nums)):\n",
    "#             for j in range(i,len(nums)+1):\n",
    "#                 arr = nums[i:j]\n",
    "#                 if self.isIncreasing(arr):\n",
    "#                     mx = max(mx, len(arr))\n",
    "#         return mx"
   ]
  },
  {
   "cell_type": "code",
   "execution_count": null,
   "metadata": {},
   "outputs": [],
   "source": []
  },
  {
   "cell_type": "code",
   "execution_count": 60,
   "metadata": {},
   "outputs": [],
   "source": [
    "assert Solution().findLengthOfLCIS([1,3,5,7])==4"
   ]
  },
  {
   "cell_type": "code",
   "execution_count": 61,
   "metadata": {},
   "outputs": [],
   "source": [
    "assert Solution().findLengthOfLCIS([2,2,2,2,2])==1"
   ]
  },
  {
   "cell_type": "markdown",
   "metadata": {},
   "source": [
    "703. [Kth Largest Element in a Stream](https://leetcode.com/problems/kth-largest-element-in-a-stream/)"
   ]
  },
  {
   "cell_type": "code",
   "execution_count": 62,
   "metadata": {},
   "outputs": [],
   "source": [
    "class KthLargest:\n",
    "    \"\"\"STUDY min heap, import heapq, python native support for min heap\"\"\"\n",
    "    def __init__(self, k: int, nums: List[int]):\n",
    "        self.k = k\n",
    "        \n",
    "        # if elements more than K in nums\n",
    "        hp = heapq.nlargest(k, nums)\n",
    "        heapq.heapify(hp)\n",
    "        \n",
    "        self.h = hp\n",
    "\n",
    "    def add(self, val: int) -> int:\n",
    "        \n",
    "        # maintaining a heap of size K\n",
    "        if len(self.h)<self.k:\n",
    "            heapq.heappush(self.h, val)\n",
    "            \n",
    "        # if element is grater than or equal to current kth smallest element, this\n",
    "        # element would now consitute the k largest elements\n",
    "        elif val>= self.h[0]:\n",
    "            heapq.heapreplace(self.h, val)\n",
    "            \n",
    "        # since element at top of heap of K largest elements would be smallest among\n",
    "        # all k elements\n",
    "        return self.h[0]\n",
    "\n",
    "\n",
    "class KthLargest2:\n",
    "    \"\"\"STUDY min heap, full implementation\"\"\"\n",
    "    def __init__(self, k: int, nums: List[int]):\n",
    "        self.k = k\n",
    "        self.nums = nums\n",
    "        self.size = len(nums)\n",
    "        \n",
    "        self.buildMinHeap()\n",
    "        self.resize()\n",
    "        \n",
    "    def heapify(self, i):\n",
    "        left, right = 2*i+1, 2*i+2\n",
    "        minVal = i\n",
    "        \n",
    "        if left < self.size and self.nums[left]<self.nums[minVal]:\n",
    "            minVal = left\n",
    "        if right < self.size and self.nums[right]<self.nums[minVal]:\n",
    "            minVal = right\n",
    "            \n",
    "        if minVal !=i:\n",
    "            self.nums[i], self.nums[minVal] = self.nums[minVal], self.nums[i]\n",
    "            self.heapify(minVal)\n",
    "            \n",
    "    def buildMinHeap(self):\n",
    "        for i in range(self.size // 2 -1, -1, -1):\n",
    "            self.heapify(i)\n",
    "            \n",
    "    def popMin(self):\n",
    "        self.nums[0] = self.nums[self.size - 1]\n",
    "        self.size -= 1\n",
    "        self.heapify(0)\n",
    "        \n",
    "    def insert(self, val):\n",
    "        if self.size == len(self.nums):\n",
    "            self.nums.append(val)\n",
    "        else:\n",
    "            self.nums[self.size] = val\n",
    "        index = self.size\n",
    "        self.size +=1\n",
    "        \n",
    "        while (index - 1)//2 >= 0:\n",
    "            parent = (index - 1)//2\n",
    "            if self.nums[parent]>self.nums[index]:\n",
    "                self.nums[parent], self.nums[index] = self.nums[index], self.nums[parent]\n",
    "                index = parent\n",
    "            else:\n",
    "                break\n",
    "                \n",
    "    def resize(self):\n",
    "        while self.size > self.k:\n",
    "            self.popMin()\n",
    "        \n",
    "\n",
    "    def add(self, val: int) -> int:\n",
    "        self.insert(val)\n",
    "        self.resize()\n",
    "        return self.nums[0]\n",
    "    \n",
    "\n",
    "    # 2nd attempt - output limit exceeded\n",
    "#     def __init__(self, k: int, nums: List[int]):\n",
    "#         self.k = k\n",
    "#         self.nums = sorted(nums)\n",
    "\n",
    "#     def add(self, val: int) -> int:\n",
    "#         i = 0\n",
    "#         print(self.nums, val)\n",
    "#         if len(self.nums)<1 or self.nums[-1]<=val:\n",
    "#             self.nums.append(val)\n",
    "        \n",
    "#         else:\n",
    "#             while self.nums[i]<val and i<=len(self.nums):\n",
    "#                 i+=1\n",
    "#             self.nums.insert(i,val)\n",
    "#         return self.nums[-self.k]   \n",
    "    \n",
    "\n",
    "    # 1st attempt - output limit exceeded\n",
    "#     def __init__(self, k: int, nums: List[int]):\n",
    "#         self.k = k\n",
    "#         self.nums = nums\n",
    "\n",
    "#     def add(self, val: int) -> int:\n",
    "#         self.nums = self.nums + [val]\n",
    "#         print(self.nums)\n",
    "#         return sorted(self.nums)[-self.k]"
   ]
  },
  {
   "cell_type": "code",
   "execution_count": 63,
   "metadata": {},
   "outputs": [],
   "source": [
    "# arr = [4,5,8,2]\n",
    "# obj = KthLargest(3, arr)\n",
    "# obj.add(3)\n",
    "# obj.add(5)\n",
    "# obj.add(10)\n",
    "# obj.add(9)\n",
    "# obj.add(4)"
   ]
  },
  {
   "cell_type": "code",
   "execution_count": 69,
   "metadata": {},
   "outputs": [],
   "source": [
    "obj = KthLargest(1,[])\n",
    "obj.add(-3)\n",
    "obj.add(-2)\n",
    "obj.add(-4)\n",
    "obj.add(0)\n",
    "obj.add(4)"
   ]
  },
  {
   "cell_type": "markdown",
   "metadata": {},
   "source": [
    "705. [Design HashSet](https://leetcode.com/problems/design-hashset/)"
   ]
  },
  {
   "cell_type": "code",
   "execution_count": 85,
   "metadata": {},
   "outputs": [],
   "source": [
    "class ListNode:\n",
    "    \"\"\"For linked list construction\"\"\"\n",
    "    def __init__(self, val):\n",
    "        self.val = val\n",
    "        self.next = None\n",
    "\n",
    "class MyHashSet:\n",
    "    \"\"\"STUDY full implementation in python\"\"\"\n",
    "    def __init__(self, bins=10000):\n",
    "        \"\"\"\n",
    "        Initialize your data structure here.\n",
    "        \"\"\"\n",
    "        self.arr = [None for i in range(bins)]\n",
    "        self.bins = bins\n",
    "\n",
    "    def add(self, key: int) -> None:\n",
    "        d, m = divmod(key, self.bins)\n",
    "        if not self.arr[m]:\n",
    "            self.arr[m] = ListNode(d)\n",
    "        else:\n",
    "            cur = self.arr[m]\n",
    "            while cur:\n",
    "                if cur.val ==d:\n",
    "                    return\n",
    "                pre = cur\n",
    "                cur = cur.next\n",
    "            pre.next = ListNode(d)\n",
    "            \n",
    "    def remove(self, key: int) -> None:\n",
    "        d, m = divmod(key, self.bins)\n",
    "        if not self.arr[m]:\n",
    "            return\n",
    "        else:\n",
    "            head = pre = ListNode(-1)\n",
    "            head.next = pre.next = cur = self.arr[m]\n",
    "            while cur:\n",
    "                if cur.val == d:\n",
    "                    pre.next = cur.next\n",
    "                    self.arr[m] = head.next\n",
    "                    return\n",
    "                pre = cur\n",
    "                cur = cur.next\n",
    "            return \n",
    "\n",
    "    def contains(self, key: int) -> bool:\n",
    "        \"\"\"\n",
    "        Returns true if this set contains the specified element\n",
    "        \"\"\"\n",
    "        d, m = divmod(key, self.bins)\n",
    "        if not self.arr[m]:\n",
    "            return False\n",
    "        else:\n",
    "            cur = self.arr[m]\n",
    "            while cur:\n",
    "                if cur.val == d:\n",
    "                    return True\n",
    "                cur = cur.next\n",
    "            return False\n",
    "\n",
    "\n",
    "\n",
    "class MyHashSet2:\n",
    "    \"\"\"STUDY easy implementation in python\"\"\"\n",
    "    def __init__(self):\n",
    "        \"\"\"\n",
    "        Initialize your data structure here.\n",
    "        \"\"\"\n",
    "        self.data = []\n",
    "        \n",
    "\n",
    "    def add(self, key: int) -> None:\n",
    "        if (key not in self.data):\n",
    "            self.data.append(key)\n",
    "        \n",
    "\n",
    "    def remove(self, key: int) -> None:\n",
    "        if (key in self.data):\n",
    "            self.data.remove(key)\n",
    "        \n",
    "\n",
    "    def contains(self, key: int) -> bool:\n",
    "        \"\"\"\n",
    "        Returns true if this set contains the specified element\n",
    "        \"\"\"\n",
    "        return key in self.data"
   ]
  },
  {
   "cell_type": "code",
   "execution_count": 86,
   "metadata": {},
   "outputs": [],
   "source": [
    "hashSet = MyHashSet()"
   ]
  },
  {
   "cell_type": "code",
   "execution_count": 87,
   "metadata": {},
   "outputs": [],
   "source": [
    "hashSet.add(1)"
   ]
  },
  {
   "cell_type": "code",
   "execution_count": 88,
   "metadata": {},
   "outputs": [],
   "source": [
    "hashSet.add(2)"
   ]
  },
  {
   "cell_type": "code",
   "execution_count": 89,
   "metadata": {},
   "outputs": [
    {
     "data": {
      "text/plain": [
       "True"
      ]
     },
     "execution_count": 89,
     "metadata": {},
     "output_type": "execute_result"
    }
   ],
   "source": [
    "hashSet.contains(1)"
   ]
  },
  {
   "cell_type": "code",
   "execution_count": 90,
   "metadata": {},
   "outputs": [
    {
     "data": {
      "text/plain": [
       "False"
      ]
     },
     "execution_count": 90,
     "metadata": {},
     "output_type": "execute_result"
    }
   ],
   "source": [
    "hashSet.contains(3)"
   ]
  },
  {
   "cell_type": "code",
   "execution_count": 91,
   "metadata": {},
   "outputs": [],
   "source": [
    "hashSet.add(2)"
   ]
  },
  {
   "cell_type": "code",
   "execution_count": 92,
   "metadata": {},
   "outputs": [
    {
     "data": {
      "text/plain": [
       "True"
      ]
     },
     "execution_count": 92,
     "metadata": {},
     "output_type": "execute_result"
    }
   ],
   "source": [
    "hashSet.contains(2)"
   ]
  },
  {
   "cell_type": "code",
   "execution_count": 93,
   "metadata": {},
   "outputs": [],
   "source": [
    "hashSet.remove(2)"
   ]
  },
  {
   "cell_type": "code",
   "execution_count": 94,
   "metadata": {},
   "outputs": [
    {
     "data": {
      "text/plain": [
       "False"
      ]
     },
     "execution_count": 94,
     "metadata": {},
     "output_type": "execute_result"
    }
   ],
   "source": [
    "hashSet.contains(2)"
   ]
  },
  {
   "cell_type": "code",
   "execution_count": null,
   "metadata": {},
   "outputs": [],
   "source": []
  }
 ],
 "metadata": {
  "kernelspec": {
   "display_name": "Algorithms",
   "language": "python",
   "name": "algorithms"
  },
  "language_info": {
   "codemirror_mode": {
    "name": "ipython",
    "version": 3
   },
   "file_extension": ".py",
   "mimetype": "text/x-python",
   "name": "python",
   "nbconvert_exporter": "python",
   "pygments_lexer": "ipython3",
   "version": "3.7.4"
  }
 },
 "nbformat": 4,
 "nbformat_minor": 4
}
