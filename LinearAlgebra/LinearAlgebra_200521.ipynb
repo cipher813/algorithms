{
 "cells": [
  {
   "cell_type": "code",
   "execution_count": 58,
   "metadata": {},
   "outputs": [],
   "source": [
    "import numpy as np"
   ]
  },
  {
   "cell_type": "code",
   "execution_count": 70,
   "metadata": {},
   "outputs": [],
   "source": [
    "class Vector:\n",
    "    def __init__(self, coordinates):\n",
    "        try:\n",
    "            if not coordinates:\n",
    "                raise ValueError\n",
    "            self.coordinates = tuple(coordinates)\n",
    "            self.dimension = len(coordinates)\n",
    "            \n",
    "        except ValueError:\n",
    "            raise ValueError('The coordinates must be nonempty')\n",
    "            \n",
    "        except TypeError:\n",
    "            raise TypeError('The coordinates must be an interable.')\n",
    "            \n",
    "    def __str__(self, decimal=3):\n",
    "        string = f'Vector: {[round(x,decimal) for x in self.coordinates]}'\n",
    "        return string\n",
    "    \n",
    "    def __eq__(self, v):\n",
    "        return self.coordinates == v.coordinates\n",
    "    \n",
    "    def plus(self, v):\n",
    "        new_coordinates = [x + y for x,y in zip(self.coordinates, v.coordinates)]\n",
    "        return Vector(new_coordinates)\n",
    "    \n",
    "    def minus(self, v):\n",
    "        new_coordinates = [x - y for x,y in zip(self.coordinates, v.coordinates)]\n",
    "        return Vector(new_coordinates)\n",
    "    \n",
    "    def times_scalar(self, c):\n",
    "        new_coordinates = [c*x for x in self.coordinates]\n",
    "        return Vector(new_coordinates)\n",
    "    \n",
    "    def magnitude(self):\n",
    "        magnitude = sum([x**2 for x in self.coordinates])**(1/2)\n",
    "        return magnitude\n",
    "    \n",
    "    def normalized(self):\n",
    "#         direction = [x / self.magnitude() for x in self.coordinates]\n",
    "#         return direction\n",
    "        try:\n",
    "            return self.times_scalar(1./self.magnitude())\n",
    "        \n",
    "        except ZeroDivisionError:\n",
    "            raise Exception('Cannot normalize the zero vector')\n",
    "            \n",
    "    def dot_product(self, v):\n",
    "        dot_product = sum([x * y for x,y in zip(self.coordinates, v.coordinates)])\n",
    "        return dot_product\n",
    "    \n",
    "    def angle(self, v, in_degrees=False):\n",
    "        numerator = self.dot_product(v)\n",
    "        denominator = self.magnitude() * v.magnitude()\n",
    "        angle = np.arccos(numerator / denominator)  # in radians\n",
    "        if in_degrees:\n",
    "            angle = np.degrees(angle)\n",
    "        \n",
    "        return angle"
   ]
  },
  {
   "cell_type": "code",
   "execution_count": 69,
   "metadata": {},
   "outputs": [],
   "source": [
    "my_vector = Vector([1,2,3])"
   ]
  },
  {
   "cell_type": "code",
   "execution_count": 70,
   "metadata": {},
   "outputs": [
    {
     "data": {
      "text/plain": [
       "<__main__.Vector at 0x1141c7880>"
      ]
     },
     "execution_count": 70,
     "metadata": {},
     "output_type": "execute_result"
    }
   ],
   "source": [
    "my_vector"
   ]
  },
  {
   "cell_type": "code",
   "execution_count": 71,
   "metadata": {},
   "outputs": [
    {
     "data": {
      "text/plain": [
       "(1, 2, 3)"
      ]
     },
     "execution_count": 71,
     "metadata": {},
     "output_type": "execute_result"
    }
   ],
   "source": [
    "my_vector.coordinates"
   ]
  },
  {
   "cell_type": "code",
   "execution_count": 72,
   "metadata": {},
   "outputs": [
    {
     "data": {
      "text/plain": [
       "3"
      ]
     },
     "execution_count": 72,
     "metadata": {},
     "output_type": "execute_result"
    }
   ],
   "source": [
    "my_vector.dimension"
   ]
  },
  {
   "cell_type": "code",
   "execution_count": 73,
   "metadata": {},
   "outputs": [
    {
     "name": "stdout",
     "output_type": "stream",
     "text": [
      "Vector: [1, 2, 3]\n"
     ]
    }
   ],
   "source": [
    "print(my_vector)"
   ]
  },
  {
   "cell_type": "markdown",
   "metadata": {},
   "source": [
    "# Quiz"
   ]
  },
  {
   "cell_type": "code",
   "execution_count": 74,
   "metadata": {},
   "outputs": [],
   "source": [
    "v1 = Vector([8.218,-9.341])\n",
    "v2 = Vector([-1.129, 2.111])"
   ]
  },
  {
   "cell_type": "code",
   "execution_count": 75,
   "metadata": {},
   "outputs": [
    {
     "name": "stdout",
     "output_type": "stream",
     "text": [
      "Vector: [7.089, -7.23]\n"
     ]
    }
   ],
   "source": [
    "print(v1.plus(v2))"
   ]
  },
  {
   "cell_type": "code",
   "execution_count": 76,
   "metadata": {},
   "outputs": [
    {
     "name": "stdout",
     "output_type": "stream",
     "text": [
      "Vector: [15.342, 7.337]\n"
     ]
    }
   ],
   "source": [
    "v3 = Vector([7.119,8.215])\n",
    "v4 = Vector([-8.223, 0.878])\n",
    "print(v3.minus(v4))"
   ]
  },
  {
   "cell_type": "code",
   "execution_count": 77,
   "metadata": {},
   "outputs": [
    {
     "name": "stdout",
     "output_type": "stream",
     "text": [
      "Vector: [12.382, -7.499, -2.356]\n"
     ]
    }
   ],
   "source": [
    "v5 = Vector([1.671,-1.012,-0.318])\n",
    "print(v5.times_scalar(7.41))"
   ]
  },
  {
   "cell_type": "code",
   "execution_count": 33,
   "metadata": {},
   "outputs": [],
   "source": [
    "# magnitude and direction\n",
    "v6 = Vector([-0.221,7.437])\n",
    "v7 = Vector([8.813,-1.331,-6.247])\n",
    "v8 = Vector([5.581,-2.136])\n",
    "v9 = Vector([1.996,3.108,-4.554])"
   ]
  },
  {
   "cell_type": "code",
   "execution_count": 34,
   "metadata": {},
   "outputs": [
    {
     "data": {
      "text/plain": [
       "7.440282924728065"
      ]
     },
     "execution_count": 34,
     "metadata": {},
     "output_type": "execute_result"
    }
   ],
   "source": [
    "v6.magnitude()"
   ]
  },
  {
   "cell_type": "code",
   "execution_count": 35,
   "metadata": {},
   "outputs": [
    {
     "data": {
      "text/plain": [
       "10.884187567292289"
      ]
     },
     "execution_count": 35,
     "metadata": {},
     "output_type": "execute_result"
    }
   ],
   "source": [
    "v7.magnitude()"
   ]
  },
  {
   "cell_type": "code",
   "execution_count": 39,
   "metadata": {},
   "outputs": [
    {
     "name": "stdout",
     "output_type": "stream",
     "text": [
      "Vector: [0.934, -0.357]\n"
     ]
    }
   ],
   "source": [
    "print(v8.normalized())"
   ]
  },
  {
   "cell_type": "code",
   "execution_count": 40,
   "metadata": {},
   "outputs": [
    {
     "name": "stdout",
     "output_type": "stream",
     "text": [
      "Vector: [0.34, 0.53, -0.777]\n"
     ]
    }
   ],
   "source": [
    "print(v9.normalized())"
   ]
  },
  {
   "cell_type": "code",
   "execution_count": 71,
   "metadata": {},
   "outputs": [],
   "source": [
    "# dot product and angle\n",
    "v10 = Vector([7.887,4.138])\n",
    "w10 = Vector([-8.802,6.776])\n",
    "v11 = Vector([-5.955,-4.904,-1.874])\n",
    "w11 = Vector([-4.496,-8.755,7.103])\n",
    "v12 = Vector([3.183,-7.627])\n",
    "w12 = Vector([-2.668,5.319])\n",
    "v13 = Vector([7.35,0.221,5.188])\n",
    "w13 = Vector([2.751,8.259,3.985])"
   ]
  },
  {
   "cell_type": "code",
   "execution_count": 72,
   "metadata": {},
   "outputs": [
    {
     "name": "stdout",
     "output_type": "stream",
     "text": [
      "-41.382286\n"
     ]
    }
   ],
   "source": [
    "print(v10.dot_product(w10))"
   ]
  },
  {
   "cell_type": "code",
   "execution_count": 73,
   "metadata": {},
   "outputs": [
    {
     "name": "stdout",
     "output_type": "stream",
     "text": [
      "56.397178000000004\n"
     ]
    }
   ],
   "source": [
    "print(v11.dot_product(w11))"
   ]
  },
  {
   "cell_type": "code",
   "execution_count": 74,
   "metadata": {},
   "outputs": [
    {
     "data": {
      "text/plain": [
       "3.0720263098372476"
      ]
     },
     "execution_count": 74,
     "metadata": {},
     "output_type": "execute_result"
    }
   ],
   "source": [
    "v12.angle(w12)"
   ]
  },
  {
   "cell_type": "code",
   "execution_count": 75,
   "metadata": {},
   "outputs": [
    {
     "data": {
      "text/plain": [
       "60.27581120523091"
      ]
     },
     "execution_count": 75,
     "metadata": {},
     "output_type": "execute_result"
    }
   ],
   "source": [
    "v13.angle(w13, in_degrees=True)"
   ]
  },
  {
   "cell_type": "code",
   "execution_count": null,
   "metadata": {},
   "outputs": [],
   "source": []
  }
 ],
 "metadata": {
  "kernelspec": {
   "display_name": "Project",
   "language": "python",
   "name": "project"
  },
  "language_info": {
   "codemirror_mode": {
    "name": "ipython",
    "version": 3
   },
   "file_extension": ".py",
   "mimetype": "text/x-python",
   "name": "python",
   "nbconvert_exporter": "python",
   "pygments_lexer": "ipython3",
   "version": "3.8.2"
  }
 },
 "nbformat": 4,
 "nbformat_minor": 4
}
