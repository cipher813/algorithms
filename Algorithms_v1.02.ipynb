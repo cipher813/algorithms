{
 "cells": [
  {
   "cell_type": "code",
   "execution_count": 1,
   "metadata": {},
   "outputs": [
    {
     "name": "stdout",
     "output_type": "stream",
     "text": [
      "Unsorted array: [9, 1, 8, 2, 12, 7]\n",
      "Applying MergeSort\n",
      "1.\t[9, 1, 8, 2, 12, 7]\n",
      "1.\t[9, 1, 8]\n",
      "1.\t[9]\n",
      "1.\t[1, 8]\n",
      "1.\t[1]\n",
      "1.\t[8]\n",
      "2.\tl[0]<r[0]: 1<8\n",
      "2.\tarr[0]=l[0]=1,[1, 8]\n",
      "3.\tarr[1]=r[0]=8,[1, 8]\n",
      "2.\tl[0]>r[0]: 9>1\n",
      "2.\tarr[0]=r[0]=1,[1, 1, 8]\n",
      "2.\tl[0]>r[1]: 9>8\n",
      "2.\tarr[1]=r[1]=8,[1, 8, 8]\n",
      "3.\tarr[2]=l[0]=9,[1, 8, 9]\n",
      "1.\t[2, 12, 7]\n",
      "1.\t[2]\n",
      "1.\t[12, 7]\n",
      "1.\t[12]\n",
      "1.\t[7]\n",
      "2.\tl[0]>r[0]: 12>7\n",
      "2.\tarr[0]=r[0]=7,[7, 7]\n",
      "3.\tarr[1]=l[0]=12,[7, 12]\n",
      "2.\tl[0]<r[0]: 2<7\n",
      "2.\tarr[0]=l[0]=2,[2, 12, 7]\n",
      "3.\tarr[1]=r[0]=7,[2, 7, 7]\n",
      "3.\tarr[2]=r[1]=12,[2, 7, 12]\n",
      "2.\tl[0]<r[0]: 1<2\n",
      "2.\tarr[0]=l[0]=1,[1, 1, 8, 2, 12, 7]\n",
      "2.\tl[1]>r[0]: 8>2\n",
      "2.\tarr[1]=r[0]=2,[1, 2, 8, 2, 12, 7]\n",
      "2.\tl[1]>r[1]: 8>7\n",
      "2.\tarr[2]=r[1]=7,[1, 2, 7, 2, 12, 7]\n",
      "2.\tl[1]<r[2]: 8<12\n",
      "2.\tarr[3]=l[1]=8,[1, 2, 7, 8, 12, 7]\n",
      "2.\tl[2]<r[2]: 9<12\n",
      "2.\tarr[4]=l[2]=9,[1, 2, 7, 8, 9, 7]\n",
      "3.\tarr[5]=r[2]=12,[1, 2, 7, 8, 9, 12]\n",
      "Sorted array: [1, 2, 7, 8, 9, 12]\n"
     ]
    }
   ],
   "source": [
    "from bm_util import *"
   ]
  },
  {
   "cell_type": "code",
   "execution_count": 2,
   "metadata": {},
   "outputs": [
    {
     "data": {
      "text/plain": [
       "\"'chicken pot pie\\\\n.'\""
      ]
     },
     "execution_count": 2,
     "metadata": {},
     "output_type": "execute_result"
    }
   ],
   "source": [
    "ascii(\"chicken pot pie\\n.\")"
   ]
  },
  {
   "cell_type": "code",
   "execution_count": 3,
   "metadata": {},
   "outputs": [
    {
     "data": {
      "text/plain": [
       "'0b1110'"
      ]
     },
     "execution_count": 3,
     "metadata": {},
     "output_type": "execute_result"
    }
   ],
   "source": [
    "format(14, '#b')"
   ]
  },
  {
   "cell_type": "code",
   "execution_count": 4,
   "metadata": {},
   "outputs": [
    {
     "data": {
      "text/plain": [
       "'1110'"
      ]
     },
     "execution_count": 4,
     "metadata": {},
     "output_type": "execute_result"
    }
   ],
   "source": [
    "format(14, 'b')"
   ]
  },
  {
   "cell_type": "code",
   "execution_count": 5,
   "metadata": {},
   "outputs": [
    {
     "data": {
      "text/plain": [
       "'a'"
      ]
     },
     "execution_count": 5,
     "metadata": {},
     "output_type": "execute_result"
    }
   ],
   "source": [
    "chr(97)"
   ]
  },
  {
   "cell_type": "code",
   "execution_count": 6,
   "metadata": {},
   "outputs": [
    {
     "data": {
      "text/plain": [
       "'e'"
      ]
     },
     "execution_count": 6,
     "metadata": {},
     "output_type": "execute_result"
    }
   ],
   "source": [
    "chr(101)"
   ]
  },
  {
   "cell_type": "code",
   "execution_count": 7,
   "metadata": {},
   "outputs": [
    {
     "data": {
      "text/plain": [
       "97"
      ]
     },
     "execution_count": 7,
     "metadata": {},
     "output_type": "execute_result"
    }
   ],
   "source": [
    "ord('a')"
   ]
  },
  {
   "cell_type": "code",
   "execution_count": 8,
   "metadata": {},
   "outputs": [
    {
     "data": {
      "text/plain": [
       "['In',\n",
       " 'Out',\n",
       " '_',\n",
       " '_2',\n",
       " '_3',\n",
       " '_4',\n",
       " '_5',\n",
       " '_6',\n",
       " '_7',\n",
       " '__',\n",
       " '___',\n",
       " '__builtin__',\n",
       " '__builtins__',\n",
       " '__doc__',\n",
       " '__loader__',\n",
       " '__name__',\n",
       " '__package__',\n",
       " '__spec__',\n",
       " '_dh',\n",
       " '_i',\n",
       " '_i1',\n",
       " '_i2',\n",
       " '_i3',\n",
       " '_i4',\n",
       " '_i5',\n",
       " '_i6',\n",
       " '_i7',\n",
       " '_i8',\n",
       " '_ih',\n",
       " '_ii',\n",
       " '_iii',\n",
       " '_oh',\n",
       " 'binary_search',\n",
       " 'exit',\n",
       " 'fibonacci',\n",
       " 'find_primes',\n",
       " 'func',\n",
       " 'functions',\n",
       " 'gcd',\n",
       " 'get_ipython',\n",
       " 'isprime',\n",
       " 'isprime2',\n",
       " 'isprime3',\n",
       " 'itertools',\n",
       " 'mergesort',\n",
       " 'multiply_binary',\n",
       " 'np',\n",
       " 'prime_list',\n",
       " 'quit']"
      ]
     },
     "execution_count": 8,
     "metadata": {},
     "output_type": "execute_result"
    }
   ],
   "source": [
    "dir()"
   ]
  },
  {
   "cell_type": "code",
   "execution_count": 9,
   "metadata": {},
   "outputs": [
    {
     "data": {
      "text/plain": [
       "[0, 1, 8, 27, 64, 125, 216, 343, 512, 729]"
      ]
     },
     "execution_count": 9,
     "metadata": {},
     "output_type": "execute_result"
    }
   ],
   "source": [
    "from itertools import repeat\n",
    "\n",
    "listy = [1,2,3]\n",
    "\n",
    "list(map(pow, range(10), repeat(3)))"
   ]
  },
  {
   "cell_type": "code",
   "execution_count": 10,
   "metadata": {},
   "outputs": [],
   "source": [
    "def infinity_generator(item_list):\n",
    "    for item in itertools.repeat(item_list):\n",
    "        yield item"
   ]
  },
  {
   "cell_type": "code",
   "execution_count": 11,
   "metadata": {},
   "outputs": [],
   "source": [
    "chicken = infinity_generator(listy)"
   ]
  },
  {
   "cell_type": "code",
   "execution_count": 12,
   "metadata": {},
   "outputs": [
    {
     "data": {
      "text/plain": [
       "[1, 2, 3]"
      ]
     },
     "execution_count": 12,
     "metadata": {},
     "output_type": "execute_result"
    }
   ],
   "source": [
    "next(chicken)"
   ]
  },
  {
   "cell_type": "code",
   "execution_count": 13,
   "metadata": {},
   "outputs": [],
   "source": [
    "raw = 'ABC'\n",
    "\n",
    "functions = [str.isalnum, str.isalpha, str.isupper]\n",
    "\n",
    "for func in functions:\n",
    "    assert any(func(letter) for letter in raw)"
   ]
  },
  {
   "cell_type": "code",
   "execution_count": 14,
   "metadata": {},
   "outputs": [
    {
     "data": {
      "text/plain": [
       "128"
      ]
     },
     "execution_count": 14,
     "metadata": {},
     "output_type": "execute_result"
    }
   ],
   "source": [
    "2**7"
   ]
  },
  {
   "cell_type": "code",
   "execution_count": 15,
   "metadata": {},
   "outputs": [
    {
     "data": {
      "text/plain": [
       "2"
      ]
     },
     "execution_count": 15,
     "metadata": {},
     "output_type": "execute_result"
    }
   ],
   "source": [
    "128%7"
   ]
  },
  {
   "cell_type": "code",
   "execution_count": 16,
   "metadata": {},
   "outputs": [
    {
     "data": {
      "text/plain": [
       "262144"
      ]
     },
     "execution_count": 16,
     "metadata": {},
     "output_type": "execute_result"
    }
   ],
   "source": [
    "2**18"
   ]
  },
  {
   "cell_type": "code",
   "execution_count": 17,
   "metadata": {},
   "outputs": [
    {
     "data": {
      "text/plain": [
       "10"
      ]
     },
     "execution_count": 17,
     "metadata": {},
     "output_type": "execute_result"
    }
   ],
   "source": [
    "262144%18"
   ]
  },
  {
   "cell_type": "code",
   "execution_count": 18,
   "metadata": {},
   "outputs": [
    {
     "data": {
      "text/plain": [
       "10"
      ]
     },
     "execution_count": 18,
     "metadata": {},
     "output_type": "execute_result"
    }
   ],
   "source": [
    "2**18%18"
   ]
  },
  {
   "cell_type": "code",
   "execution_count": 19,
   "metadata": {},
   "outputs": [
    {
     "data": {
      "text/plain": [
       "False"
      ]
     },
     "execution_count": 19,
     "metadata": {},
     "output_type": "execute_result"
    }
   ],
   "source": [
    "isprime(18)"
   ]
  },
  {
   "cell_type": "code",
   "execution_count": null,
   "metadata": {},
   "outputs": [],
   "source": []
  },
  {
   "cell_type": "code",
   "execution_count": 20,
   "metadata": {},
   "outputs": [],
   "source": [
    "def isprime(number):\n",
    "    if number%2==0 or number<2:\n",
    "        return False\n",
    "    else:\n",
    "        for i in range(3,int(np.sqrt(number))+1,2):\n",
    "            if number%i==0:\n",
    "                return False\n",
    "    return True\n",
    "\n",
    "def isprime2(number):\n",
    "    carmichael_list = [5,7,11,13]\n",
    "    for div in carmichael_list:\n",
    "        if number%div==0:\n",
    "            return False\n",
    "    return 2 in [number,pow(2, number, number)]\n",
    "\n",
    "def isprime3(number):\n",
    "    \"\"\"Note that this misses carmichael numbers\"\"\"\n",
    "    return 2 in [number,pow(2, number, number)]\n",
    "\n",
    "functions = [isprime, isprime2] \n",
    "\n",
    "for func in functions:\n",
    "    assert func(19)==True\n",
    "    assert func(25)==False\n",
    "    assert func(341)==False\n",
    "    assert func(561)==False\n",
    "    assert func(1105)==False\n",
    "    assert func(41257781)==True\n",
    "    assert func(2064991007)==True"
   ]
  },
  {
   "cell_type": "code",
   "execution_count": 21,
   "metadata": {},
   "outputs": [
    {
     "name": "stdout",
     "output_type": "stream",
     "text": [
      "3.11 ms ± 366 µs per loop (mean ± std. dev. of 7 runs, 100 loops each)\n"
     ]
    }
   ],
   "source": [
    "%timeit isprime(2064991007)"
   ]
  },
  {
   "cell_type": "code",
   "execution_count": 22,
   "metadata": {},
   "outputs": [
    {
     "name": "stdout",
     "output_type": "stream",
     "text": [
      "7.19 µs ± 491 ns per loop (mean ± std. dev. of 7 runs, 100000 loops each)\n"
     ]
    }
   ],
   "source": [
    "%timeit isprime2(2064991007)"
   ]
  },
  {
   "cell_type": "code",
   "execution_count": 23,
   "metadata": {},
   "outputs": [
    {
     "name": "stdout",
     "output_type": "stream",
     "text": [
      "6.02 µs ± 156 ns per loop (mean ± std. dev. of 7 runs, 100000 loops each)\n"
     ]
    }
   ],
   "source": [
    "%timeit isprime3(2064991007)"
   ]
  },
  {
   "cell_type": "code",
   "execution_count": 28,
   "metadata": {},
   "outputs": [
    {
     "name": "stdout",
     "output_type": "stream",
     "text": [
      "119 µs ± 2.14 µs per loop (mean ± std. dev. of 7 runs, 10000 loops each)\n"
     ]
    }
   ],
   "source": [
    "%timeit list(filter(isprime,range(1,100)))"
   ]
  },
  {
   "cell_type": "code",
   "execution_count": 29,
   "metadata": {},
   "outputs": [
    {
     "name": "stdout",
     "output_type": "stream",
     "text": [
      "96.9 µs ± 521 ns per loop (mean ± std. dev. of 7 runs, 10000 loops each)\n"
     ]
    }
   ],
   "source": [
    "%timeit list(filter(isprime3,range(1,100)))"
   ]
  },
  {
   "cell_type": "code",
   "execution_count": null,
   "metadata": {},
   "outputs": [],
   "source": []
  }
 ],
 "metadata": {
  "kernelspec": {
   "display_name": "Python 3.7",
   "language": "python",
   "name": "python37"
  },
  "language_info": {
   "codemirror_mode": {
    "name": "ipython",
    "version": 3
   },
   "file_extension": ".py",
   "mimetype": "text/x-python",
   "name": "python",
   "nbconvert_exporter": "python",
   "pygments_lexer": "ipython3",
   "version": "3.7.2"
  }
 },
 "nbformat": 4,
 "nbformat_minor": 2
}
