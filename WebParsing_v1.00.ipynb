{
 "cells": [
  {
   "cell_type": "markdown",
   "metadata": {},
   "source": [
    "# Web Parsing\n",
    "\n",
    "April 2019"
   ]
  },
  {
   "cell_type": "code",
   "execution_count": 1,
   "metadata": {},
   "outputs": [],
   "source": [
    "import re\n",
    "import requests\n",
    "import pandas as pd\n",
    "from bs4 import BeautifulSoup\n",
    "from bm_util import parse_table_from_url"
   ]
  },
  {
   "cell_type": "markdown",
   "metadata": {},
   "source": [
    "### Billboard Top 100 Songs"
   ]
  },
  {
   "cell_type": "code",
   "execution_count": 2,
   "metadata": {},
   "outputs": [],
   "source": [
    "def parse_billboard_100():\n",
    "    \"\"\"Parse billboard 100 into dataframe.\"\"\"\n",
    "    page=requests.get('https://www.billboard.com/charts/hot-100')\n",
    "    soup=BeautifulSoup(page.content,'html.parser')\n",
    "    chart = soup.find(class_=\"chart-details\")\n",
    "    items = chart.find_all(class_=\"chart-list-item\")\n",
    "#     print(items[0].prettify())\n",
    "    top100 = {}\n",
    "\n",
    "    for i in range(len(items)):\n",
    "        song = re.sub(r\"[^0-9a-zA-Z(): ]+\",\"\",items[i].find(class_=\"chart-list-item__title-text\").get_text())\n",
    "        artist = re.sub(r\"[^0-9a-zA-Z(): ]+\",\"\",items[i].find(class_=\"chart-list-item__artist\").get_text())\n",
    "        lyrics = None\n",
    "        try:\n",
    "            url = items[i].find(class_=\"chart-list-item__lyrics\").find('a')['href']\n",
    "            page=requests.get(url)\n",
    "            soup=BeautifulSoup(page.content,'html.parser')\n",
    "            lyric_section = soup.find(class_=\"article__body js-fitvids-content\")\n",
    "            lyric_item = lyric_section.find_all(class_=\"lyrics\")\n",
    "            lyrics = lyric_item[0].get_text().split(\"\\xa0\")[0]\n",
    "        except Exception as e:\n",
    "            pass\n",
    "        top100[i] = {\"Artist\":artist, \"Song\":song, \"Lyrics\":lyrics}\n",
    "\n",
    "    top100 = pd.DataFrame(top100).T[['Artist','Song','Lyrics']]\n",
    "    return top100"
   ]
  },
  {
   "cell_type": "code",
   "execution_count": 4,
   "metadata": {},
   "outputs": [
    {
     "name": "stdout",
     "output_type": "stream",
     "text": [
      "(100, 3)\n"
     ]
    },
    {
     "data": {
      "text/html": [
       "<div>\n",
       "<style scoped>\n",
       "    .dataframe tbody tr th:only-of-type {\n",
       "        vertical-align: middle;\n",
       "    }\n",
       "\n",
       "    .dataframe tbody tr th {\n",
       "        vertical-align: top;\n",
       "    }\n",
       "\n",
       "    .dataframe thead th {\n",
       "        text-align: right;\n",
       "    }\n",
       "</style>\n",
       "<table border=\"1\" class=\"dataframe\">\n",
       "  <thead>\n",
       "    <tr style=\"text-align: right;\">\n",
       "      <th></th>\n",
       "      <th>Artist</th>\n",
       "      <th>Song</th>\n",
       "      <th>Lyrics</th>\n",
       "    </tr>\n",
       "  </thead>\n",
       "  <tbody>\n",
       "    <tr>\n",
       "      <th>0</th>\n",
       "      <td>Ariana Grande</td>\n",
       "      <td>7 Rings</td>\n",
       "      <td>Yeah, breakfast at Tiffany's and bottles of bu...</td>\n",
       "    </tr>\n",
       "    <tr>\n",
       "      <th>1</th>\n",
       "      <td>Post Malone</td>\n",
       "      <td>Wow</td>\n",
       "      <td>Post Malone's newest single \"Wow.\" was release...</td>\n",
       "    </tr>\n",
       "    <tr>\n",
       "      <th>2</th>\n",
       "      <td>Post Malone  Swae Lee</td>\n",
       "      <td>Sunflower (SpiderMan: Into The SpiderVerse)</td>\n",
       "      <td>Ayy, ayy, ayy, ayy (ooh)Ooh, ooh, ooh, ohh (oo...</td>\n",
       "    </tr>\n",
       "    <tr>\n",
       "      <th>3</th>\n",
       "      <td>Halsey</td>\n",
       "      <td>Without Me</td>\n",
       "      <td>Found you when your heart was brokeI filled yo...</td>\n",
       "    </tr>\n",
       "    <tr>\n",
       "      <th>4</th>\n",
       "      <td>Cardi B  Bruno Mars</td>\n",
       "      <td>Please Me</td>\n",
       "      <td>Uh, uh, yeah, come onPlease me, babyTurn aroun...</td>\n",
       "    </tr>\n",
       "  </tbody>\n",
       "</table>\n",
       "</div>"
      ],
      "text/plain": [
       "                  Artist                                          Song  \\\n",
       "0          Ariana Grande                                       7 Rings   \n",
       "1            Post Malone                                           Wow   \n",
       "2  Post Malone  Swae Lee   Sunflower (SpiderMan: Into The SpiderVerse)   \n",
       "3                 Halsey                                    Without Me   \n",
       "4    Cardi B  Bruno Mars                                     Please Me   \n",
       "\n",
       "                                              Lyrics  \n",
       "0  Yeah, breakfast at Tiffany's and bottles of bu...  \n",
       "1  Post Malone's newest single \"Wow.\" was release...  \n",
       "2  Ayy, ayy, ayy, ayy (ooh)Ooh, ooh, ooh, ohh (oo...  \n",
       "3  Found you when your heart was brokeI filled yo...  \n",
       "4  Uh, uh, yeah, come onPlease me, babyTurn aroun...  "
      ]
     },
     "execution_count": 4,
     "metadata": {},
     "output_type": "execute_result"
    }
   ],
   "source": [
    "top100 = parse_billboard_100()\n",
    "print(top100.shape)\n",
    "top100.head()"
   ]
  },
  {
   "cell_type": "code",
   "execution_count": 20,
   "metadata": {},
   "outputs": [
    {
     "data": {
      "text/plain": [
       "'Yeah, breakfast at Tiffany\\'s and bottles of bubblesGirls with tattoos who like getting in troubleLashes and diamonds, ATM machinesBuy myself all of my favorite things (Yeah)Been through some bad shit, I should be a sad bitchWho woulda thought it\\'d turn me to a savage?Rather be tied up with calls and not stringsWrite my own checks like I write what I sing, yeah (Yeah)My wrist, stop watchin\\', my neck is flossin\\'Make big deposits, my gloss is poppin\\'You like my hair? Gee, thanks, just bought itI see it, I like it, I want it, I got it (Yeah)I want it, I got it, I want it, I got itI want it, I got it, I want it, I got itYou like my hair? Gee, thanks, just bought itI see it, I like it, I want it, I got it (Yeah)Wearing a ring, but ain\\'t gon\\' be no \"Mrs.\"Bought matching diamonds for six of my bitchesI\\'d rather spoil all my friends with my richesThink retail therapy my new addictionWhoever said money can\\'t solve your problemsMust not have had enough money to solve \\'emThey say, \"Which one?\" I say, \"Nah, I want all of \\'em\"Happiness is the same price as red-bottomsMy smile is beamin\\', my skin is gleamin\\'The way it shine, I know you\\'ve seen it (You\\'ve seen it)I bought a crib just for the closetBoth his and hers, I want it, I got it, yeahI want it, I got it, I want it, I got itI want it, I got it, I want it, I got it (Baby)You like my hair? Gee, thanks, just bought it (Oh yeah)I see it, I like it, I want it, I got it (Yeah)Yeah, my receipts, be lookin\\' like phone numbersIf it ain\\'t money, then wrong numberBlack card is my business cardThe way it be settin\\' the tone for meI don\\'t mean to brag, but I be like, \"Put it in the bag,\" yeahWhen you see them racks, they stacked up like my ass, yeahShoot, go from the store to the boothMake it all back in one loop, give me the lootNever mind, I got the juiceNothing but net when we shootLook at my neck, look at my jetAin\\'t got enough money to pay me respectAin\\'t no budget when I\\'m on the setIf I like it, then that\\'s what I get, yeahI want it, I got it, I want it, I got it (Yeah)I want it, I got it, I want it, I got it (Oh yeah, yeah)You like my hair? Gee, thanks, just bought itI see it, I like it, I want it, I got it (Yeah)'"
      ]
     },
     "execution_count": 20,
     "metadata": {},
     "output_type": "execute_result"
    }
   ],
   "source": [
    "top100[\"Lyrics\"].iloc[0]"
   ]
  },
  {
   "cell_type": "markdown",
   "metadata": {},
   "source": [
    "### National Weather Service\n",
    "\n",
    "Based on DataQuest tutorial [here](https://www.dataquest.io/blog/web-scraping-tutorial-python/)."
   ]
  },
  {
   "cell_type": "code",
   "execution_count": 8,
   "metadata": {},
   "outputs": [
    {
     "name": "stdout",
     "output_type": "stream",
     "text": [
      "<div class=\"tombstone-container\">\n",
      " <p class=\"period-name\">\n",
      "  Tonight\n",
      "  <br/>\n",
      "  <br/>\n",
      " </p>\n",
      " <p>\n",
      "  <img alt=\"Tonight: Mostly cloudy, with a low around 54. West southwest wind 13 to 18 mph becoming south 6 to 11 mph after midnight. Winds could gust as high as 23 mph. \" class=\"forecast-icon\" src=\"newimages/medium/nbkn.png\" title=\"Tonight: Mostly cloudy, with a low around 54. West southwest wind 13 to 18 mph becoming south 6 to 11 mph after midnight. Winds could gust as high as 23 mph. \"/>\n",
      " </p>\n",
      " <p class=\"short-desc\">\n",
      "  Mostly Cloudy\n",
      " </p>\n",
      " <p class=\"temp temp-low\">\n",
      "  Low: 54 °F\n",
      " </p>\n",
      "</div>\n"
     ]
    }
   ],
   "source": [
    "page=requests.get('https://forecast.weather.gov/MapClick.php?lat=37.7772&lon=-122.4168#.XKkpwOtKjm0')\n",
    "soup=BeautifulSoup(page.content,'html.parser')\n",
    "seven_day = soup.find(id=\"seven-day-forecast\")\n",
    "forecast_items = seven_day.find_all(class_=\"tombstone-container\")\n",
    "tonight = forecast_items[0]\n",
    "print(tonight.prettify())"
   ]
  },
  {
   "cell_type": "code",
   "execution_count": 9,
   "metadata": {},
   "outputs": [
    {
     "name": "stdout",
     "output_type": "stream",
     "text": [
      "Tonight Mostly Cloudy Low: 54 °F\n"
     ]
    }
   ],
   "source": [
    "period = tonight.find(class_=\"period-name\").get_text()\n",
    "short_desc = tonight.find(class_=\"short-desc\").get_text()\n",
    "temp = tonight.find(class_=\"temp\").get_text()\n",
    "print(period, short_desc, temp)"
   ]
  },
  {
   "cell_type": "code",
   "execution_count": 10,
   "metadata": {},
   "outputs": [
    {
     "name": "stdout",
     "output_type": "stream",
     "text": [
      "Tonight: Mostly cloudy, with a low around 54. West southwest wind 13 to 18 mph becoming south 6 to 11 mph after midnight. Winds could gust as high as 23 mph. \n"
     ]
    }
   ],
   "source": [
    "img = tonight.find(\"img\")\n",
    "desc = img['title']\n",
    "print(desc)"
   ]
  },
  {
   "cell_type": "code",
   "execution_count": 11,
   "metadata": {},
   "outputs": [
    {
     "data": {
      "text/plain": [
       "['Tonight',\n",
       " 'Sunday',\n",
       " 'SundayNight',\n",
       " 'Monday',\n",
       " 'MondayNight',\n",
       " 'Tuesday',\n",
       " 'TuesdayNight',\n",
       " 'Wednesday',\n",
       " 'WednesdayNight']"
      ]
     },
     "execution_count": 11,
     "metadata": {},
     "output_type": "execute_result"
    }
   ],
   "source": [
    "period_tags = seven_day.select(\".tombstone-container .period-name\")\n",
    "periods = [pt.get_text() for pt in period_tags]\n",
    "periods"
   ]
  },
  {
   "cell_type": "code",
   "execution_count": 12,
   "metadata": {},
   "outputs": [
    {
     "name": "stdout",
     "output_type": "stream",
     "text": [
      "['Mostly Cloudy', 'DecreasingClouds', 'Mostly Cloudy', 'ChanceShowers', 'ChanceShowers', 'Mostly Sunny', 'Clear', 'Sunny', 'Mostly Clear'] ['Low: 54 °F', 'High: 68 °F', 'Low: 56 °F', 'High: 67 °F', 'Low: 52 °F', 'High: 64 °F', 'Low: 50 °F', 'High: 64 °F', 'Low: 49 °F'] ['Tonight: Mostly cloudy, with a low around 54. West southwest wind 13 to 18 mph becoming south 6 to 11 mph after midnight. Winds could gust as high as 23 mph. ', 'Sunday: Cloudy, then gradually becoming mostly sunny, with a high near 68. South southeast wind 6 to 13 mph becoming west in the afternoon. ', 'Sunday Night: Mostly cloudy, with a low around 56. West wind 7 to 13 mph. ', 'Monday: A 30 percent chance of showers after 11am.  Mostly cloudy, with a high near 67. Light and variable wind becoming west southwest 8 to 13 mph in the morning. ', 'Monday Night: A 50 percent chance of showers.  Mostly cloudy, with a low around 52. West northwest wind 13 to 15 mph, with gusts as high as 18 mph.  New precipitation amounts of less than a tenth of an inch possible. ', 'Tuesday: Mostly sunny, with a high near 64.', 'Tuesday Night: Clear, with a low around 50.', 'Wednesday: Sunny, with a high near 64.', 'Wednesday Night: Mostly clear, with a low around 49.']\n"
     ]
    }
   ],
   "source": [
    "short_descs = [sd.get_text() for sd in seven_day.select(\".tombstone-container .short-desc\")]\n",
    "temps = [t.get_text() for t in seven_day.select(\".tombstone-container .temp\")]\n",
    "descs = [d[\"title\"] for d in seven_day.select(\".tombstone-container img\")]\n",
    "print(short_descs, temps, descs)"
   ]
  },
  {
   "cell_type": "code",
   "execution_count": 13,
   "metadata": {},
   "outputs": [
    {
     "data": {
      "text/html": [
       "<div>\n",
       "<style scoped>\n",
       "    .dataframe tbody tr th:only-of-type {\n",
       "        vertical-align: middle;\n",
       "    }\n",
       "\n",
       "    .dataframe tbody tr th {\n",
       "        vertical-align: top;\n",
       "    }\n",
       "\n",
       "    .dataframe thead th {\n",
       "        text-align: right;\n",
       "    }\n",
       "</style>\n",
       "<table border=\"1\" class=\"dataframe\">\n",
       "  <thead>\n",
       "    <tr style=\"text-align: right;\">\n",
       "      <th></th>\n",
       "      <th>period</th>\n",
       "      <th>short_desc</th>\n",
       "      <th>temp</th>\n",
       "      <th>desc</th>\n",
       "    </tr>\n",
       "  </thead>\n",
       "  <tbody>\n",
       "    <tr>\n",
       "      <th>0</th>\n",
       "      <td>Tonight</td>\n",
       "      <td>Mostly Cloudy</td>\n",
       "      <td>Low: 54 °F</td>\n",
       "      <td>Tonight: Mostly cloudy, with a low around 54. ...</td>\n",
       "    </tr>\n",
       "    <tr>\n",
       "      <th>1</th>\n",
       "      <td>Sunday</td>\n",
       "      <td>DecreasingClouds</td>\n",
       "      <td>High: 68 °F</td>\n",
       "      <td>Sunday: Cloudy, then gradually becoming mostly...</td>\n",
       "    </tr>\n",
       "    <tr>\n",
       "      <th>2</th>\n",
       "      <td>SundayNight</td>\n",
       "      <td>Mostly Cloudy</td>\n",
       "      <td>Low: 56 °F</td>\n",
       "      <td>Sunday Night: Mostly cloudy, with a low around...</td>\n",
       "    </tr>\n",
       "    <tr>\n",
       "      <th>3</th>\n",
       "      <td>Monday</td>\n",
       "      <td>ChanceShowers</td>\n",
       "      <td>High: 67 °F</td>\n",
       "      <td>Monday: A 30 percent chance of showers after 1...</td>\n",
       "    </tr>\n",
       "    <tr>\n",
       "      <th>4</th>\n",
       "      <td>MondayNight</td>\n",
       "      <td>ChanceShowers</td>\n",
       "      <td>Low: 52 °F</td>\n",
       "      <td>Monday Night: A 50 percent chance of showers. ...</td>\n",
       "    </tr>\n",
       "    <tr>\n",
       "      <th>5</th>\n",
       "      <td>Tuesday</td>\n",
       "      <td>Mostly Sunny</td>\n",
       "      <td>High: 64 °F</td>\n",
       "      <td>Tuesday: Mostly sunny, with a high near 64.</td>\n",
       "    </tr>\n",
       "    <tr>\n",
       "      <th>6</th>\n",
       "      <td>TuesdayNight</td>\n",
       "      <td>Clear</td>\n",
       "      <td>Low: 50 °F</td>\n",
       "      <td>Tuesday Night: Clear, with a low around 50.</td>\n",
       "    </tr>\n",
       "    <tr>\n",
       "      <th>7</th>\n",
       "      <td>Wednesday</td>\n",
       "      <td>Sunny</td>\n",
       "      <td>High: 64 °F</td>\n",
       "      <td>Wednesday: Sunny, with a high near 64.</td>\n",
       "    </tr>\n",
       "    <tr>\n",
       "      <th>8</th>\n",
       "      <td>WednesdayNight</td>\n",
       "      <td>Mostly Clear</td>\n",
       "      <td>Low: 49 °F</td>\n",
       "      <td>Wednesday Night: Mostly clear, with a low arou...</td>\n",
       "    </tr>\n",
       "  </tbody>\n",
       "</table>\n",
       "</div>"
      ],
      "text/plain": [
       "           period        short_desc         temp  \\\n",
       "0         Tonight     Mostly Cloudy   Low: 54 °F   \n",
       "1          Sunday  DecreasingClouds  High: 68 °F   \n",
       "2     SundayNight     Mostly Cloudy   Low: 56 °F   \n",
       "3          Monday     ChanceShowers  High: 67 °F   \n",
       "4     MondayNight     ChanceShowers   Low: 52 °F   \n",
       "5         Tuesday      Mostly Sunny  High: 64 °F   \n",
       "6    TuesdayNight             Clear   Low: 50 °F   \n",
       "7       Wednesday             Sunny  High: 64 °F   \n",
       "8  WednesdayNight      Mostly Clear   Low: 49 °F   \n",
       "\n",
       "                                                desc  \n",
       "0  Tonight: Mostly cloudy, with a low around 54. ...  \n",
       "1  Sunday: Cloudy, then gradually becoming mostly...  \n",
       "2  Sunday Night: Mostly cloudy, with a low around...  \n",
       "3  Monday: A 30 percent chance of showers after 1...  \n",
       "4  Monday Night: A 50 percent chance of showers. ...  \n",
       "5        Tuesday: Mostly sunny, with a high near 64.  \n",
       "6        Tuesday Night: Clear, with a low around 50.  \n",
       "7             Wednesday: Sunny, with a high near 64.  \n",
       "8  Wednesday Night: Mostly clear, with a low arou...  "
      ]
     },
     "execution_count": 13,
     "metadata": {},
     "output_type": "execute_result"
    }
   ],
   "source": [
    "weather = pd.DataFrame({\"period\":periods, \"short_desc\":short_descs,\"temp\":temps,\"desc\":descs})\n",
    "weather"
   ]
  },
  {
   "cell_type": "code",
   "execution_count": 14,
   "metadata": {},
   "outputs": [
    {
     "data": {
      "text/plain": [
       "0    54\n",
       "1    68\n",
       "2    56\n",
       "3    67\n",
       "4    52\n",
       "5    64\n",
       "6    50\n",
       "7    64\n",
       "8    49\n",
       "Name: temp_num, dtype: object"
      ]
     },
     "execution_count": 14,
     "metadata": {},
     "output_type": "execute_result"
    }
   ],
   "source": [
    "temp_nums = weather[\"temp\"].str.extract(\"(?P<temp_num>\\d+)\",expand=False)\n",
    "weather[\"temp_num\"] = temp_nums.astype('int')\n",
    "temp_nums"
   ]
  },
  {
   "cell_type": "code",
   "execution_count": 15,
   "metadata": {},
   "outputs": [
    {
     "data": {
      "text/plain": [
       "58.22222222222222"
      ]
     },
     "execution_count": 15,
     "metadata": {},
     "output_type": "execute_result"
    }
   ],
   "source": [
    "weather[\"temp_num\"].mean()"
   ]
  },
  {
   "cell_type": "code",
   "execution_count": 16,
   "metadata": {},
   "outputs": [
    {
     "data": {
      "text/plain": [
       "0     True\n",
       "1    False\n",
       "2     True\n",
       "3    False\n",
       "4     True\n",
       "5    False\n",
       "6     True\n",
       "7    False\n",
       "8     True\n",
       "Name: temp, dtype: bool"
      ]
     },
     "execution_count": 16,
     "metadata": {},
     "output_type": "execute_result"
    }
   ],
   "source": [
    "is_night = weather[\"temp\"].str.contains(\"Low\")\n",
    "weather[\"is_night\"] = is_night\n",
    "is_night"
   ]
  },
  {
   "cell_type": "code",
   "execution_count": 17,
   "metadata": {},
   "outputs": [
    {
     "data": {
      "text/html": [
       "<div>\n",
       "<style scoped>\n",
       "    .dataframe tbody tr th:only-of-type {\n",
       "        vertical-align: middle;\n",
       "    }\n",
       "\n",
       "    .dataframe tbody tr th {\n",
       "        vertical-align: top;\n",
       "    }\n",
       "\n",
       "    .dataframe thead th {\n",
       "        text-align: right;\n",
       "    }\n",
       "</style>\n",
       "<table border=\"1\" class=\"dataframe\">\n",
       "  <thead>\n",
       "    <tr style=\"text-align: right;\">\n",
       "      <th></th>\n",
       "      <th>period</th>\n",
       "      <th>short_desc</th>\n",
       "      <th>temp</th>\n",
       "      <th>desc</th>\n",
       "      <th>temp_num</th>\n",
       "      <th>is_night</th>\n",
       "    </tr>\n",
       "  </thead>\n",
       "  <tbody>\n",
       "    <tr>\n",
       "      <th>0</th>\n",
       "      <td>Tonight</td>\n",
       "      <td>Mostly Cloudy</td>\n",
       "      <td>Low: 54 °F</td>\n",
       "      <td>Tonight: Mostly cloudy, with a low around 54. ...</td>\n",
       "      <td>54</td>\n",
       "      <td>True</td>\n",
       "    </tr>\n",
       "    <tr>\n",
       "      <th>2</th>\n",
       "      <td>SundayNight</td>\n",
       "      <td>Mostly Cloudy</td>\n",
       "      <td>Low: 56 °F</td>\n",
       "      <td>Sunday Night: Mostly cloudy, with a low around...</td>\n",
       "      <td>56</td>\n",
       "      <td>True</td>\n",
       "    </tr>\n",
       "    <tr>\n",
       "      <th>4</th>\n",
       "      <td>MondayNight</td>\n",
       "      <td>ChanceShowers</td>\n",
       "      <td>Low: 52 °F</td>\n",
       "      <td>Monday Night: A 50 percent chance of showers. ...</td>\n",
       "      <td>52</td>\n",
       "      <td>True</td>\n",
       "    </tr>\n",
       "    <tr>\n",
       "      <th>6</th>\n",
       "      <td>TuesdayNight</td>\n",
       "      <td>Clear</td>\n",
       "      <td>Low: 50 °F</td>\n",
       "      <td>Tuesday Night: Clear, with a low around 50.</td>\n",
       "      <td>50</td>\n",
       "      <td>True</td>\n",
       "    </tr>\n",
       "    <tr>\n",
       "      <th>8</th>\n",
       "      <td>WednesdayNight</td>\n",
       "      <td>Mostly Clear</td>\n",
       "      <td>Low: 49 °F</td>\n",
       "      <td>Wednesday Night: Mostly clear, with a low arou...</td>\n",
       "      <td>49</td>\n",
       "      <td>True</td>\n",
       "    </tr>\n",
       "  </tbody>\n",
       "</table>\n",
       "</div>"
      ],
      "text/plain": [
       "           period     short_desc        temp  \\\n",
       "0         Tonight  Mostly Cloudy  Low: 54 °F   \n",
       "2     SundayNight  Mostly Cloudy  Low: 56 °F   \n",
       "4     MondayNight  ChanceShowers  Low: 52 °F   \n",
       "6    TuesdayNight          Clear  Low: 50 °F   \n",
       "8  WednesdayNight   Mostly Clear  Low: 49 °F   \n",
       "\n",
       "                                                desc  temp_num  is_night  \n",
       "0  Tonight: Mostly cloudy, with a low around 54. ...        54      True  \n",
       "2  Sunday Night: Mostly cloudy, with a low around...        56      True  \n",
       "4  Monday Night: A 50 percent chance of showers. ...        52      True  \n",
       "6        Tuesday Night: Clear, with a low around 50.        50      True  \n",
       "8  Wednesday Night: Mostly clear, with a low arou...        49      True  "
      ]
     },
     "execution_count": 17,
     "metadata": {},
     "output_type": "execute_result"
    }
   ],
   "source": [
    "weather[is_night]"
   ]
  },
  {
   "cell_type": "markdown",
   "metadata": {},
   "source": [
    "### CoinMarketCap\n",
    "\n",
    "Coins"
   ]
  },
  {
   "cell_type": "code",
   "execution_count": 18,
   "metadata": {},
   "outputs": [
    {
     "data": {
      "text/html": [
       "<div>\n",
       "<style scoped>\n",
       "    .dataframe tbody tr th:only-of-type {\n",
       "        vertical-align: middle;\n",
       "    }\n",
       "\n",
       "    .dataframe tbody tr th {\n",
       "        vertical-align: top;\n",
       "    }\n",
       "\n",
       "    .dataframe thead th {\n",
       "        text-align: right;\n",
       "    }\n",
       "</style>\n",
       "<table border=\"1\" class=\"dataframe\">\n",
       "  <thead>\n",
       "    <tr style=\"text-align: right;\">\n",
       "      <th></th>\n",
       "      <th>Symbol</th>\n",
       "      <th>MarketCap</th>\n",
       "      <th>Price</th>\n",
       "      <th>CirculatingSupply</th>\n",
       "      <th>Volume24h</th>\n",
       "    </tr>\n",
       "    <tr>\n",
       "      <th>#</th>\n",
       "      <th></th>\n",
       "      <th></th>\n",
       "      <th></th>\n",
       "      <th></th>\n",
       "      <th></th>\n",
       "    </tr>\n",
       "  </thead>\n",
       "  <tbody>\n",
       "    <tr>\n",
       "      <th>1</th>\n",
       "      <td>BTC</td>\n",
       "      <td>$89,370,801,942</td>\n",
       "      <td>$5068.78</td>\n",
       "      <td>17,631,637</td>\n",
       "      <td>$16,860,451,693</td>\n",
       "    </tr>\n",
       "    <tr>\n",
       "      <th>2</th>\n",
       "      <td>ETH</td>\n",
       "      <td>$17,519,882,358</td>\n",
       "      <td>$165.98</td>\n",
       "      <td>105,552,349</td>\n",
       "      <td>$7,144,151,100</td>\n",
       "    </tr>\n",
       "    <tr>\n",
       "      <th>3</th>\n",
       "      <td>XRP</td>\n",
       "      <td>$14,745,247,317</td>\n",
       "      <td>$0.353232</td>\n",
       "      <td>41,743,765,071</td>\n",
       "      <td>$1,480,023,096</td>\n",
       "    </tr>\n",
       "    <tr>\n",
       "      <th>4</th>\n",
       "      <td>LTC</td>\n",
       "      <td>$5,660,723,072</td>\n",
       "      <td>$92.45</td>\n",
       "      <td>61,227,111</td>\n",
       "      <td>$3,851,366,411</td>\n",
       "    </tr>\n",
       "    <tr>\n",
       "      <th>5</th>\n",
       "      <td>BCH</td>\n",
       "      <td>$5,405,941,927</td>\n",
       "      <td>$305.17</td>\n",
       "      <td>17,714,350</td>\n",
       "      <td>$2,089,444,804</td>\n",
       "    </tr>\n",
       "  </tbody>\n",
       "</table>\n",
       "</div>"
      ],
      "text/plain": [
       "  Symbol        MarketCap      Price CirculatingSupply        Volume24h\n",
       "#                                                                      \n",
       "1    BTC  $89,370,801,942   $5068.78        17,631,637  $16,860,451,693\n",
       "2    ETH  $17,519,882,358    $165.98       105,552,349   $7,144,151,100\n",
       "3    XRP  $14,745,247,317  $0.353232    41,743,765,071   $1,480,023,096\n",
       "4    LTC   $5,660,723,072     $92.45        61,227,111   $3,851,366,411\n",
       "5    BCH   $5,405,941,927    $305.17        17,714,350   $2,089,444,804"
      ]
     },
     "execution_count": 18,
     "metadata": {},
     "output_type": "execute_result"
    }
   ],
   "source": [
    "coin = parse_table_from_url('https://coinmarketcap.com/all/views/all/')\n",
    "coin = coin.iloc[:,1:6]\n",
    "coin['CirculatingSupply'] = (pd.to_numeric(coin['CirculatingSupply']. \\\n",
    "                                      apply(lambda x: re.sub(r'[\\W+]',\"\",x)), \\\n",
    "                                      errors='coerce').map('{:,.0f}'.format))\n",
    "coin.head()"
   ]
  },
  {
   "cell_type": "markdown",
   "metadata": {},
   "source": [
    "Exchanges"
   ]
  },
  {
   "cell_type": "code",
   "execution_count": 19,
   "metadata": {},
   "outputs": [
    {
     "data": {
      "text/html": [
       "<div>\n",
       "<style scoped>\n",
       "    .dataframe tbody tr th:only-of-type {\n",
       "        vertical-align: middle;\n",
       "    }\n",
       "\n",
       "    .dataframe tbody tr th {\n",
       "        vertical-align: top;\n",
       "    }\n",
       "\n",
       "    .dataframe thead th {\n",
       "        text-align: right;\n",
       "    }\n",
       "</style>\n",
       "<table border=\"1\" class=\"dataframe\">\n",
       "  <thead>\n",
       "    <tr style=\"text-align: right;\">\n",
       "      <th></th>\n",
       "      <th>Name</th>\n",
       "      <th>AdjVol24h</th>\n",
       "      <th>Volume24h</th>\n",
       "      <th>Volume7d</th>\n",
       "      <th>Volume30d</th>\n",
       "      <th>NoMarkets</th>\n",
       "      <th>Change24h</th>\n",
       "      <th>Launched</th>\n",
       "    </tr>\n",
       "    <tr>\n",
       "      <th>#</th>\n",
       "      <th></th>\n",
       "      <th></th>\n",
       "      <th></th>\n",
       "      <th></th>\n",
       "      <th></th>\n",
       "      <th></th>\n",
       "      <th></th>\n",
       "      <th></th>\n",
       "    </tr>\n",
       "  </thead>\n",
       "  <tbody>\n",
       "    <tr>\n",
       "      <th>1</th>\n",
       "      <td>DigiFinex</td>\n",
       "      <td>$1,543,920,332</td>\n",
       "      <td>$1,543,920,332</td>\n",
       "      <td>$11,196,613,859</td>\n",
       "      <td>$26,197,484,896</td>\n",
       "      <td>164</td>\n",
       "      <td>0.40%</td>\n",
       "      <td>Apr 2018</td>\n",
       "    </tr>\n",
       "    <tr>\n",
       "      <th>2</th>\n",
       "      <td>OKEx</td>\n",
       "      <td>$1,538,333,814</td>\n",
       "      <td>$1,538,333,814</td>\n",
       "      <td>$12,195,123,799</td>\n",
       "      <td>$27,374,946,424</td>\n",
       "      <td>379</td>\n",
       "      <td>12.17%</td>\n",
       "      <td>Jan 2014</td>\n",
       "    </tr>\n",
       "    <tr>\n",
       "      <th>3</th>\n",
       "      <td>Binance</td>\n",
       "      <td>$1,305,593,668</td>\n",
       "      <td>$1,305,593,668</td>\n",
       "      <td>$11,044,970,718</td>\n",
       "      <td>$31,977,026,306</td>\n",
       "      <td>463</td>\n",
       "      <td>-3.13%</td>\n",
       "      <td>Jul 2017</td>\n",
       "    </tr>\n",
       "    <tr>\n",
       "      <th>4</th>\n",
       "      <td>BitForex</td>\n",
       "      <td>$1,262,299,350</td>\n",
       "      <td>$1,262,299,350</td>\n",
       "      <td>$8,188,482,182</td>\n",
       "      <td>$22,613,525,923</td>\n",
       "      <td>181</td>\n",
       "      <td>19.56%</td>\n",
       "      <td>Jun 2018</td>\n",
       "    </tr>\n",
       "    <tr>\n",
       "      <th>5</th>\n",
       "      <td>HitBTC</td>\n",
       "      <td>$1,214,801,686</td>\n",
       "      <td>$1,214,801,686</td>\n",
       "      <td>$7,482,134,895</td>\n",
       "      <td>$21,883,797,199</td>\n",
       "      <td>790</td>\n",
       "      <td>-13.69%</td>\n",
       "      <td>Feb 2014</td>\n",
       "    </tr>\n",
       "  </tbody>\n",
       "</table>\n",
       "</div>"
      ],
      "text/plain": [
       "        Name       AdjVol24h       Volume24h         Volume7d  \\\n",
       "#                                                               \n",
       "1  DigiFinex  $1,543,920,332  $1,543,920,332  $11,196,613,859   \n",
       "2       OKEx  $1,538,333,814  $1,538,333,814  $12,195,123,799   \n",
       "3    Binance  $1,305,593,668  $1,305,593,668  $11,044,970,718   \n",
       "4   BitForex  $1,262,299,350  $1,262,299,350   $8,188,482,182   \n",
       "5     HitBTC  $1,214,801,686  $1,214,801,686   $7,482,134,895   \n",
       "\n",
       "         Volume30d  NoMarkets Change24h  Launched  \n",
       "#                                                  \n",
       "1  $26,197,484,896        164     0.40%  Apr 2018  \n",
       "2  $27,374,946,424        379    12.17%  Jan 2014  \n",
       "3  $31,977,026,306        463    -3.13%  Jul 2017  \n",
       "4  $22,613,525,923        181    19.56%  Jun 2018  \n",
       "5  $21,883,797,199        790   -13.69%  Feb 2014  "
      ]
     },
     "execution_count": 19,
     "metadata": {},
     "output_type": "execute_result"
    }
   ],
   "source": [
    "exchange = parse_table_from_url('https://coinmarketcap.com/rankings/exchanges/')\n",
    "exchange.drop('VolGraph7d',axis=1,inplace=True)\n",
    "exchange.head()"
   ]
  },
  {
   "cell_type": "markdown",
   "metadata": {},
   "source": [
    "### TCG Player"
   ]
  },
  {
   "cell_type": "code",
   "execution_count": null,
   "metadata": {},
   "outputs": [],
   "source": [
    "df = parse_table_from_url(\"https://shop.tcgplayer.com/price-guide/magic/ice-age\")\n",
    "df.drop([\"PriceTrend\",\"Unnamed7\"],axis=1,inplace=True)\n",
    "df.head()"
   ]
  }
 ],
 "metadata": {
  "kernelspec": {
   "display_name": "Python 3.7",
   "language": "python",
   "name": "python37"
  },
  "language_info": {
   "codemirror_mode": {
    "name": "ipython",
    "version": 3
   },
   "file_extension": ".py",
   "mimetype": "text/x-python",
   "name": "python",
   "nbconvert_exporter": "python",
   "pygments_lexer": "ipython3",
   "version": "3.7.2"
  }
 },
 "nbformat": 4,
 "nbformat_minor": 2
}
