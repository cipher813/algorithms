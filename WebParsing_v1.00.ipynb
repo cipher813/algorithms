{
 "cells": [
  {
   "cell_type": "markdown",
   "metadata": {},
   "source": [
    "# Web Parsing\n",
    "\n",
    "April 2019"
   ]
  },
  {
   "cell_type": "code",
   "execution_count": 1,
   "metadata": {},
   "outputs": [],
   "source": [
    "import re\n",
    "import requests\n",
    "import pandas as pd\n",
    "from bs4 import BeautifulSoup"
   ]
  },
  {
   "cell_type": "markdown",
   "metadata": {},
   "source": [
    "### CoinMarketCap"
   ]
  },
  {
   "cell_type": "code",
   "execution_count": 2,
   "metadata": {},
   "outputs": [],
   "source": [
    "def parse_coinmarketcap():\n",
    "    \"\"\"Download CoinMarketCap market snapshot.\"\"\"\n",
    "    url = 'https://coinmarketcap.com/all/views/all/'\n",
    "    response=requests.get(url)\n",
    "    page=response.text\n",
    "    soup=BeautifulSoup(page,\"lxml\")\n",
    "    tables=soup.find_all(\"table\")\n",
    "    rows=[row for row in tables[0].find_all('tr')]\n",
    "\n",
    "    df = pd.read_html(tables[0].prettify())[0]\n",
    "    df = df.iloc[:,1:6]\n",
    "    df['Circulating Supply'] = (pd.to_numeric(df['Circulating Supply']. \\\n",
    "                                          apply(lambda x: re.sub(r'[\\W+]',\"\",x)), \\\n",
    "                                          errors='coerce').map('{:,.0f}'.format))\n",
    "    return df"
   ]
  },
  {
   "cell_type": "code",
   "execution_count": 3,
   "metadata": {},
   "outputs": [
    {
     "name": "stdout",
     "output_type": "stream",
     "text": [
      "(2154, 11)\n",
      "(2154, 5)\n"
     ]
    },
    {
     "data": {
      "text/html": [
       "<div>\n",
       "<style scoped>\n",
       "    .dataframe tbody tr th:only-of-type {\n",
       "        vertical-align: middle;\n",
       "    }\n",
       "\n",
       "    .dataframe tbody tr th {\n",
       "        vertical-align: top;\n",
       "    }\n",
       "\n",
       "    .dataframe thead th {\n",
       "        text-align: right;\n",
       "    }\n",
       "</style>\n",
       "<table border=\"1\" class=\"dataframe\">\n",
       "  <thead>\n",
       "    <tr style=\"text-align: right;\">\n",
       "      <th></th>\n",
       "      <th>Name</th>\n",
       "      <th>Symbol</th>\n",
       "      <th>Market Cap</th>\n",
       "      <th>Price</th>\n",
       "      <th>Circulating Supply</th>\n",
       "    </tr>\n",
       "  </thead>\n",
       "  <tbody>\n",
       "    <tr>\n",
       "      <th>0</th>\n",
       "      <td>BTC  Bitcoin</td>\n",
       "      <td>BTC</td>\n",
       "      <td>$88,830,158,723</td>\n",
       "      <td>$5038.18</td>\n",
       "      <td>17,631,387</td>\n",
       "    </tr>\n",
       "    <tr>\n",
       "      <th>1</th>\n",
       "      <td>ETH  Ethereum</td>\n",
       "      <td>ETH</td>\n",
       "      <td>$17,480,911,232</td>\n",
       "      <td>$165.62</td>\n",
       "      <td>105,550,449</td>\n",
       "    </tr>\n",
       "    <tr>\n",
       "      <th>2</th>\n",
       "      <td>XRP  XRP</td>\n",
       "      <td>XRP</td>\n",
       "      <td>$14,918,722,220</td>\n",
       "      <td>$0.357388</td>\n",
       "      <td>41,743,765,071</td>\n",
       "    </tr>\n",
       "    <tr>\n",
       "      <th>3</th>\n",
       "      <td>LTC  Litecoin</td>\n",
       "      <td>LTC</td>\n",
       "      <td>$5,538,708,361</td>\n",
       "      <td>$90.46</td>\n",
       "      <td>61,225,161</td>\n",
       "    </tr>\n",
       "    <tr>\n",
       "      <th>4</th>\n",
       "      <td>BCH  Bitcoin Cash</td>\n",
       "      <td>BCH</td>\n",
       "      <td>$5,253,355,187</td>\n",
       "      <td>$296.56</td>\n",
       "      <td>17,714,188</td>\n",
       "    </tr>\n",
       "  </tbody>\n",
       "</table>\n",
       "</div>"
      ],
      "text/plain": [
       "                Name Symbol       Market Cap      Price Circulating Supply\n",
       "0       BTC  Bitcoin    BTC  $88,830,158,723   $5038.18         17,631,387\n",
       "1      ETH  Ethereum    ETH  $17,480,911,232    $165.62        105,550,449\n",
       "2           XRP  XRP    XRP  $14,918,722,220  $0.357388     41,743,765,071\n",
       "3      LTC  Litecoin    LTC   $5,538,708,361     $90.46         61,225,161\n",
       "4  BCH  Bitcoin Cash    BCH   $5,253,355,187    $296.56         17,714,188"
      ]
     },
     "execution_count": 3,
     "metadata": {},
     "output_type": "execute_result"
    }
   ],
   "source": [
    "df = parse_coinmarketcap()\n",
    "df.head()"
   ]
  },
  {
   "cell_type": "code",
   "execution_count": null,
   "metadata": {},
   "outputs": [],
   "source": []
  }
 ],
 "metadata": {
  "kernelspec": {
   "display_name": "Python 3.7",
   "language": "python",
   "name": "python37"
  },
  "language_info": {
   "codemirror_mode": {
    "name": "ipython",
    "version": 3
   },
   "file_extension": ".py",
   "mimetype": "text/x-python",
   "name": "python",
   "nbconvert_exporter": "python",
   "pygments_lexer": "ipython3",
   "version": "3.7.2"
  }
 },
 "nbformat": 4,
 "nbformat_minor": 2
}
