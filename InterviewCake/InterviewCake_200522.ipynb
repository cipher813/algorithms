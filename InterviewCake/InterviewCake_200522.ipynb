{
 "cells": [
  {
   "cell_type": "code",
   "execution_count": 1,
   "metadata": {},
   "outputs": [],
   "source": [
    "import re\n",
    "import random\n",
    "import pandas as pd\n",
    "import numpy as np\n",
    "import collections\n",
    "import itertools\n",
    "import functools\n",
    "import heapq\n",
    "from typing import List, Tuple"
   ]
  },
  {
   "cell_type": "code",
   "execution_count": 2,
   "metadata": {},
   "outputs": [],
   "source": [
    "def merge_ranges(meeting_ranges: List[Tuple[int,int]]):\n",
    "    mr = sorted(meeting_ranges)\n",
    "    print(mr)\n",
    "    con = [mr[0]]\n",
    "    for rng in mr[1:]:\n",
    "        if rng[0]<=con[-1][1]:\n",
    "            a = con.pop()\n",
    "            start = min(a[0],rng[0])\n",
    "            end = max(a[1], rng[1])\n",
    "            con.append((start, end))\n",
    "        else:\n",
    "            con.append(rng)\n",
    "    return con"
   ]
  },
  {
   "cell_type": "code",
   "execution_count": 3,
   "metadata": {},
   "outputs": [],
   "source": [
    "meeting_ranges = [(0, 1), (3, 5), (4, 8), (10, 12), (9, 10)]"
   ]
  },
  {
   "cell_type": "code",
   "execution_count": 4,
   "metadata": {},
   "outputs": [
    {
     "name": "stdout",
     "output_type": "stream",
     "text": [
      "[(0, 1), (3, 5), (4, 8), (9, 10), (10, 12)]\n"
     ]
    },
    {
     "data": {
      "text/plain": [
       "[(0, 1), (3, 8), (9, 12)]"
      ]
     },
     "execution_count": 4,
     "metadata": {},
     "output_type": "execute_result"
    }
   ],
   "source": [
    "merge_ranges(meeting_ranges)"
   ]
  },
  {
   "cell_type": "code",
   "execution_count": 5,
   "metadata": {},
   "outputs": [
    {
     "name": "stdout",
     "output_type": "stream",
     "text": [
      "[(1, 2), (2, 3)]\n"
     ]
    },
    {
     "data": {
      "text/plain": [
       "[(1, 3)]"
      ]
     },
     "execution_count": 5,
     "metadata": {},
     "output_type": "execute_result"
    }
   ],
   "source": [
    "merge_ranges([(1,2),(2,3)])"
   ]
  },
  {
   "cell_type": "code",
   "execution_count": 6,
   "metadata": {},
   "outputs": [
    {
     "name": "stdout",
     "output_type": "stream",
     "text": [
      "[(1, 5), (2, 3)]\n"
     ]
    },
    {
     "data": {
      "text/plain": [
       "[(1, 5)]"
      ]
     },
     "execution_count": 6,
     "metadata": {},
     "output_type": "execute_result"
    }
   ],
   "source": [
    "merge_ranges([(1,5),(2,3)])"
   ]
  },
  {
   "cell_type": "code",
   "execution_count": 7,
   "metadata": {},
   "outputs": [
    {
     "name": "stdout",
     "output_type": "stream",
     "text": [
      "[(1, 10), (2, 6), (3, 5), (7, 9)]\n"
     ]
    },
    {
     "data": {
      "text/plain": [
       "[(1, 10)]"
      ]
     },
     "execution_count": 7,
     "metadata": {},
     "output_type": "execute_result"
    }
   ],
   "source": [
    "merge_ranges([(1, 10), (2, 6), (3, 5), (7, 9)])"
   ]
  },
  {
   "cell_type": "code",
   "execution_count": 8,
   "metadata": {},
   "outputs": [],
   "source": [
    "def reverse(char_list):\n",
    "    left_idx = 0\n",
    "    right_idx = len(char_list) -1\n",
    "    \n",
    "    while left_idx < right_idx:\n",
    "        char_list[left_idx], char_list[right_idx] = char_list[right_idx], char_list[left_idx]\n",
    "        \n",
    "        left_idx +=1\n",
    "        right_idx -=1\n",
    "        \n",
    "\n",
    "# def reverse_letters(char_list):\n",
    "#     return char_list[::-1]"
   ]
  },
  {
   "cell_type": "code",
   "execution_count": 9,
   "metadata": {},
   "outputs": [
    {
     "data": {
      "text/plain": [
       "['c', 'b', 'a']"
      ]
     },
     "execution_count": 9,
     "metadata": {},
     "output_type": "execute_result"
    }
   ],
   "source": [
    "char_list = ['a','b','c']\n",
    "reverse(char_list)\n",
    "char_list"
   ]
  },
  {
   "cell_type": "code",
   "execution_count": 10,
   "metadata": {},
   "outputs": [],
   "source": [
    "def reverse_words(message):\n",
    "    \"\"\"SOLUTION\"\"\"\n",
    "    # reverse all characters in entire message\n",
    "    # which gives right word order but each word backward\n",
    "    reverse_characters(message, 0, len(message)-1)\n",
    "    \n",
    "    # hold index of start of current word\n",
    "    # as we look for end of current word\n",
    "    current_word_start_idx = 0\n",
    "    \n",
    "    for i in range(len(message)+1):\n",
    "        # found end of current word\n",
    "        if i==len(message) or message[i]==\" \":\n",
    "            reverse_characters(message, current_word_start_idx, i-1)\n",
    "            \n",
    "            # if we haven't exhausted message, \n",
    "            # next word's start is one char ahead\n",
    "            current_word_start_idx = i +1\n",
    "    \n",
    "\n",
    "    \n",
    "def reverse_characters(message, left_idx, right_idx):\n",
    "    \"\"\"helper function\"\"\"\n",
    "    # walk towards middle, from both sides\n",
    "    while left_idx < right_idx:\n",
    "        # swap left char and right char\n",
    "        message[left_idx], message[right_idx] = message[right_idx], message[left_idx]\n",
    "        left_idx +=1\n",
    "        right_idx -=1\n",
    "        \n",
    "\n",
    "\n",
    "# def reverse_words1(message):\n",
    "    \n",
    "#     breaks = [0]\n",
    "#     for i in range(len(message)):\n",
    "#         if message[i]==\" \":\n",
    "#             breaks.append(i+1)\n",
    "#     breaks.append(len(message)+1)\n",
    "#     print(breaks)\n",
    "    \n",
    "#     for j in range(1,len(breaks)):\n",
    "#         message[breaks[j-1]:breaks[j]] = \n",
    "#         print(breaks[j])\n",
    "    \n",
    "#     message = reverse(message)\n",
    "#     breaks = [0, len(message)+1]\n",
    "    \n",
    "#     print(breaks)\n",
    "\n",
    "\n",
    "def reverse_words2(message):\n",
    "    \"\"\"ATTEMPT 1: MUST BE IN PLACE\"\"\"\n",
    "    message = ''.join(list(reversed(message)))\n",
    "    print(message)\n",
    "    message = ' '.join([x[::-1] for x in message.split(' ')])\n",
    "    \n",
    "    return [x for x in message]"
   ]
  },
  {
   "cell_type": "code",
   "execution_count": 11,
   "metadata": {},
   "outputs": [],
   "source": [
    "message = [ 'c', 'a', 'k', 'e', ' ',\n",
    "            'p', 'o', 'u', 'n', 'd', ' ',\n",
    "            's', 't', 'e', 'a', 'l' ]"
   ]
  },
  {
   "cell_type": "code",
   "execution_count": 12,
   "metadata": {},
   "outputs": [
    {
     "data": {
      "text/plain": [
       "['s',\n",
       " 't',\n",
       " 'e',\n",
       " 'a',\n",
       " 'l',\n",
       " ' ',\n",
       " 'p',\n",
       " 'o',\n",
       " 'u',\n",
       " 'n',\n",
       " 'd',\n",
       " ' ',\n",
       " 'c',\n",
       " 'a',\n",
       " 'k',\n",
       " 'e']"
      ]
     },
     "execution_count": 12,
     "metadata": {},
     "output_type": "execute_result"
    }
   ],
   "source": [
    "reverse_words(message)\n",
    "message"
   ]
  },
  {
   "cell_type": "code",
   "execution_count": 13,
   "metadata": {},
   "outputs": [
    {
     "data": {
      "text/plain": [
       "[' ', 'p', 'o', 'u', 'n']"
      ]
     },
     "execution_count": 13,
     "metadata": {},
     "output_type": "execute_result"
    }
   ],
   "source": [
    "message[5:10]"
   ]
  },
  {
   "cell_type": "code",
   "execution_count": 14,
   "metadata": {},
   "outputs": [
    {
     "data": {
      "text/plain": [
       "[' ', 'c', 'a', 'k', 'e']"
      ]
     },
     "execution_count": 14,
     "metadata": {},
     "output_type": "execute_result"
    }
   ],
   "source": [
    "message[11:17]"
   ]
  },
  {
   "cell_type": "code",
   "execution_count": 15,
   "metadata": {},
   "outputs": [
    {
     "data": {
      "text/plain": [
       "list"
      ]
     },
     "execution_count": 15,
     "metadata": {},
     "output_type": "execute_result"
    }
   ],
   "source": [
    "type(message)"
   ]
  },
  {
   "cell_type": "code",
   "execution_count": 16,
   "metadata": {},
   "outputs": [
    {
     "data": {
      "text/plain": [
       "['e', 'a', 'l']"
      ]
     },
     "execution_count": 16,
     "metadata": {},
     "output_type": "execute_result"
    }
   ],
   "source": [
    "message[2:5]"
   ]
  },
  {
   "cell_type": "code",
   "execution_count": 17,
   "metadata": {},
   "outputs": [],
   "source": [
    "def merge_lists(l1, l2):\n",
    "    \"\"\"answer\n",
    "    \n",
    "    Keep track of indices\n",
    "    \"\"\"\n",
    "    merged_list_size = len(l1) + len(l2)\n",
    "    merged_list = [None]* merged_list_size\n",
    "    \n",
    "    current_idx_l1 = 0\n",
    "    current_idx_l2 = 0\n",
    "    current_idx_merged = 0\n",
    "    \n",
    "    while current_idx_merged < merged_list_size:\n",
    "        is_l2_exhausted = current_idx_l2 >= len(l2)\n",
    "        is_l1_exhausted = current_idx_l1 >= len(l1)\n",
    "        if (not is_l2_exhausted and (is_l1_exhausted or l2[current_idx_l2] < l1[current_idx_l1])):\n",
    "            # Case: next comes from l2\n",
    "            # l2 must not be exhausted, and EITHER\n",
    "            #    1.  L1 IS exhausted, or \n",
    "            #    2.  current element in L2 is less\n",
    "            #        than current element in L1\n",
    "            merged_list[current_idx_merged] = l2[current_idx_l2]\n",
    "            current_idx_l2 += 1\n",
    "        else:\n",
    "            # Case: next comes from l1\n",
    "            merged_list[current_idx_merged] = l1[current_idx_l1]\n",
    "            current_idx_l1 += 1\n",
    "            \n",
    "        current_idx_merged+=1\n",
    "        \n",
    "    return merged_list\n",
    "\n",
    "def merge_lists2(list1, list2):\n",
    "    \"\"\"attempt 1\"\"\"\n",
    "    merged = []\n",
    "    while list1 or list2:\n",
    "        if not list1:\n",
    "            merged+=list2\n",
    "            break\n",
    "        if not list2:\n",
    "            merged+=list1\n",
    "            break\n",
    "            \n",
    "        if list1[0]<=list2[0]:\n",
    "            merged.append(list1[0])\n",
    "            list1 = list1[1:]\n",
    "        else:\n",
    "            merged.append(list2[0])\n",
    "            list2 = list2[1:]\n",
    "            \n",
    "    return merged"
   ]
  },
  {
   "cell_type": "code",
   "execution_count": 18,
   "metadata": {},
   "outputs": [],
   "source": [
    "list1 = [3, 4, 6, 10, 11, 15]\n",
    "list2 = [1, 5, 8, 12, 14, 19]\n",
    "\n",
    "# %timeit merge_lists(list1, list2)"
   ]
  },
  {
   "cell_type": "code",
   "execution_count": 19,
   "metadata": {},
   "outputs": [],
   "source": [
    "# %timeit merge_lists2(list1, list2)"
   ]
  },
  {
   "cell_type": "code",
   "execution_count": 20,
   "metadata": {},
   "outputs": [],
   "source": [
    "def is_first_come_first_served(take_out_orders, dine_in_orders, served_orders):\n",
    "    \"\"\"Solution 1: Iteration\n",
    "    \n",
    "    Complexity:\n",
    "        Time: O(n)\n",
    "        Space: O(1)\n",
    "    \"\"\"\n",
    "    take_out_order_idx = 0\n",
    "    dine_in_order_idx = 0\n",
    "    take_out_order_max_idx = len(take_out_orders) - 1\n",
    "    dine_in_order_max_idx = len(dine_in_orders) - 1\n",
    "    \n",
    "    for order in served_orders:\n",
    "        # if we still have orders in take_out_orders\n",
    "        # and the current order in take_out_orders is the same\n",
    "        # as the current order in served_orders\n",
    "        if take_out_order_idx <= take_out_order_max_idx and order == take_out_orders[take_out_order_idx]:\n",
    "            take_out_order_idx+=1\n",
    "            \n",
    "        # if we still have orders in dine_in_orders\n",
    "        # and the current order in dine_in_orders is the same\n",
    "        # as the current order in served_orders\n",
    "        elif dine_in_order_idx <= dine_in_order_max_idx and order==dine_in_orders[dine_in_order_idx]:\n",
    "            dine_in_order_idx+=1\n",
    "            \n",
    "        # if current order in served_orders doesn't match the current\n",
    "        # order in take_out_orders or dine_in_orders, then we're not serving first-come, first served\n",
    "        else:\n",
    "            return False\n",
    "        \n",
    "    # check for any extra orders at the end of take_out_orders or dine_in_orders\n",
    "    if dine_in_order_idx!=len(dine_in_orders) or take_out_order_idx!=len(take_out_orders):\n",
    "        return False\n",
    "\n",
    "    # all orders in served_orders have been accounted for\n",
    "    # so we're serving first-come, first-served\n",
    "    return True\n",
    "\n",
    "\n",
    "\n",
    "def is_first_come_first_served2(take_out_orders, \n",
    "                               dine_in_orders, \n",
    "                               served_orders,\n",
    "                               take_out_order_idx=0,\n",
    "                               dine_in_order_idx=0,\n",
    "                               served_order_idx=0):\n",
    "    \"\"\"Solution2: Iterative Recursion\n",
    "    \n",
    "    Complexity:\n",
    "        Time: \n",
    "        Space:\n",
    "    \"\"\"\n",
    "    # Base case we've hit the end of served_orders\n",
    "    if served_order_idx == len(served_orders):\n",
    "        return True\n",
    "    \n",
    "    # if we still have orders in take_out_orders\n",
    "    # and the current order in take_out_orders is the same\n",
    "    # as the current order in served_orders\n",
    "    if ((take_out_order_idx < len(take_out_orders)) and take_out_orders[take_out_order_idx]==served_orders[served_order_idx]):\n",
    "        take_out_order_idx+=1\n",
    "        \n",
    "    # if we still have orders in dine_in_orders\n",
    "    # and current order in dine_in_orders is same\n",
    "    # as current order in served_orders\n",
    "    elif ((dine_in_order_idx < len(dine_in_orders)) and dine_in_orders[dine_in_order_idx]==served_orders[served_order_idx]):\n",
    "        dine_in_order_idx+=1\n",
    "        \n",
    "    # if current order in served_orders doesn't match\n",
    "    # current order in take_out_orders or dine_in_orders, then\n",
    "    # we're not serving in first-come, first-served order\n",
    "    else:\n",
    "        return False\n",
    "    \n",
    "    # current order in served_orders has now been \"accounted for\"\n",
    "    # so move on to the next one\n",
    "    served_order_idx +=1\n",
    "    return is_first_come_first_served(take_out_orders, dine_in_orders, served_orders, \n",
    "                                      take_out_order_idx, dine_in_order_idx, served_order_idx)\n",
    "    \n",
    "\n",
    "\n",
    "def is_first_come_first_served3(take_out_orders, dine_in_orders, served_orders):\n",
    "    \"\"\"Solution3: Recursion\n",
    "    \n",
    "    Complexity:\n",
    "        Time: O(n**2)\n",
    "        Space: O(n**2)\n",
    "    \"\"\"\n",
    "    # base case\n",
    "    if len(served_orders)==0:\n",
    "        return True\n",
    "    \n",
    "    # if first order in served orders is the same as the \n",
    "    # first order in take_out_orders\n",
    "    # (making sure first that we have an order in take_out_orders)\n",
    "    if len(take_out_orders) and take_out_orders[0] == served_orders[0]:\n",
    "        # take first order off take_out_orders and served_orders and recurse\n",
    "        return is_first_come_first_served(take_out_orders[1:], dine_in_orders, served_orders[1:])\n",
    "    \n",
    "    # if first order in served_orders is th same as the first\n",
    "    # in dine_in_orders\n",
    "    elif len(dine_in_orders) and dine_in_orders[0] == served_orders[0]:\n",
    "        # Take the first order off dine_in_orders and served_orders and recurse\n",
    "        return is_first_come_first_served(take_out_orders, dine_in_orders[1:], served_orders[1:])\n",
    "    \n",
    "    # First order in served_orders doesn't match the first in\n",
    "    # take_out_orders or dine_in_orders, so we know it's not first-come, first-served\n",
    "    else:\n",
    "        return False"
   ]
  },
  {
   "cell_type": "code",
   "execution_count": 21,
   "metadata": {},
   "outputs": [],
   "source": [
    "take_out_orders = [1,3,5]\n",
    "dine_in_orders = [2,4,6]\n",
    "served_orders = [1,2,4,6,5,3]\n",
    "\n",
    "# %timeit is_first_come_first_served(take_out_orders, dine_in_orders, served_orders)"
   ]
  },
  {
   "cell_type": "code",
   "execution_count": 22,
   "metadata": {},
   "outputs": [],
   "source": [
    "take_out_orders = [17,8,24]\n",
    "dine_in_orders = [12,19,2]\n",
    "served_orders = [17,8,12,19,24,2]\n",
    "\n",
    "# %timeit is_first_come_first_served(take_out_orders, dine_in_orders, served_orders)"
   ]
  },
  {
   "cell_type": "code",
   "execution_count": 23,
   "metadata": {},
   "outputs": [],
   "source": [
    "def check_fifo(order_lists, serve_list):\n",
    "    \"\"\"attempt 1 of FIFO problem\n",
    "    \n",
    "    Complexity:\n",
    "        Time: O(n) single loop (looping through order lists as a tiny second loop)\n",
    "        Space: O(1) iteration\n",
    "    \n",
    "    \"\"\"\n",
    "    flag = True\n",
    "    for order_list in order_lists:\n",
    "        order_idx = 0\n",
    "        for s in serve_list:\n",
    "            if order_idx<len(order_list) and order_list[order_idx]==s:\n",
    "                order_idx+=1\n",
    "        if order_idx!=len(order_list):\n",
    "            flag = False\n",
    "    return flag"
   ]
  },
  {
   "cell_type": "code",
   "execution_count": 24,
   "metadata": {},
   "outputs": [],
   "source": [
    "order_lists = [[1,3,5],[2,4,6]]\n",
    "serve_list = [1,2,4,6,5,3]\n",
    "\n",
    "# %timeit check_fifo(order_lists, serve_list)"
   ]
  },
  {
   "cell_type": "code",
   "execution_count": 25,
   "metadata": {},
   "outputs": [],
   "source": [
    "order_lists = [[17,8,24],[12, 19, 2]]\n",
    "serve_list = [17, 8, 12, 19, 24, 2]\n",
    "\n",
    "# %timeit check_fifo(order_lists, serve_list)"
   ]
  },
  {
   "cell_type": "markdown",
   "metadata": {},
   "source": [
    "### Inflight Entertainment\n",
    "\n",
    "Hash Tables\n",
    "        "
   ]
  },
  {
   "cell_type": "code",
   "execution_count": 26,
   "metadata": {},
   "outputs": [],
   "source": [
    "def check_movie(flight_length:int, movie_lengths: List[int]):\n",
    "    \"\"\"attempt 2: speed up to O(n)\"\"\"\n",
    "    hash_table = set(movie_lengths)\n",
    "    for i in range(len(movie_lengths)):\n",
    "        if flight_length - movie_lengths[i] in hash_table:\n",
    "            return True\n",
    "    return False\n",
    "        \n",
    "def check_movie_a(flight_length:int, movie_lengths: List[int]):\n",
    "    \"\"\"attempt 1: check whether there are two movies in movie_lengths which sum to flight_length\"\"\"\n",
    "    for i in range(len(movie_lengths)-1):\n",
    "        for j in range(i+1,len(movie_lengths)):\n",
    "            if movie_lengths[i] + movie_lengths[j]==flight_length:\n",
    "                return True\n",
    "            \n",
    "    return False"
   ]
  },
  {
   "cell_type": "code",
   "execution_count": 27,
   "metadata": {},
   "outputs": [],
   "source": [
    "flight_length = 120\n",
    "movie_lengths1 = [60,70,50,80,40]\n",
    "movie_lengths2 = [61,62,63,64]"
   ]
  },
  {
   "cell_type": "code",
   "execution_count": 28,
   "metadata": {},
   "outputs": [],
   "source": [
    "assert check_movie(flight_length, movie_lengths1)\n",
    "assert not check_movie(flight_length, movie_lengths2)"
   ]
  },
  {
   "cell_type": "code",
   "execution_count": 29,
   "metadata": {},
   "outputs": [
    {
     "data": {
      "text/plain": [
       "True"
      ]
     },
     "execution_count": 29,
     "metadata": {},
     "output_type": "execute_result"
    }
   ],
   "source": [
    "check_movie(flight_length, movie_lengths1)"
   ]
  },
  {
   "cell_type": "code",
   "execution_count": 30,
   "metadata": {},
   "outputs": [],
   "source": [
    "# %timeit check_movie(flight_length, movie_lengths1)"
   ]
  },
  {
   "cell_type": "code",
   "execution_count": 31,
   "metadata": {},
   "outputs": [],
   "source": [
    "# %timeit check_movie_a(flight_length, movie_lengths1)"
   ]
  },
  {
   "cell_type": "markdown",
   "metadata": {},
   "source": [
    "### Palindrome Permutation"
   ]
  },
  {
   "cell_type": "code",
   "execution_count": 32,
   "metadata": {},
   "outputs": [],
   "source": [
    "def check_permutation_palindrome(string: str):\n",
    "    d = collections.defaultdict(int)\n",
    "    for s in string:\n",
    "        d[s]+=1\n",
    "    odd_flag = False\n",
    "    for k,v in d.items():\n",
    "        if v%2!=0:\n",
    "            if not odd_flag:\n",
    "                odd_flag=True\n",
    "            else:\n",
    "                return False\n",
    "    return True"
   ]
  },
  {
   "cell_type": "code",
   "execution_count": 33,
   "metadata": {},
   "outputs": [
    {
     "data": {
      "text/plain": [
       "False"
      ]
     },
     "execution_count": 33,
     "metadata": {},
     "output_type": "execute_result"
    }
   ],
   "source": [
    "check_permutation_palindrome(\"livci\")"
   ]
  },
  {
   "cell_type": "markdown",
   "metadata": {},
   "source": [
    "### Build Word Cloud"
   ]
  },
  {
   "cell_type": "code",
   "execution_count": 34,
   "metadata": {},
   "outputs": [],
   "source": [
    "class WordCloudData:\n",
    "    \"\"\"answer\"\"\"\n",
    "    def __init__(self, input_string):\n",
    "        self.words_to_counts = {}\n",
    "        self.populate_words_to_counts(input_string)\n",
    "        \n",
    "    def populate_words_to_counts(self, input_string):\n",
    "        \"\"\"Iterates over each character in the input string, splitting\n",
    "        words and passing them to add_word_to_dictionary()\"\"\"\n",
    "        current_word_start_index = 0\n",
    "        current_word_length = 0\n",
    "\n",
    "        for i, character in enumerate(input_string):\n",
    "            \n",
    "            # if we reached the end of the string we check if the last\n",
    "            # character is a letter and add the last word to our dictionary\n",
    "            if i == len(input_string) - 1:\n",
    "                if character.isalpha():\n",
    "                    current_word_length +=1\n",
    "                if current_word_length > 0:\n",
    "                    current_word = input_string[current_word_start_index:current_word_start_index + current_word_length]\n",
    "                self.add_word_to_dictionary(current_word)\n",
    "                \n",
    "                \n",
    "            # if we reach a space or emdash we know we're at the end of a word\n",
    "            # so we add it to our dictionary and reset our current word\n",
    "            elif character == ' ' or character == '\\u2014':\n",
    "                if current_word_length > 0:\n",
    "                    current_word = input_string[current_word_start_index:current_word_start_index+current_word_length]\n",
    "                    self.add_word_to_dictionary(current_word)\n",
    "                    current_word_length = 0\n",
    "                    \n",
    "            # we want to make sure we split on ellipses so if we get two periods in \n",
    "            # a row we add the current word to our dictionary and reset our current word\n",
    "            elif character == '.':\n",
    "                if i < len(input_string) - 1 and input_string[i+1] == '.':\n",
    "                    if current_word_length > 0:\n",
    "                        current_word = input_string[current_word_start_index:current_word_start_index+current_word_length]\n",
    "                        self.add_word_to_dictionary(current_word)\n",
    "                        current_word_length = 0\n",
    "                        \n",
    "            # if the character is a letter or an apostrophe, we add it to our current word\n",
    "            elif character.isalpha() or character == '\\'':\n",
    "                if current_word_length == 0:\n",
    "                    current_word_start_index = i\n",
    "                current_word_length +=1\n",
    "                \n",
    "            # if the character is a hyphen, we want to check if it's surrounded by letters\n",
    "            # if it is, we add it to our current word\n",
    "            elif character == \"-\":\n",
    "                if i > 0 and input_string[i-1].isalpha() and input_string[i+1].isalpha():\n",
    "                    if current_word_length==0:\n",
    "                        current_word_start_index = i\n",
    "                    current_word_length+=1\n",
    "                else:\n",
    "                    if current_word_length > 0:\n",
    "                        current_word = input_string[current_word_start_index:current_word_start_index+current_word_length]\n",
    "                        self.add_word_to_dictionary(current_word)\n",
    "                        current_word_length = 0\n",
    "                        \n",
    "    def add_word_to_dictionary(self, word):\n",
    "        \"\"\"If a word is already int he dictionary we increment its count\"\"\"\n",
    "        if word in self.words_to_counts:\n",
    "            self.words_to_counts[word]+=1\n",
    "            \n",
    "        # if a lowercase version is in the dictionary, we know our input word must be uppercase\n",
    "        # but we only include uppercase words if they're always uppercase\n",
    "        # so we just increment the lowercase version's count\n",
    "        elif word.lower() in self.words_to_counts:\n",
    "            self.words_to_counts[word.lower()]+=1\n",
    "            \n",
    "        # if an uppercase version is in the dictionary, we know our input word must be lower\n",
    "        # since we only include uppercase words if they're always uppercase, we add the\n",
    "        # lowercase version and give it the uppercase version's count\n",
    "        elif word.capitalize() in self.words_to_counts:\n",
    "            self.words_to_counts[word]=1\n",
    "            self.words_to_counts[word]+= self.words_to_counts[word.capitalize()]\n",
    "            del self.words_to_counts[word.capitalize()]\n",
    "            \n",
    "        # otherwise, the word is not in the dictionary at all, lowercase or uppercase\n",
    "        # so we add it to the dictionary\n",
    "        else:\n",
    "            self.words_to_counts[word] = 1\n",
    "\n",
    "def word_countsA(string: str):\n",
    "    \"\"\"attempt 1\"\"\"\n",
    "    words = string.replace('...',' ').replace(\"'\",\" \")  # .replace('-',' ')\n",
    "    words = re.sub(r'[^\\w\\-+ ]','',words).split(' ')\n",
    "    d = collections.defaultdict(int)\n",
    "    for w in words:\n",
    "        d[w.lower()]+=1\n",
    "    return d"
   ]
  },
  {
   "cell_type": "code",
   "execution_count": 35,
   "metadata": {},
   "outputs": [],
   "source": [
    "sentence1 = \"After beating the eggs, Dana read the next step: Add milk-and-eggs, then add flour and sugar.  Let's go play!\""
   ]
  },
  {
   "cell_type": "code",
   "execution_count": 36,
   "metadata": {},
   "outputs": [],
   "source": [
    "obj = WordCloudData(sentence1)"
   ]
  },
  {
   "cell_type": "code",
   "execution_count": 37,
   "metadata": {},
   "outputs": [],
   "source": [
    "# %timeit obj.words_to_counts\n",
    "# 40.1 ns ± 2.19 ns per loop (mean ± std. dev. of 7 runs, 10000000 loops each)"
   ]
  },
  {
   "cell_type": "code",
   "execution_count": null,
   "metadata": {},
   "outputs": [],
   "source": []
  },
  {
   "cell_type": "code",
   "execution_count": 38,
   "metadata": {},
   "outputs": [],
   "source": [
    "# %timeit word_countsA(sentence1)\n",
    "# 10.4 µs ± 87.2 ns per loop (mean ± std. dev. of 7 runs, 100000 loops each)"
   ]
  },
  {
   "cell_type": "code",
   "execution_count": 39,
   "metadata": {},
   "outputs": [
    {
     "data": {
      "text/plain": [
       "defaultdict(int,\n",
       "            {'we': 4,\n",
       "             'came': 2,\n",
       "             'saw': 1,\n",
       "             'conquered': 1,\n",
       "             'then': 1,\n",
       "             'ate': 1,\n",
       "             'bill': 2,\n",
       "             's': 1,\n",
       "             'mille-feuille': 1,\n",
       "             'cake': 1,\n",
       "             'the': 1,\n",
       "             'to': 1,\n",
       "             'five': 1,\n",
       "             'dollars': 1})"
      ]
     },
     "execution_count": 39,
     "metadata": {},
     "output_type": "execute_result"
    }
   ],
   "source": [
    "sentence2 = \"We came, we saw, we conquered...then we ate Bill's (Mille-Feuille) cake. The bill came to five dollars.\"\n",
    "word_countsA(sentence2)"
   ]
  },
  {
   "cell_type": "markdown",
   "metadata": {},
   "source": [
    "### [Top Scores](https://www.interviewcake.com/question/python3/top-scores?course=fc1&section=hashing-and-hash-tables)"
   ]
  },
  {
   "cell_type": "code",
   "execution_count": 40,
   "metadata": {},
   "outputs": [],
   "source": [
    "def sort_scores(unsorted_scores: List[int], highest_possible_score: int):\n",
    "    \"\"\"answer\n",
    "    \n",
    "    Complexity:\n",
    "        Time: O(n)\n",
    "        Space: O(n)\n",
    "    \n",
    "    \"\"\"\n",
    "    # list of 0s at indices 0..highest possible score\n",
    "    score_counts = [0] * (highest_possible_score+1)\n",
    "    for score in unsorted_scores:\n",
    "        score_counts[score]+=1\n",
    "        \n",
    "    # populate final sorted list\n",
    "    sorted_scores = []\n",
    "    \n",
    "    # for each item in score_counts\n",
    "    for score in range(len(score_counts)-1, -1, -1):\n",
    "        count = score_counts[score]\n",
    "        \n",
    "        # for the number of times the item occurs\n",
    "        for time in range(count):\n",
    "            # add it to sorted list\n",
    "            sorted_scores.append(score)\n",
    "            \n",
    "    return sorted_scores"
   ]
  },
  {
   "cell_type": "code",
   "execution_count": 41,
   "metadata": {},
   "outputs": [],
   "source": [
    "unsorted_scores = [37, 89, 41, 65, 91, 53]\n",
    "highest_possible_score = 100"
   ]
  },
  {
   "cell_type": "code",
   "execution_count": 42,
   "metadata": {},
   "outputs": [],
   "source": [
    "# %timeit sort_scores(unsorted_scores, highest_possible_score)\n",
    "# 18.6 µs ± 357 ns per loop (mean ± std. dev. of 7 runs, 10000 loops each)"
   ]
  },
  {
   "cell_type": "code",
   "execution_count": 43,
   "metadata": {},
   "outputs": [],
   "source": [
    "# %timeit sorted(unsorted_scores)\n",
    "# 196 ns ± 0.416 ns per loop (mean ± std. dev. of 7 runs, 1000000 loops each)"
   ]
  },
  {
   "cell_type": "markdown",
   "metadata": {},
   "source": [
    "[Apple Stock](https://www.interviewcake.com/question/python3/stock-price?course=fc1&section=greedy)\n",
    "\n",
    "Greedy Algorithms"
   ]
  },
  {
   "cell_type": "code",
   "execution_count": 44,
   "metadata": {},
   "outputs": [],
   "source": [
    "def get_max_profit(stock_prices):\n",
    "    \"\"\"attempt with O(n) time and O(1) space\"\"\"\n",
    "    if len(stock_prices)<2:\n",
    "        return 0\n",
    "    else:\n",
    "        low = stock_prices[0]\n",
    "        high = stock_prices[1]\n",
    "        max_profit = high - low\n",
    "        \n",
    "        for i in range(1,len(stock_prices)):\n",
    "            price = stock_prices[i]\n",
    "            if price < low and i < len(stock_prices)-1:\n",
    "                low = price\n",
    "                high = stock_prices[i+1]\n",
    "            elif price > high:\n",
    "                high = price\n",
    "            max_profit = max(max_profit, high - low)\n",
    "        return max_profit\n",
    "                    \n",
    "def get_max_profitA(stock_prices):\n",
    "    \"\"\"attempt 1\"\"\"\n",
    "    if len(stock_prices)<2:\n",
    "        return 0\n",
    "    else:\n",
    "        mx = stock_prices[1] - stock_prices[0]\n",
    "        for i in range(1,len(stock_prices)-1):\n",
    "            for j in range(i+1,len(stock_prices)):\n",
    "                profit = stock_prices[j] - stock_prices[i]\n",
    "                mx = max(mx, profit)\n",
    "        return mx"
   ]
  },
  {
   "cell_type": "code",
   "execution_count": 45,
   "metadata": {},
   "outputs": [],
   "source": [
    "stock_prices = [10, 7, 5, 8, 11, 9]"
   ]
  },
  {
   "cell_type": "code",
   "execution_count": 46,
   "metadata": {},
   "outputs": [
    {
     "data": {
      "text/plain": [
       "6"
      ]
     },
     "execution_count": 46,
     "metadata": {},
     "output_type": "execute_result"
    }
   ],
   "source": [
    "get_max_profit(stock_prices)"
   ]
  },
  {
   "cell_type": "code",
   "execution_count": 47,
   "metadata": {},
   "outputs": [],
   "source": [
    "# %timeit get_max_profit(stock_prices)"
   ]
  },
  {
   "cell_type": "code",
   "execution_count": 48,
   "metadata": {},
   "outputs": [],
   "source": [
    "# %timeit get_max_profitA(stock_prices)"
   ]
  },
  {
   "cell_type": "code",
   "execution_count": 49,
   "metadata": {},
   "outputs": [
    {
     "data": {
      "text/plain": [
       "-1"
      ]
     },
     "execution_count": 49,
     "metadata": {},
     "output_type": "execute_result"
    }
   ],
   "source": [
    "stock_prices2 = [10,9,8]\n",
    "get_max_profit(stock_prices2)"
   ]
  },
  {
   "cell_type": "markdown",
   "metadata": {},
   "source": [
    "[Highest Product of 3](https://www.interviewcake.com/question/python3/highest-product-of-3?course=fc1&section=greedy)"
   ]
  },
  {
   "cell_type": "code",
   "execution_count": 50,
   "metadata": {},
   "outputs": [],
   "source": [
    "def highest_product(int_list: List[int]):\n",
    "    \"\"\"attempt 2\"\"\"\n",
    "    l1_idx = min(int_list[:3])\n",
    "    l2_idx = min(int_list[:3].remove(min(int_list[:3])))\n",
    "    h1_idx = max(int_list[:3])\n",
    "    h2_idx = max(int_list[:3].remove(max(int_list[:3])))\n",
    "    h3_idx = min(int_list[:3])\n",
    "    \n",
    "    for i in range(len(int_list)):\n",
    "        num = int_list[i]\n",
    "        if num < int_list[l1_idx]:\n",
    "            l1_idx = i\n",
    "        elif num < int_list[l2_idx]:\n",
    "            l2_idx = i\n",
    "        elif num > h1_idx:\n",
    "            h1_idx = i\n",
    "        elif num > h2_idx:\n",
    "            h2_idx = i\n",
    "        elif num > h3_idx:\n",
    "            h3_idx = i\n",
    "        else:\n",
    "            pass\n",
    "    alt1 = int_list[l1_idx] * int_list[l2_idx] * int_list[h1_idx]\n",
    "    alt2 = int_list[h1_idx] * int_list[h2_idx] * int_list[h3_idx]\n",
    "    return max(alt1, alt2)\n",
    "            \n",
    "def highest_product2(int_list: List[int]):\n",
    "    \"\"\"attempt 1\"\"\"\n",
    "    n1_idx = 0\n",
    "    n2_idx = 1\n",
    "    n3_idx = 2\n",
    "    max_product = 0\n",
    "    \n",
    "    for i in range(3, len(int_list)):\n",
    "        alt0 = int_list[n1_idx] * int_list[n2_idx] * int_list[n3_idx]\n",
    "        alt1 = int_list[n1_idx] * int_list[n2_idx] * int_list[i]\n",
    "        alt2 = int_list[n1_idx] * int_list[i] * int_list[n3_idx]\n",
    "        alt3 = int_list[i] * int_list[n2_idx] * int_list[n3_idx]\n",
    "\n",
    "        max_product = max(alt0, alt1, alt2, alt3)\n",
    "        \n",
    "        if alt1==max_product:\n",
    "            n3_idx = i\n",
    "        elif alt2==max_product:\n",
    "            n2_idx = i\n",
    "        elif alt3==max_product:\n",
    "            n1_idx = i\n",
    "        else:  # alt0 == max_product\n",
    "            pass\n",
    "    return max_product"
   ]
  },
  {
   "cell_type": "code",
   "execution_count": 51,
   "metadata": {},
   "outputs": [],
   "source": [
    "int_list = [1,2,3,4,5,6,7]"
   ]
  },
  {
   "cell_type": "code",
   "execution_count": 52,
   "metadata": {},
   "outputs": [],
   "source": [
    "# highest_product(int_list)"
   ]
  },
  {
   "cell_type": "code",
   "execution_count": 53,
   "metadata": {},
   "outputs": [],
   "source": [
    "int_list2 = [-10,-10,1,3,2]"
   ]
  },
  {
   "cell_type": "code",
   "execution_count": 54,
   "metadata": {},
   "outputs": [],
   "source": [
    "# highest_product(int_list2)"
   ]
  },
  {
   "cell_type": "code",
   "execution_count": 55,
   "metadata": {},
   "outputs": [],
   "source": [
    "int_list3 = [11,10,-5,1,-100]"
   ]
  },
  {
   "cell_type": "code",
   "execution_count": 56,
   "metadata": {},
   "outputs": [],
   "source": [
    "# highest_product(int_list3)"
   ]
  },
  {
   "cell_type": "code",
   "execution_count": 57,
   "metadata": {},
   "outputs": [],
   "source": [
    "# max(int_list3)"
   ]
  },
  {
   "cell_type": "code",
   "execution_count": 58,
   "metadata": {},
   "outputs": [],
   "source": [
    "# int_list3.remove(11)"
   ]
  },
  {
   "cell_type": "code",
   "execution_count": 59,
   "metadata": {},
   "outputs": [],
   "source": [
    "# int_list3"
   ]
  },
  {
   "cell_type": "code",
   "execution_count": 60,
   "metadata": {},
   "outputs": [],
   "source": [
    "# min(int_list3[:3].remove(min(int_list3[:3])))"
   ]
  },
  {
   "cell_type": "code",
   "execution_count": 61,
   "metadata": {},
   "outputs": [],
   "source": [
    "# min(int_list3[:3])"
   ]
  },
  {
   "cell_type": "code",
   "execution_count": 62,
   "metadata": {},
   "outputs": [],
   "source": [
    "# min(int_list3[:3].remove(min(int_list3[:3])))"
   ]
  },
  {
   "cell_type": "markdown",
   "metadata": {},
   "source": [
    "[IntegerList](https://www.interviewcake.com/question/python3/product-of-other-numbers?course=fc1&section=greedy)"
   ]
  },
  {
   "cell_type": "code",
   "execution_count": 63,
   "metadata": {},
   "outputs": [],
   "source": [
    "def get_product_of_all_ints_except_at_index(int_list):\n",
    "    products = []\n",
    "    \n",
    "    for i in range(len(int_list)):\n",
    "        num = int_list[i]\n",
    "        int_list[i] = 1\n",
    "        product = functools.reduce(lambda x, y: x*y, int_list)\n",
    "        products.append(product)\n",
    "        int_list[i] = num\n",
    "    return products\n",
    "        "
   ]
  },
  {
   "cell_type": "code",
   "execution_count": 64,
   "metadata": {},
   "outputs": [],
   "source": [
    "int_list = [1,7,3,4]"
   ]
  },
  {
   "cell_type": "code",
   "execution_count": 65,
   "metadata": {},
   "outputs": [
    {
     "data": {
      "text/plain": [
       "[84, 12, 28, 21]"
      ]
     },
     "execution_count": 65,
     "metadata": {},
     "output_type": "execute_result"
    }
   ],
   "source": [
    "get_product_of_all_ints_except_at_index(int_list)"
   ]
  },
  {
   "cell_type": "code",
   "execution_count": 66,
   "metadata": {},
   "outputs": [],
   "source": [
    "int_list = [1,0,3,0]"
   ]
  },
  {
   "cell_type": "code",
   "execution_count": 67,
   "metadata": {},
   "outputs": [
    {
     "data": {
      "text/plain": [
       "[0, 0, 0, 0]"
      ]
     },
     "execution_count": 67,
     "metadata": {},
     "output_type": "execute_result"
    }
   ],
   "source": [
    "get_product_of_all_ints_except_at_index(int_list)"
   ]
  },
  {
   "cell_type": "markdown",
   "metadata": {},
   "source": [
    "[In-Place List Shuffle](https://www.interviewcake.com/question/python3/shuffle?course=fc1&section=greedy)"
   ]
  },
  {
   "cell_type": "code",
   "execution_count": 68,
   "metadata": {},
   "outputs": [],
   "source": [
    "def get_random(floor, ceiling):\n",
    "    \"\"\"answer function 1\"\"\"\n",
    "    return random.randrange(floor, ceiling + 1)\n",
    "\n",
    "def shuffle(lst):\n",
    "    \"\"\"answer function 2\n",
    "    \n",
    "    aka Fisher-Yates shuffle\n",
    "    \n",
    "    Complexity:\n",
    "        Time: O(n)\n",
    "        Space: O(1)\n",
    "    \n",
    "    \"\"\"\n",
    "    if len(lst)<=1:\n",
    "        return lst\n",
    "    \n",
    "    last_idx = len(lst)-1\n",
    "    \n",
    "    for select_idx in range(0, len(lst)-1):\n",
    "        random_idx = get_random(select_idx, last_idx)\n",
    "        \n",
    "        if random_idx != select_idx:\n",
    "            lst[select_idx], lst[random_idx] = lst[random_idx], lst[select_idx]\n",
    "\n",
    "def get_random2(floor, ceiling):\n",
    "    \"\"\"attempt 2\"\"\"\n",
    "    shuffled = []\n",
    "    lst = list(range(floor, ceiling+1))\n",
    "    \n",
    "    while len(lst)>0:\n",
    "        idx = np.random.choice(range(len(lst)))\n",
    "        num = lst.pop(idx)\n",
    "        shuffled.append(num)\n",
    "    return shuffled\n",
    "\n",
    "def get_random1(floor, ceiling):\n",
    "    \"\"\"attempt 1\"\"\"\n",
    "    lst = np.arange(floor, ceiling+1)\n",
    "    num = np.random.choice(lst, 1)[0]\n",
    "    return num"
   ]
  },
  {
   "cell_type": "code",
   "execution_count": 69,
   "metadata": {},
   "outputs": [
    {
     "data": {
      "text/plain": [
       "[3, 2, 1, 4]"
      ]
     },
     "execution_count": 69,
     "metadata": {},
     "output_type": "execute_result"
    }
   ],
   "source": [
    "lst = list(range(1,5))\n",
    "shuffle(lst)\n",
    "lst"
   ]
  },
  {
   "cell_type": "markdown",
   "metadata": {},
   "source": [
    "[Find Rotation Point](https://www.interviewcake.com/question/python3/find-rotation-point?course=fc1&section=sorting-searching-logarithms)"
   ]
  },
  {
   "cell_type": "code",
   "execution_count": 70,
   "metadata": {},
   "outputs": [],
   "source": [
    "def find_rotation_point(words):\n",
    "    \"\"\"answer\"\"\"\n",
    "    first_word = words[0]\n",
    "    floor = 0\n",
    "    ceiling = len(words)-1\n",
    "    \n",
    "    while floor < ceiling:\n",
    "        mid = floor + (ceiling - floor)//2\n",
    "        \n",
    "        if words[mid]>= first_word:\n",
    "            floor = mid\n",
    "        else:\n",
    "            ceiling = mid\n",
    "            \n",
    "        if floor + 1 == ceiling:\n",
    "            return ceiling\n",
    "\n",
    "\n",
    "# def find_rotation_point(word_list):\n",
    "#     left = 0\n",
    "#     right = len(word_list) - 1\n",
    "    \n",
    "#     while left < right:\n",
    "#         mid = (left + right)//2\n",
    "        \n",
    "#         if right - left < 2:\n",
    "#             return mid\n",
    "        \n",
    "#         elif word_list[left]<word_list[mid]:\n",
    "#             left = mid\n",
    "        \n",
    "#         elif word_list[left]>word_list[mid]:\n",
    "#             left +=1\n",
    "        \n",
    "#         elif word_list[right]<word_list[mid]:\n",
    "#             return right\n",
    "    \n",
    "#         print(left, right, mid)\n",
    "#     return"
   ]
  },
  {
   "cell_type": "code",
   "execution_count": 71,
   "metadata": {},
   "outputs": [],
   "source": [
    "words = [\n",
    "    'ptolemaic',\n",
    "    'retrograde',\n",
    "    'supplant',\n",
    "    'undulate',\n",
    "    'xenoepist',\n",
    "    'asymptote',  # <-- rotates here!\n",
    "    'babka',\n",
    "    'banoffee',\n",
    "    'engender',\n",
    "    'karpatka',\n",
    "    'othellolagkage',\n",
    "]\n",
    "    \n",
    "words1 = [\n",
    "    'asymptote',  # <-- rotates here!\n",
    "    'babka',\n",
    "    'banoffee',\n",
    "    'engender',\n",
    "    'karpatka',\n",
    "    'othellolagkage',\n",
    "    'ptolemaic',\n",
    "    'retrograde',\n",
    "    'supplant',\n",
    "    'undulate',\n",
    "    'xenoepist',\n",
    "]    "
   ]
  },
  {
   "cell_type": "code",
   "execution_count": 72,
   "metadata": {},
   "outputs": [
    {
     "data": {
      "text/plain": [
       "5"
      ]
     },
     "execution_count": 72,
     "metadata": {},
     "output_type": "execute_result"
    }
   ],
   "source": [
    "find_rotation_point(words)"
   ]
  },
  {
   "cell_type": "code",
   "execution_count": 73,
   "metadata": {},
   "outputs": [
    {
     "data": {
      "text/plain": [
       "10"
      ]
     },
     "execution_count": 73,
     "metadata": {},
     "output_type": "execute_result"
    }
   ],
   "source": [
    "find_rotation_point(words1)"
   ]
  },
  {
   "cell_type": "markdown",
   "metadata": {},
   "source": [
    "[Find Repeat, Space Edition](https://www.interviewcake.com/question/python3/find-duplicate-optimize-for-space?course=fc1&section=sorting-searching-logarithms)"
   ]
  },
  {
   "cell_type": "code",
   "execution_count": 74,
   "metadata": {},
   "outputs": [],
   "source": [
    "def find_repeat(numbers):\n",
    "    \"\"\"solution\"\"\"\n",
    "    floor = 1\n",
    "    ceiling = len(numbers) - 1\n",
    "    \n",
    "    while floor < ceiling:\n",
    "        # Divide our range 1..n into an upper range and lower range\n",
    "        # (such that they don't overlap)\n",
    "        # Lower range is floor..midpoint\n",
    "        # Upper range is midpoint+1..ceiling\n",
    "        midpoint = floor + ((ceiling - floor) // 2)\n",
    "        lower_range_floor, lower_range_ceiling = floor, midpoint\n",
    "        upper_range_floor, upper_range_ceiling = midpoint + 1, ceiling\n",
    "        \n",
    "        # Count number of items in lower range\n",
    "        items_in_lower_range = 0\n",
    "        for item in numbers:\n",
    "            # is it in the lower range?\n",
    "            if item >= lower_range_floor and item <= lower_range_ceiling:\n",
    "                items_in_lower_range +=1\n",
    "                \n",
    "        distinct_possible_integers_in_lower_range = (lower_range_ceiling - lower_range_floor + 1)\n",
    "        \n",
    "        if items_in_lower_range > distinct_possible_integers_in_lower_range:\n",
    "            # There must be a duplicate in the lower range\n",
    "            # so use the same approach iteratively on that range\n",
    "            floor, ceiling = lower_range_floor, lower_range_ceiling\n",
    "        \n",
    "        else:\n",
    "            # There must be a duplicate in the upper range\n",
    "            # so use the same approach iteratively on that range\n",
    "            floor, ceiling = upper_range_floor, upper_range_ceiling\n",
    "            \n",
    "    # Floor and ceiling have converged\n",
    "    # We found a number that repeats!\n",
    "    return floor\n",
    "\n",
    "def find_duplicate(num_list):\n",
    "    \"\"\"attempt 1\"\"\"\n",
    "    for i in range(1,len(num_list)):\n",
    "        if num_list[i-1]==num_list[i]:\n",
    "            return num_list[i]\n",
    "    return False"
   ]
  },
  {
   "cell_type": "code",
   "execution_count": 75,
   "metadata": {},
   "outputs": [],
   "source": [
    "num_list1 = list(range(10))"
   ]
  },
  {
   "cell_type": "code",
   "execution_count": 76,
   "metadata": {},
   "outputs": [
    {
     "data": {
      "text/plain": [
       "9"
      ]
     },
     "execution_count": 76,
     "metadata": {},
     "output_type": "execute_result"
    }
   ],
   "source": [
    "find_repeat(num_list1)"
   ]
  },
  {
   "cell_type": "code",
   "execution_count": 77,
   "metadata": {},
   "outputs": [],
   "source": [
    "num_list2 = [1,2,2,3,4,5,6,7,7,8,9,10]"
   ]
  },
  {
   "cell_type": "code",
   "execution_count": 78,
   "metadata": {},
   "outputs": [
    {
     "data": {
      "text/plain": [
       "2"
      ]
     },
     "execution_count": 78,
     "metadata": {},
     "output_type": "execute_result"
    }
   ],
   "source": [
    "find_repeat(num_list2)"
   ]
  },
  {
   "cell_type": "markdown",
   "metadata": {},
   "source": [
    "[Balanced Binary Tree](https://www.interviewcake.com/question/python3/balanced-binary-tree?course=fc1&section=trees-graphs)\n",
    "\n",
    "DFS"
   ]
  },
  {
   "cell_type": "code",
   "execution_count": 105,
   "metadata": {},
   "outputs": [],
   "source": [
    "# TODO implement tree print function\n",
    "class BTNode:  \n",
    "    \"\"\"Binary Tree Node\"\"\"\n",
    "    def __init__(self, value, left=None, right=None):\n",
    "        self.value = value\n",
    "        self.left = left\n",
    "        self.right = right\n",
    "        \n",
    "    def insert_left(self, value):\n",
    "        self.left = BTNode(value)\n",
    "        return self.left\n",
    "    \n",
    "    def insert_right(self, value):\n",
    "        self.right = BTNode(value)\n",
    "        return self.right"
   ]
  },
  {
   "cell_type": "code",
   "execution_count": 106,
   "metadata": {},
   "outputs": [],
   "source": [
    "# balanced\n",
    "a = BTNode(10)\n",
    "a.insert_left(5).insert_left(0)\n",
    "a.insert_left(5).insert_right(15)\n",
    "a.insert_right(15).insert_left(8)\n",
    "a.insert_right(15).insert_right(20)\n",
    "\n",
    "# unbalanced\n",
    "b = BTNode(10)\n",
    "b.insert_left(5).insert_left(10)\n",
    "b.insert_right(15).insert_right(20).insert_right(25).insert_right(30).insert_right(35)\n",
    "\n",
    "# binary search tree\n",
    "c = BTNode(10)\n",
    "c.insert_left(5)\n",
    "c.insert_right(15)\n",
    "\n",
    "# more complex BST\n",
    "d = BTNode(10, BTNode(5, BTNode(3), BTNode(7)), BTNode(15, BTNode(10), BTNode(20)))"
   ]
  },
  {
   "cell_type": "code",
   "execution_count": 81,
   "metadata": {},
   "outputs": [],
   "source": [
    "def is_balanced3(root):\n",
    "    \"\"\"attempt 5/22/20\"\"\"\n",
    "    if not root:\n",
    "        return True\n",
    "    \n",
    "    levels = set()\n",
    "    stack = [(root,0)]\n",
    "    \n",
    "    while len(stack):\n",
    "        node, level = stack.pop()\n",
    "        \n",
    "        if not node.left and not node.right:\n",
    "            if level not in levels:\n",
    "                levels.add(level)\n",
    "                \n",
    "                if len(levels)>2 or max(levels)-min(levels)>1:\n",
    "                    return False\n",
    "                \n",
    "        else:\n",
    "            if node.left:\n",
    "                stack.append((node.left,level+1))\n",
    "                \n",
    "            if node.right:\n",
    "                stack.append((node.right, level+1))\n",
    "                \n",
    "    return True\n",
    "\n",
    "def is_balanced(tree_root):\n",
    "    \"\"\"solution\"\"\"\n",
    "    # A tree with no nodes is superbalanced, since there are no leaves!\n",
    "    if tree_root is None:\n",
    "        return True\n",
    "    \n",
    "    # We short-circuit as soon as we find more than 2\n",
    "    depths = []\n",
    "    \n",
    "    # We'll treat this list as a stack that will store tuples of (node, depth)\n",
    "    nodes = []\n",
    "    nodes.append((tree_root, 0))\n",
    "    \n",
    "    while len(nodes):\n",
    "        # Pop a node and its depth from the top of our stack\n",
    "        node, depth = nodes.pop()\n",
    "        \n",
    "        # Case: we found a leaf\n",
    "        if (not node.left) and (not node.right):\n",
    "            # we only care if its a new depth\n",
    "            if depth not in depths:\n",
    "                depths.append(depth)\n",
    "                \n",
    "                # Two ways we might now have an unbalanced tree:\n",
    "                # 1. more than 2 different leaf depths\n",
    "                # 2. 2 leaf depths that are more than 1 apart\n",
    "                if ((len(depths)>2) or (len(depths)==2 and abs(depths[0] - depths[1])>1)):\n",
    "                    return False\n",
    "                \n",
    "        else:\n",
    "            # Case: this isn't a leaf - keep stepping down\n",
    "            if node.left:\n",
    "                nodes.append((node.left, depth + 1))\n",
    "            if node.right:\n",
    "                nodes.append((node.right, depth + 1))\n",
    "                \n",
    "    return True"
   ]
  },
  {
   "cell_type": "code",
   "execution_count": 82,
   "metadata": {},
   "outputs": [],
   "source": [
    "assert is_balanced3(a)\n",
    "assert not is_balanced3(b)\n",
    "\n",
    "assert is_balanced(a)\n",
    "assert not is_balanced(b)"
   ]
  },
  {
   "cell_type": "markdown",
   "metadata": {},
   "source": [
    "[Valid Binary Search Tree](https://www.interviewcake.com/question/python3/bst-checker?course=fc1&section=trees-graphs)\n",
    "\n",
    "DFS"
   ]
  },
  {
   "cell_type": "code",
   "execution_count": 83,
   "metadata": {},
   "outputs": [],
   "source": [
    "def is_binary_search_tree1(root):\n",
    "    \"\"\"attempt 5/22/20\"\"\"\n",
    "    \n",
    "    if not root:\n",
    "        return False\n",
    "    \n",
    "    # node and bounds stack\n",
    "    stack = [(root, -float('inf'),float('inf'))]\n",
    "    \n",
    "    while len(stack):\n",
    "        node, lower_bound, upper_bound = stack.pop()\n",
    "        \n",
    "        if node.value <= lower_bound or node.value >= upper_bound:\n",
    "            return False\n",
    "        \n",
    "        if node.left:\n",
    "            stack.append((node.left,lower_bound,node.value))\n",
    "            \n",
    "        if node.right:\n",
    "            stack.append((node.right,node.value,upper_bound))\n",
    "            \n",
    "    return True\n",
    "\n",
    "def is_binary_search_tree(root):\n",
    "    \"\"\"solution\"\"\"\n",
    "    # Start at the root, with an arbitrarily low lower bound\n",
    "    # and an arbitrarily high upper bound\n",
    "    node_and_bounds_stack = [(root, -float('inf'), float('inf'))]\n",
    "    \n",
    "    # Depth-first traversal\n",
    "    while len(node_and_bounds_stack):\n",
    "        node, lower_bound, upper_bound = node_and_bounds_stack.pop()\n",
    "        \n",
    "        # If this node is invalid, we return false right away\n",
    "        if (node.value <= lower_bound) or (node.value >= upper_bound):\n",
    "            return False\n",
    "        \n",
    "        if node.left:\n",
    "            # this node must be less than the current node\n",
    "            node_and_bounds_stack.append((node.left, lower_bound, node.value))\n",
    "            \n",
    "        if node.right:\n",
    "            # This node must be greater than the current node\n",
    "            node_and_bounds_stack.append((node.right, node.value, upper_bound))\n",
    "            \n",
    "    # If none of the nodes were invalid, return true\n",
    "    # (at this point we have checked all nodes)\n",
    "    return True"
   ]
  },
  {
   "cell_type": "code",
   "execution_count": 84,
   "metadata": {},
   "outputs": [
    {
     "data": {
      "text/plain": [
       "True"
      ]
     },
     "execution_count": 84,
     "metadata": {},
     "output_type": "execute_result"
    }
   ],
   "source": [
    "assert is_binary_search_tree1(c)\n",
    "assert is_binary_search_tree(c)"
   ]
  },
  {
   "cell_type": "markdown",
   "metadata": {},
   "source": [
    "[2nd largest element in BST](https://www.interviewcake.com/question/python3/second-largest-item-in-bst?course=fc1&section=trees-graphs)"
   ]
  },
  {
   "cell_type": "code",
   "execution_count": 110,
   "metadata": {},
   "outputs": [],
   "source": [
    "def find_2nd_largest_element(root):\n",
    "    \"\"\"attempt 5/22/20\"\"\"\n",
    "    if not root:\n",
    "        return False\n",
    "    \n",
    "    current = node = root\n",
    "    \n",
    "    while current:\n",
    "        # traverse to the right of the subtree.  \n",
    "        # If in farthest right there is no left subtree, return value of parent.  \n",
    "        # Otherwise, traverse to rightmost of left subtree for value\n",
    "        \n",
    "        # case 1: left subtree\n",
    "        if current.left and not current.right:\n",
    "            current = current.left\n",
    "            while current.right:\n",
    "                current = current.right\n",
    "            return current.value\n",
    "        \n",
    "        # case 2: no left subtree\n",
    "        if current.right and not current.right.left and not current.right.right:\n",
    "            return current.value\n",
    "        \n",
    "        current = current.right\n",
    "\n",
    "def find_largest(root):\n",
    "    \"\"\"solution part 1\"\"\"\n",
    "    current = root\n",
    "    while current:\n",
    "        if not current.right:\n",
    "            return current.value\n",
    "        current = current.right\n",
    "#     if root.right:\n",
    "#         return find_largest(root.right)\n",
    "#     return root.value\n",
    "\n",
    "def find_second_largest(root):\n",
    "    \"\"\"solution part 2\"\"\"\n",
    "    if root is None or (root.left is None and root.right is None):\n",
    "        raise ValueError('Tree must have at least 2 nodes')\n",
    "        \n",
    "    current = root\n",
    "    while current:\n",
    "        # Case: we're currently at largest, and largest has a left subtree,\n",
    "        # so 2nd largest is largest in said subtree\n",
    "        if current.left and not current.right:\n",
    "            return find_largest(current.left)\n",
    "    \n",
    "        # Case: we're at parent of largest, and largest has no left subtree,\n",
    "        # so 2nd largest must be current node\n",
    "        if (current.right and not current.right.left and not current.right.right):\n",
    "            return current.value\n",
    "        \n",
    "        current = current.right"
   ]
  },
  {
   "cell_type": "code",
   "execution_count": 109,
   "metadata": {},
   "outputs": [
    {
     "data": {
      "text/plain": [
       "15"
      ]
     },
     "execution_count": 109,
     "metadata": {},
     "output_type": "execute_result"
    }
   ],
   "source": [
    "assert find_2nd_largest_element(c)==10\n",
    "assert find_2nd_largest_element(d)==15\n",
    "assert find_second_large(c)==10\n",
    "assert find_second_largest(d)==15"
   ]
  },
  {
   "cell_type": "code",
   "execution_count": null,
   "metadata": {},
   "outputs": [],
   "source": []
  },
  {
   "cell_type": "code",
   "execution_count": null,
   "metadata": {},
   "outputs": [],
   "source": []
  },
  {
   "cell_type": "markdown",
   "metadata": {},
   "source": [
    "[Color Graph](https://www.interviewcake.com/question/python3/graph-coloring?course=fc1&section=trees-graphs)"
   ]
  },
  {
   "cell_type": "code",
   "execution_count": 114,
   "metadata": {},
   "outputs": [],
   "source": [
    "class GNode:\n",
    "    \"\"\"Graph Node\"\"\"\n",
    "    def __init__(self, label):\n",
    "        self.label = label\n",
    "        self.neighbors = set()\n",
    "        self.color = None\n",
    "        \n",
    "a = GNode('a')\n",
    "b = GNode('b')\n",
    "c = GNode('c')\n",
    "\n",
    "a.neighbors.add(b)\n",
    "b.neighbors.add(a)\n",
    "b.neighbors.add(c)\n",
    "c.neighbors.add(b)\n",
    "\n",
    "graph = [a, b, c]"
   ]
  },
  {
   "cell_type": "code",
   "execution_count": null,
   "metadata": {},
   "outputs": [],
   "source": []
  },
  {
   "cell_type": "code",
   "execution_count": null,
   "metadata": {},
   "outputs": [],
   "source": []
  },
  {
   "cell_type": "code",
   "execution_count": null,
   "metadata": {},
   "outputs": [],
   "source": []
  },
  {
   "cell_type": "code",
   "execution_count": null,
   "metadata": {},
   "outputs": [],
   "source": []
  },
  {
   "cell_type": "code",
   "execution_count": null,
   "metadata": {},
   "outputs": [],
   "source": []
  },
  {
   "cell_type": "code",
   "execution_count": null,
   "metadata": {},
   "outputs": [],
   "source": []
  },
  {
   "cell_type": "code",
   "execution_count": null,
   "metadata": {},
   "outputs": [],
   "source": []
  },
  {
   "cell_type": "code",
   "execution_count": null,
   "metadata": {},
   "outputs": [],
   "source": []
  },
  {
   "cell_type": "code",
   "execution_count": 116,
   "metadata": {},
   "outputs": [],
   "source": [
    "def color_graph(graph, colors):\n",
    "    \"\"\"solution\"\"\"\n",
    "    for node in graph:\n",
    "        if node in node.neighbors:\n",
    "            raise Exception(\"Legal coloring impossible for node with loop: %s\" % node.label)\n",
    "            \n",
    "        # get the node's neighbors colors, as a set so we\n",
    "        # can check if a color is illegal in constant time\n",
    "        illegal_colors = set([neighbor.color for neighbor in node.neighbors if neighbor.color])\n",
    "        \n",
    "        # assign first legal color\n",
    "        for color in colors:\n",
    "            if color not in illegal_colors:\n",
    "                node.color = color\n",
    "                break"
   ]
  },
  {
   "cell_type": "code",
   "execution_count": 117,
   "metadata": {},
   "outputs": [],
   "source": [
    "color_graph(graph, ['red','blue','yellow'])"
   ]
  },
  {
   "cell_type": "code",
   "execution_count": 121,
   "metadata": {},
   "outputs": [
    {
     "data": {
      "text/plain": [
       "'red'"
      ]
     },
     "execution_count": 121,
     "metadata": {},
     "output_type": "execute_result"
    }
   ],
   "source": [
    "a.color"
   ]
  },
  {
   "cell_type": "code",
   "execution_count": 122,
   "metadata": {},
   "outputs": [
    {
     "data": {
      "text/plain": [
       "'blue'"
      ]
     },
     "execution_count": 122,
     "metadata": {},
     "output_type": "execute_result"
    }
   ],
   "source": [
    "b.color"
   ]
  },
  {
   "cell_type": "code",
   "execution_count": 123,
   "metadata": {},
   "outputs": [
    {
     "data": {
      "text/plain": [
       "'red'"
      ]
     },
     "execution_count": 123,
     "metadata": {},
     "output_type": "execute_result"
    }
   ],
   "source": [
    "c.color"
   ]
  },
  {
   "cell_type": "markdown",
   "metadata": {},
   "source": [
    "[MeshMessage](https://www.interviewcake.com/question/python3/mesh-message?course=fc1&section=trees-graphs)"
   ]
  },
  {
   "cell_type": "code",
   "execution_count": 88,
   "metadata": {},
   "outputs": [],
   "source": [
    "  network = {\n",
    "    'Min'     : ['William', 'Jayden', 'Omar'],\n",
    "    'William' : ['Min', 'Noam'],\n",
    "    'Jayden'  : ['Min', 'Amelia', 'Ren', 'Noam'],\n",
    "    'Ren'     : ['Jayden', 'Omar'],\n",
    "    'Amelia'  : ['Jayden', 'Adam', 'Miguel'],\n",
    "    'Adam'    : ['Amelia', 'Miguel', 'Sofia', 'Lucas'],\n",
    "    'Miguel'  : ['Amelia', 'Adam', 'Liam', 'Nathan'],\n",
    "    'Noam'    : ['Nathan', 'Jayden', 'William'],\n",
    "    'Omar'    : ['Ren', 'Min', 'Scott'],\n",
    "}\n",
    "    \n",
    "#   Jayden to Adam: ['Jayden', 'Amelia', 'Adam']"
   ]
  },
  {
   "cell_type": "code",
   "execution_count": 89,
   "metadata": {},
   "outputs": [],
   "source": [
    "from collections import deque\n",
    "\n",
    "def bfs_get_path(graph, start_node, end_node):\n",
    "    if start_node not in graph:\n",
    "        raise Exception('Start node not in graph!')\n",
    "    if end_node not in graph:\n",
    "        raise Exception('End node not in graph')\n",
    "    \n",
    "    # queue rather than list because we want an efficient\n",
    "    # FIFO structure with O(1) inserts and removes\n",
    "    nodes_to_visit = deque()\n",
    "    nodes_to_visit.append(start_node)\n",
    "    \n",
    "    # keep track of what nodes we've already seen\n",
    "    # so we don't process them twice\n",
    "#     nodes_already_seen = set([start_node])\n",
    "    \n",
    "    how_we_reached_nodes = {start_node: None}\n",
    "    \n",
    "    while len(nodes_to_visit) > 0:\n",
    "        current_node = nodes_to_visit.popleft()\n",
    "        \n",
    "        # stop when we reach end node\n",
    "        if current_node == end_node:\n",
    "            # somehow reconstruct path here\n",
    "            return reconstruct_path(how_we_reached_nodes, start_node, end_node)\n",
    "            \n",
    "        for neighbor in graph[current_node]:\n",
    "            if neighbor not in how_we_reached_nodes:\n",
    "                nodes_to_visit.append(neighbor)\n",
    "                # keep track of how we got to this node\n",
    "                how_we_reached_nodes[neighbor] = current_node\n",
    "                \n",
    "    return None\n",
    "                \n",
    "def reconstruct_path(previous_nodes, start_node, end_node):\n",
    "    reversed_shortest_path = []\n",
    "    \n",
    "    # start from end of path and work backwawrds\n",
    "    current_node = end_node\n",
    "    \n",
    "    while current_node:\n",
    "        reversed_shortest_path.append(current_node)\n",
    "        current_node = previous_nodes[current_node]\n",
    "    \n",
    "    reversed_shortest_path.reverse()\n",
    "    return reversed_shortest_path"
   ]
  },
  {
   "cell_type": "code",
   "execution_count": 90,
   "metadata": {},
   "outputs": [
    {
     "data": {
      "text/plain": [
       "['Jayden', 'Amelia', 'Adam']"
      ]
     },
     "execution_count": 90,
     "metadata": {},
     "output_type": "execute_result"
    }
   ],
   "source": [
    "bfs_get_path(network, 'Jayden','Adam')"
   ]
  },
  {
   "cell_type": "code",
   "execution_count": null,
   "metadata": {},
   "outputs": [],
   "source": []
  }
 ],
 "metadata": {
  "kernelspec": {
   "display_name": "Project",
   "language": "python",
   "name": "project"
  },
  "language_info": {
   "codemirror_mode": {
    "name": "ipython",
    "version": 3
   },
   "file_extension": ".py",
   "mimetype": "text/x-python",
   "name": "python",
   "nbconvert_exporter": "python",
   "pygments_lexer": "ipython3",
   "version": "3.8.2"
  }
 },
 "nbformat": 4,
 "nbformat_minor": 4
}
