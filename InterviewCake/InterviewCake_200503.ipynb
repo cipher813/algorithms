{
 "cells": [
  {
   "cell_type": "code",
   "execution_count": 44,
   "metadata": {},
   "outputs": [],
   "source": [
    "import re\n",
    "import pandas as pd\n",
    "import numpy as np\n",
    "import collections\n",
    "import itertools\n",
    "import heapq\n",
    "from typing import List, Tuple"
   ]
  },
  {
   "cell_type": "code",
   "execution_count": 2,
   "metadata": {},
   "outputs": [],
   "source": [
    "def merge_ranges(meeting_ranges: List[Tuple[int,int]]):\n",
    "    mr = sorted(meeting_ranges)\n",
    "    print(mr)\n",
    "    con = [mr[0]]\n",
    "    for rng in mr[1:]:\n",
    "        if rng[0]<=con[-1][1]:\n",
    "            a = con.pop()\n",
    "            start = min(a[0],rng[0])\n",
    "            end = max(a[1], rng[1])\n",
    "            con.append((start, end))\n",
    "        else:\n",
    "            con.append(rng)\n",
    "    return con"
   ]
  },
  {
   "cell_type": "code",
   "execution_count": 3,
   "metadata": {},
   "outputs": [],
   "source": [
    "meeting_ranges = [(0, 1), (3, 5), (4, 8), (10, 12), (9, 10)]"
   ]
  },
  {
   "cell_type": "code",
   "execution_count": 4,
   "metadata": {},
   "outputs": [
    {
     "name": "stdout",
     "output_type": "stream",
     "text": [
      "[(0, 1), (3, 5), (4, 8), (9, 10), (10, 12)]\n"
     ]
    },
    {
     "data": {
      "text/plain": [
       "[(0, 1), (3, 8), (9, 12)]"
      ]
     },
     "execution_count": 4,
     "metadata": {},
     "output_type": "execute_result"
    }
   ],
   "source": [
    "merge_ranges(meeting_ranges)"
   ]
  },
  {
   "cell_type": "code",
   "execution_count": 5,
   "metadata": {},
   "outputs": [
    {
     "name": "stdout",
     "output_type": "stream",
     "text": [
      "[(1, 2), (2, 3)]\n"
     ]
    },
    {
     "data": {
      "text/plain": [
       "[(1, 3)]"
      ]
     },
     "execution_count": 5,
     "metadata": {},
     "output_type": "execute_result"
    }
   ],
   "source": [
    "merge_ranges([(1,2),(2,3)])"
   ]
  },
  {
   "cell_type": "code",
   "execution_count": 6,
   "metadata": {},
   "outputs": [
    {
     "name": "stdout",
     "output_type": "stream",
     "text": [
      "[(1, 5), (2, 3)]\n"
     ]
    },
    {
     "data": {
      "text/plain": [
       "[(1, 5)]"
      ]
     },
     "execution_count": 6,
     "metadata": {},
     "output_type": "execute_result"
    }
   ],
   "source": [
    "merge_ranges([(1,5),(2,3)])"
   ]
  },
  {
   "cell_type": "code",
   "execution_count": 7,
   "metadata": {},
   "outputs": [
    {
     "name": "stdout",
     "output_type": "stream",
     "text": [
      "[(1, 10), (2, 6), (3, 5), (7, 9)]\n"
     ]
    },
    {
     "data": {
      "text/plain": [
       "[(1, 10)]"
      ]
     },
     "execution_count": 7,
     "metadata": {},
     "output_type": "execute_result"
    }
   ],
   "source": [
    "merge_ranges([(1, 10), (2, 6), (3, 5), (7, 9)])"
   ]
  },
  {
   "cell_type": "code",
   "execution_count": 8,
   "metadata": {},
   "outputs": [],
   "source": [
    "def reverse(char_list):\n",
    "    left_idx = 0\n",
    "    right_idx = len(char_list) -1\n",
    "    \n",
    "    while left_idx < right_idx:\n",
    "        char_list[left_idx], char_list[right_idx] = char_list[right_idx], char_list[left_idx]\n",
    "        \n",
    "        left_idx +=1\n",
    "        right_idx -=1\n",
    "        \n",
    "\n",
    "# def reverse_letters(char_list):\n",
    "#     return char_list[::-1]"
   ]
  },
  {
   "cell_type": "code",
   "execution_count": 9,
   "metadata": {},
   "outputs": [
    {
     "data": {
      "text/plain": [
       "['c', 'b', 'a']"
      ]
     },
     "execution_count": 9,
     "metadata": {},
     "output_type": "execute_result"
    }
   ],
   "source": [
    "char_list = ['a','b','c']\n",
    "reverse(char_list)\n",
    "char_list"
   ]
  },
  {
   "cell_type": "code",
   "execution_count": 10,
   "metadata": {},
   "outputs": [],
   "source": [
    "def reverse_words(message):\n",
    "    \"\"\"SOLUTION\"\"\"\n",
    "    # reverse all characters in entire message\n",
    "    # which gives right word order but each word backward\n",
    "    reverse_characters(message, 0, len(message)-1)\n",
    "    \n",
    "    # hold index of start of current word\n",
    "    # as we look for end of current word\n",
    "    current_word_start_idx = 0\n",
    "    \n",
    "    for i in range(len(message)+1):\n",
    "        # found end of current word\n",
    "        if i==len(message) or message[i]==\" \":\n",
    "            reverse_characters(message, current_word_start_idx, i-1)\n",
    "            \n",
    "            # if we haven't exhausted message, \n",
    "            # next word's start is one char ahead\n",
    "            current_word_start_idx = i +1\n",
    "    \n",
    "\n",
    "    \n",
    "def reverse_characters(message, left_idx, right_idx):\n",
    "    \"\"\"helper function\"\"\"\n",
    "    # walk towards middle, from both sides\n",
    "    while left_idx < right_idx:\n",
    "        # swap left char and right char\n",
    "        message[left_idx], message[right_idx] = message[right_idx], message[left_idx]\n",
    "        left_idx +=1\n",
    "        right_idx -=1\n",
    "        \n",
    "\n",
    "\n",
    "# def reverse_words1(message):\n",
    "    \n",
    "#     breaks = [0]\n",
    "#     for i in range(len(message)):\n",
    "#         if message[i]==\" \":\n",
    "#             breaks.append(i+1)\n",
    "#     breaks.append(len(message)+1)\n",
    "#     print(breaks)\n",
    "    \n",
    "#     for j in range(1,len(breaks)):\n",
    "#         message[breaks[j-1]:breaks[j]] = \n",
    "#         print(breaks[j])\n",
    "    \n",
    "#     message = reverse(message)\n",
    "#     breaks = [0, len(message)+1]\n",
    "    \n",
    "#     print(breaks)\n",
    "\n",
    "\n",
    "def reverse_words2(message):\n",
    "    \"\"\"ATTEMPT 1: MUST BE IN PLACE\"\"\"\n",
    "    message = ''.join(list(reversed(message)))\n",
    "    print(message)\n",
    "    message = ' '.join([x[::-1] for x in message.split(' ')])\n",
    "    \n",
    "    return [x for x in message]"
   ]
  },
  {
   "cell_type": "code",
   "execution_count": 11,
   "metadata": {},
   "outputs": [],
   "source": [
    "message = [ 'c', 'a', 'k', 'e', ' ',\n",
    "            'p', 'o', 'u', 'n', 'd', ' ',\n",
    "            's', 't', 'e', 'a', 'l' ]"
   ]
  },
  {
   "cell_type": "code",
   "execution_count": 12,
   "metadata": {},
   "outputs": [
    {
     "data": {
      "text/plain": [
       "['s',\n",
       " 't',\n",
       " 'e',\n",
       " 'a',\n",
       " 'l',\n",
       " ' ',\n",
       " 'p',\n",
       " 'o',\n",
       " 'u',\n",
       " 'n',\n",
       " 'd',\n",
       " ' ',\n",
       " 'c',\n",
       " 'a',\n",
       " 'k',\n",
       " 'e']"
      ]
     },
     "execution_count": 12,
     "metadata": {},
     "output_type": "execute_result"
    }
   ],
   "source": [
    "reverse_words(message)\n",
    "message"
   ]
  },
  {
   "cell_type": "code",
   "execution_count": 13,
   "metadata": {},
   "outputs": [
    {
     "data": {
      "text/plain": [
       "[' ', 'p', 'o', 'u', 'n']"
      ]
     },
     "execution_count": 13,
     "metadata": {},
     "output_type": "execute_result"
    }
   ],
   "source": [
    "message[5:10]"
   ]
  },
  {
   "cell_type": "code",
   "execution_count": 14,
   "metadata": {},
   "outputs": [
    {
     "data": {
      "text/plain": [
       "[' ', 'c', 'a', 'k', 'e']"
      ]
     },
     "execution_count": 14,
     "metadata": {},
     "output_type": "execute_result"
    }
   ],
   "source": [
    "message[11:17]"
   ]
  },
  {
   "cell_type": "code",
   "execution_count": 15,
   "metadata": {},
   "outputs": [
    {
     "data": {
      "text/plain": [
       "list"
      ]
     },
     "execution_count": 15,
     "metadata": {},
     "output_type": "execute_result"
    }
   ],
   "source": [
    "type(message)"
   ]
  },
  {
   "cell_type": "code",
   "execution_count": 16,
   "metadata": {},
   "outputs": [
    {
     "data": {
      "text/plain": [
       "['e', 'a', 'l']"
      ]
     },
     "execution_count": 16,
     "metadata": {},
     "output_type": "execute_result"
    }
   ],
   "source": [
    "message[2:5]"
   ]
  },
  {
   "cell_type": "code",
   "execution_count": 17,
   "metadata": {},
   "outputs": [],
   "source": [
    "def merge_lists(l1, l2):\n",
    "    \"\"\"answer\n",
    "    \n",
    "    Keep track of indices\n",
    "    \"\"\"\n",
    "    merged_list_size = len(l1) + len(l2)\n",
    "    merged_list = [None]* merged_list_size\n",
    "    \n",
    "    current_idx_l1 = 0\n",
    "    current_idx_l2 = 0\n",
    "    current_idx_merged = 0\n",
    "    \n",
    "    while current_idx_merged < merged_list_size:\n",
    "        is_l2_exhausted = current_idx_l2 >= len(l2)\n",
    "        is_l1_exhausted = current_idx_l1 >= len(l1)\n",
    "        if (not is_l2_exhausted and (is_l1_exhausted or l2[current_idx_l2] < l1[current_idx_l1])):\n",
    "            # Case: next comes from l2\n",
    "            # l2 must not be exhausted, and EITHER\n",
    "            #    1.  L1 IS exhausted, or \n",
    "            #    2.  current element in L2 is less\n",
    "            #        than current element in L1\n",
    "            merged_list[current_idx_merged] = l2[current_idx_l2]\n",
    "            current_idx_l2 += 1\n",
    "        else:\n",
    "            # Case: next comes from l1\n",
    "            merged_list[current_idx_merged] = l1[current_idx_l1]\n",
    "            current_idx_l1 += 1\n",
    "            \n",
    "        current_idx_merged+=1\n",
    "        \n",
    "    return merged_list\n",
    "\n",
    "def merge_lists2(list1, list2):\n",
    "    \"\"\"attempt 1\"\"\"\n",
    "    merged = []\n",
    "    while list1 or list2:\n",
    "        if not list1:\n",
    "            merged+=list2\n",
    "            break\n",
    "        if not list2:\n",
    "            merged+=list1\n",
    "            break\n",
    "            \n",
    "        if list1[0]<=list2[0]:\n",
    "            merged.append(list1[0])\n",
    "            list1 = list1[1:]\n",
    "        else:\n",
    "            merged.append(list2[0])\n",
    "            list2 = list2[1:]\n",
    "            \n",
    "    return merged"
   ]
  },
  {
   "cell_type": "code",
   "execution_count": 18,
   "metadata": {},
   "outputs": [],
   "source": [
    "list1 = [3, 4, 6, 10, 11, 15]\n",
    "list2 = [1, 5, 8, 12, 14, 19]\n",
    "\n",
    "# %timeit merge_lists(list1, list2)"
   ]
  },
  {
   "cell_type": "code",
   "execution_count": 19,
   "metadata": {},
   "outputs": [],
   "source": [
    "# %timeit merge_lists2(list1, list2)"
   ]
  },
  {
   "cell_type": "code",
   "execution_count": 20,
   "metadata": {},
   "outputs": [],
   "source": [
    "def is_first_come_first_served(take_out_orders, dine_in_orders, served_orders):\n",
    "    \"\"\"Solution 1: Iteration\n",
    "    \n",
    "    Complexity:\n",
    "        Time: O(n)\n",
    "        Space: O(1)\n",
    "    \"\"\"\n",
    "    take_out_order_idx = 0\n",
    "    dine_in_order_idx = 0\n",
    "    take_out_order_max_idx = len(take_out_orders) - 1\n",
    "    dine_in_order_max_idx = len(dine_in_orders) - 1\n",
    "    \n",
    "    for order in served_orders:\n",
    "        # if we still have orders in take_out_orders\n",
    "        # and the current order in take_out_orders is the same\n",
    "        # as the current order in served_orders\n",
    "        if take_out_order_idx <= take_out_order_max_idx and order == take_out_orders[take_out_order_idx]:\n",
    "            take_out_order_idx+=1\n",
    "            \n",
    "        # if we still have orders in dine_in_orders\n",
    "        # and the current order in dine_in_orders is the same\n",
    "        # as the current order in served_orders\n",
    "        elif dine_in_order_idx <= dine_in_order_max_idx and order==dine_in_orders[dine_in_order_idx]:\n",
    "            dine_in_order_idx+=1\n",
    "            \n",
    "        # if current order in served_orders doesn't match the current\n",
    "        # order in take_out_orders or dine_in_orders, then we're not serving first-come, first served\n",
    "        else:\n",
    "            return False\n",
    "        \n",
    "    # check for any extra orders at the end of take_out_orders or dine_in_orders\n",
    "    if dine_in_order_idx!=len(dine_in_orders) or take_out_order_idx!=len(take_out_orders):\n",
    "        return False\n",
    "\n",
    "    # all orders in served_orders have been accounted for\n",
    "    # so we're serving first-come, first-served\n",
    "    return True\n",
    "\n",
    "\n",
    "\n",
    "def is_first_come_first_served2(take_out_orders, \n",
    "                               dine_in_orders, \n",
    "                               served_orders,\n",
    "                               take_out_order_idx=0,\n",
    "                               dine_in_order_idx=0,\n",
    "                               served_order_idx=0):\n",
    "    \"\"\"Solution2: Iterative Recursion\n",
    "    \n",
    "    Complexity:\n",
    "        Time: \n",
    "        Space:\n",
    "    \"\"\"\n",
    "    # Base case we've hit the end of served_orders\n",
    "    if served_order_idx == len(served_orders):\n",
    "        return True\n",
    "    \n",
    "    # if we still have orders in take_out_orders\n",
    "    # and the current order in take_out_orders is the same\n",
    "    # as the current order in served_orders\n",
    "    if ((take_out_order_idx < len(take_out_orders)) and take_out_orders[take_out_order_idx]==served_orders[served_order_idx]):\n",
    "        take_out_order_idx+=1\n",
    "        \n",
    "    # if we still have orders in dine_in_orders\n",
    "    # and current order in dine_in_orders is same\n",
    "    # as current order in served_orders\n",
    "    elif ((dine_in_order_idx < len(dine_in_orders)) and dine_in_orders[dine_in_order_idx]==served_orders[served_order_idx]):\n",
    "        dine_in_order_idx+=1\n",
    "        \n",
    "    # if current order in served_orders doesn't match\n",
    "    # current order in take_out_orders or dine_in_orders, then\n",
    "    # we're not serving in first-come, first-served order\n",
    "    else:\n",
    "        return False\n",
    "    \n",
    "    # current order in served_orders has now been \"accounted for\"\n",
    "    # so move on to the next one\n",
    "    served_order_idx +=1\n",
    "    return is_first_come_first_served(take_out_orders, dine_in_orders, served_orders, \n",
    "                                      take_out_order_idx, dine_in_order_idx, served_order_idx)\n",
    "    \n",
    "\n",
    "\n",
    "def is_first_come_first_served3(take_out_orders, dine_in_orders, served_orders):\n",
    "    \"\"\"Solution3: Recursion\n",
    "    \n",
    "    Complexity:\n",
    "        Time: O(n**2)\n",
    "        Space: O(n**2)\n",
    "    \"\"\"\n",
    "    # base case\n",
    "    if len(served_orders)==0:\n",
    "        return True\n",
    "    \n",
    "    # if first order in served orders is the same as the \n",
    "    # first order in take_out_orders\n",
    "    # (making sure first that we have an order in take_out_orders)\n",
    "    if len(take_out_orders) and take_out_orders[0] == served_orders[0]:\n",
    "        # take first order off take_out_orders and served_orders and recurse\n",
    "        return is_first_come_first_served(take_out_orders[1:], dine_in_orders, served_orders[1:])\n",
    "    \n",
    "    # if first order in served_orders is th same as the first\n",
    "    # in dine_in_orders\n",
    "    elif len(dine_in_orders) and dine_in_orders[0] == served_orders[0]:\n",
    "        # Take the first order off dine_in_orders and served_orders and recurse\n",
    "        return is_first_come_first_served(take_out_orders, dine_in_orders[1:], served_orders[1:])\n",
    "    \n",
    "    # First order in served_orders doesn't match the first in\n",
    "    # take_out_orders or dine_in_orders, so we know it's not first-come, first-served\n",
    "    else:\n",
    "        return False"
   ]
  },
  {
   "cell_type": "code",
   "execution_count": 21,
   "metadata": {},
   "outputs": [],
   "source": [
    "take_out_orders = [1,3,5]\n",
    "dine_in_orders = [2,4,6]\n",
    "served_orders = [1,2,4,6,5,3]\n",
    "\n",
    "# %timeit is_first_come_first_served(take_out_orders, dine_in_orders, served_orders)"
   ]
  },
  {
   "cell_type": "code",
   "execution_count": 22,
   "metadata": {},
   "outputs": [],
   "source": [
    "take_out_orders = [17,8,24]\n",
    "dine_in_orders = [12,19,2]\n",
    "served_orders = [17,8,12,19,24,2]\n",
    "\n",
    "# %timeit is_first_come_first_served(take_out_orders, dine_in_orders, served_orders)"
   ]
  },
  {
   "cell_type": "code",
   "execution_count": 23,
   "metadata": {},
   "outputs": [],
   "source": [
    "def check_fifo(order_lists, serve_list):\n",
    "    \"\"\"attempt 1 of FIFO problem\n",
    "    \n",
    "    Complexity:\n",
    "        Time: O(n) single loop (looping through order lists as a tiny second loop)\n",
    "        Space: O(1) iteration\n",
    "    \n",
    "    \"\"\"\n",
    "    flag = True\n",
    "    for order_list in order_lists:\n",
    "        order_idx = 0\n",
    "        for s in serve_list:\n",
    "            if order_idx<len(order_list) and order_list[order_idx]==s:\n",
    "                order_idx+=1\n",
    "        if order_idx!=len(order_list):\n",
    "            flag = False\n",
    "    return flag"
   ]
  },
  {
   "cell_type": "code",
   "execution_count": 24,
   "metadata": {},
   "outputs": [],
   "source": [
    "order_lists = [[1,3,5],[2,4,6]]\n",
    "serve_list = [1,2,4,6,5,3]\n",
    "\n",
    "# %timeit check_fifo(order_lists, serve_list)"
   ]
  },
  {
   "cell_type": "code",
   "execution_count": 25,
   "metadata": {},
   "outputs": [],
   "source": [
    "order_lists = [[17,8,24],[12, 19, 2]]\n",
    "serve_list = [17, 8, 12, 19, 24, 2]\n",
    "\n",
    "# %timeit check_fifo(order_lists, serve_list)"
   ]
  },
  {
   "cell_type": "markdown",
   "metadata": {},
   "source": [
    "### Inflight Entertainment\n",
    "\n",
    "Hash Tables\n",
    "        "
   ]
  },
  {
   "cell_type": "code",
   "execution_count": 26,
   "metadata": {},
   "outputs": [],
   "source": [
    "def check_movie(flight_length:int, movie_lengths: List[int]):\n",
    "    \"\"\"attempt 2: speed up to O(n)\"\"\"\n",
    "    hash_table = set(movie_lengths)\n",
    "    for i in range(len(movie_lengths)):\n",
    "        if flight_length - movie_lengths[i] in hash_table:\n",
    "            return True\n",
    "    return False\n",
    "        \n",
    "def check_movie_a(flight_length:int, movie_lengths: List[int]):\n",
    "    \"\"\"attempt 1: check whether there are two movies in movie_lengths which sum to flight_length\"\"\"\n",
    "    for i in range(len(movie_lengths)-1):\n",
    "        for j in range(i+1,len(movie_lengths)):\n",
    "            if movie_lengths[i] + movie_lengths[j]==flight_length:\n",
    "                return True\n",
    "            \n",
    "    return False"
   ]
  },
  {
   "cell_type": "code",
   "execution_count": 27,
   "metadata": {},
   "outputs": [],
   "source": [
    "flight_length = 120\n",
    "movie_lengths1 = [60,70,50,80,40]\n",
    "movie_lengths2 = [61,62,63,64]"
   ]
  },
  {
   "cell_type": "code",
   "execution_count": 28,
   "metadata": {},
   "outputs": [],
   "source": [
    "assert check_movie(flight_length, movie_lengths1)\n",
    "assert not check_movie(flight_length, movie_lengths2)"
   ]
  },
  {
   "cell_type": "code",
   "execution_count": 29,
   "metadata": {},
   "outputs": [
    {
     "data": {
      "text/plain": [
       "True"
      ]
     },
     "execution_count": 29,
     "metadata": {},
     "output_type": "execute_result"
    }
   ],
   "source": [
    "check_movie(flight_length, movie_lengths1)"
   ]
  },
  {
   "cell_type": "code",
   "execution_count": 30,
   "metadata": {},
   "outputs": [],
   "source": [
    "# %timeit check_movie(flight_length, movie_lengths1)"
   ]
  },
  {
   "cell_type": "code",
   "execution_count": 31,
   "metadata": {},
   "outputs": [],
   "source": [
    "# %timeit check_movie_a(flight_length, movie_lengths1)"
   ]
  },
  {
   "cell_type": "markdown",
   "metadata": {},
   "source": [
    "### Palindrome Permutation"
   ]
  },
  {
   "cell_type": "code",
   "execution_count": 32,
   "metadata": {},
   "outputs": [],
   "source": [
    "def check_permutation_palindrome(string: str):\n",
    "    d = collections.defaultdict(int)\n",
    "    for s in string:\n",
    "        d[s]+=1\n",
    "    odd_flag = False\n",
    "    for k,v in d.items():\n",
    "        if v%2!=0:\n",
    "            if not odd_flag:\n",
    "                odd_flag=True\n",
    "            else:\n",
    "                return False\n",
    "    return True"
   ]
  },
  {
   "cell_type": "code",
   "execution_count": 36,
   "metadata": {},
   "outputs": [
    {
     "data": {
      "text/plain": [
       "False"
      ]
     },
     "execution_count": 36,
     "metadata": {},
     "output_type": "execute_result"
    }
   ],
   "source": [
    "check_permutation_palindrome(\"livci\")"
   ]
  },
  {
   "cell_type": "markdown",
   "metadata": {},
   "source": [
    "### Build Word Cloud"
   ]
  },
  {
   "cell_type": "code",
   "execution_count": 83,
   "metadata": {},
   "outputs": [],
   "source": [
    "def word_counts(string: str):\n",
    "    words = re.sub(r'[^\\w+ ]','',string).split(' ')\n",
    "    d = collections.defaultdict(int)\n",
    "    for w in words:\n",
    "        d[w.lower()]+=1\n",
    "    return d"
   ]
  },
  {
   "cell_type": "code",
   "execution_count": 84,
   "metadata": {},
   "outputs": [
    {
     "name": "stdout",
     "output_type": "stream",
     "text": [
      "['After', 'beating', 'the', 'eggs', 'Dana', 'read', 'the', 'next', 'step', 'Add', 'milk', 'and', 'eggs', 'then', 'add', 'flour', 'and', 'sugar']\n"
     ]
    },
    {
     "data": {
      "text/plain": [
       "defaultdict(int,\n",
       "            {'after': 1,\n",
       "             'beating': 1,\n",
       "             'the': 2,\n",
       "             'eggs': 2,\n",
       "             'dana': 1,\n",
       "             'read': 1,\n",
       "             'next': 1,\n",
       "             'step': 1,\n",
       "             'add': 2,\n",
       "             'milk': 1,\n",
       "             'and': 2,\n",
       "             'then': 1,\n",
       "             'flour': 1,\n",
       "             'sugar': 1})"
      ]
     },
     "execution_count": 84,
     "metadata": {},
     "output_type": "execute_result"
    }
   ],
   "source": [
    "sentence = 'After beating the eggs, Dana read the next step: Add milk and eggs, then add flour and sugar.'\n",
    "word_counts(sentence)"
   ]
  },
  {
   "cell_type": "code",
   "execution_count": null,
   "metadata": {},
   "outputs": [],
   "source": []
  }
 ],
 "metadata": {
  "kernelspec": {
   "display_name": "Algorithms",
   "language": "python",
   "name": "algorithms"
  },
  "language_info": {
   "codemirror_mode": {
    "name": "ipython",
    "version": 3
   },
   "file_extension": ".py",
   "mimetype": "text/x-python",
   "name": "python",
   "nbconvert_exporter": "python",
   "pygments_lexer": "ipython3",
   "version": "3.7.4"
  }
 },
 "nbformat": 4,
 "nbformat_minor": 4
}
