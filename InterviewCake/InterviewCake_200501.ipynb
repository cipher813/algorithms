{
 "cells": [
  {
   "cell_type": "code",
   "execution_count": 1,
   "metadata": {},
   "outputs": [],
   "source": [
    "import pandas as pd\n",
    "import numpy as np\n",
    "from typing import List, Tuple"
   ]
  },
  {
   "cell_type": "code",
   "execution_count": 2,
   "metadata": {},
   "outputs": [],
   "source": [
    "def merge_ranges(meeting_ranges: List[Tuple[int,int]]):\n",
    "    mr = sorted(meeting_ranges)\n",
    "    print(mr)\n",
    "    con = [mr[0]]\n",
    "    for rng in mr[1:]:\n",
    "        if rng[0]<=con[-1][1]:\n",
    "            a = con.pop()\n",
    "            start = min(a[0],rng[0])\n",
    "            end = max(a[1], rng[1])\n",
    "            con.append((start, end))\n",
    "        else:\n",
    "            con.append(rng)\n",
    "    return con"
   ]
  },
  {
   "cell_type": "code",
   "execution_count": 3,
   "metadata": {},
   "outputs": [],
   "source": [
    "meeting_ranges = [(0, 1), (3, 5), (4, 8), (10, 12), (9, 10)]"
   ]
  },
  {
   "cell_type": "code",
   "execution_count": 4,
   "metadata": {},
   "outputs": [
    {
     "name": "stdout",
     "output_type": "stream",
     "text": [
      "[(0, 1), (3, 5), (4, 8), (9, 10), (10, 12)]\n"
     ]
    },
    {
     "data": {
      "text/plain": [
       "[(0, 1), (3, 8), (9, 12)]"
      ]
     },
     "execution_count": 4,
     "metadata": {},
     "output_type": "execute_result"
    }
   ],
   "source": [
    "merge_ranges(meeting_ranges)"
   ]
  },
  {
   "cell_type": "code",
   "execution_count": 5,
   "metadata": {},
   "outputs": [
    {
     "name": "stdout",
     "output_type": "stream",
     "text": [
      "[(1, 2), (2, 3)]\n"
     ]
    },
    {
     "data": {
      "text/plain": [
       "[(1, 3)]"
      ]
     },
     "execution_count": 5,
     "metadata": {},
     "output_type": "execute_result"
    }
   ],
   "source": [
    "merge_ranges([(1,2),(2,3)])"
   ]
  },
  {
   "cell_type": "code",
   "execution_count": 6,
   "metadata": {},
   "outputs": [
    {
     "name": "stdout",
     "output_type": "stream",
     "text": [
      "[(1, 5), (2, 3)]\n"
     ]
    },
    {
     "data": {
      "text/plain": [
       "[(1, 5)]"
      ]
     },
     "execution_count": 6,
     "metadata": {},
     "output_type": "execute_result"
    }
   ],
   "source": [
    "merge_ranges([(1,5),(2,3)])"
   ]
  },
  {
   "cell_type": "code",
   "execution_count": 7,
   "metadata": {},
   "outputs": [
    {
     "name": "stdout",
     "output_type": "stream",
     "text": [
      "[(1, 10), (2, 6), (3, 5), (7, 9)]\n"
     ]
    },
    {
     "data": {
      "text/plain": [
       "[(1, 10)]"
      ]
     },
     "execution_count": 7,
     "metadata": {},
     "output_type": "execute_result"
    }
   ],
   "source": [
    "merge_ranges([(1, 10), (2, 6), (3, 5), (7, 9)])"
   ]
  },
  {
   "cell_type": "code",
   "execution_count": 15,
   "metadata": {},
   "outputs": [],
   "source": [
    "def reverse(char_list):\n",
    "    left_idx = 0\n",
    "    right_idx = len(char_list) -1\n",
    "    \n",
    "    while left_idx < right_idx:\n",
    "        char_list[left_idx], char_list[right_idx] = char_list[right_idx], char_list[left_idx]\n",
    "        \n",
    "        left_idx +=1\n",
    "        right_idx -=1\n",
    "        \n",
    "\n",
    "# def reverse_letters(char_list):\n",
    "#     return char_list[::-1]"
   ]
  },
  {
   "cell_type": "code",
   "execution_count": 17,
   "metadata": {},
   "outputs": [
    {
     "data": {
      "text/plain": [
       "['c', 'b', 'a']"
      ]
     },
     "execution_count": 17,
     "metadata": {},
     "output_type": "execute_result"
    }
   ],
   "source": [
    "char_list = ['a','b','c']\n",
    "reverse(char_list)\n",
    "char_list"
   ]
  },
  {
   "cell_type": "code",
   "execution_count": 159,
   "metadata": {},
   "outputs": [],
   "source": [
    "def reverse_words(message):\n",
    "    \"\"\"SOLUTION\"\"\"\n",
    "    # reverse all characters in entire message\n",
    "    # which gives right word order but each word backward\n",
    "    reverse_characters(message, 0, len(message)-1)\n",
    "    \n",
    "    # hold index of start of current word\n",
    "    # as we look for end of current word\n",
    "    current_word_start_idx = 0\n",
    "    \n",
    "    for i in range(len(message)+1):\n",
    "        # found end of current word\n",
    "        if i==len(message) or message[i]==\" \":\n",
    "            reverse_characters(message, current_word_start_idx, i-1)\n",
    "            \n",
    "            # if we haven't exhausted message, \n",
    "            # next word's start is one char ahead\n",
    "            current_word_start_idx = i +1\n",
    "    \n",
    "\n",
    "    \n",
    "def reverse_characters(message, left_idx, right_idx):\n",
    "    \"\"\"helper function\"\"\"\n",
    "    # walk towards middle, from both sides\n",
    "    while left_idx < right_idx:\n",
    "        # swap left char and right char\n",
    "        message[left_idx], message[right_idx] = message[right_idx], message[left_idx]\n",
    "        left_idx +=1\n",
    "        right_idx -=1\n",
    "        \n",
    "\n",
    "\n",
    "# def reverse_words1(message):\n",
    "    \n",
    "#     breaks = [0]\n",
    "#     for i in range(len(message)):\n",
    "#         if message[i]==\" \":\n",
    "#             breaks.append(i+1)\n",
    "#     breaks.append(len(message)+1)\n",
    "#     print(breaks)\n",
    "    \n",
    "#     for j in range(1,len(breaks)):\n",
    "#         message[breaks[j-1]:breaks[j]] = \n",
    "#         print(breaks[j])\n",
    "    \n",
    "#     message = reverse(message)\n",
    "#     breaks = [0, len(message)+1]\n",
    "    \n",
    "#     print(breaks)\n",
    "\n",
    "\n",
    "def reverse_words2(message):\n",
    "    \"\"\"ATTEMPT 1: MUST BE IN PLACE\"\"\"\n",
    "    message = ''.join(list(reversed(message)))\n",
    "    print(message)\n",
    "    message = ' '.join([x[::-1] for x in message.split(' ')])\n",
    "    \n",
    "    return [x for x in message]"
   ]
  },
  {
   "cell_type": "code",
   "execution_count": 160,
   "metadata": {},
   "outputs": [],
   "source": [
    "message = [ 'c', 'a', 'k', 'e', ' ',\n",
    "            'p', 'o', 'u', 'n', 'd', ' ',\n",
    "            's', 't', 'e', 'a', 'l' ]"
   ]
  },
  {
   "cell_type": "code",
   "execution_count": 161,
   "metadata": {},
   "outputs": [
    {
     "data": {
      "text/plain": [
       "['s',\n",
       " 't',\n",
       " 'e',\n",
       " 'a',\n",
       " 'l',\n",
       " ' ',\n",
       " 'p',\n",
       " 'o',\n",
       " 'u',\n",
       " 'n',\n",
       " 'd',\n",
       " ' ',\n",
       " 'c',\n",
       " 'a',\n",
       " 'k',\n",
       " 'e']"
      ]
     },
     "execution_count": 161,
     "metadata": {},
     "output_type": "execute_result"
    }
   ],
   "source": [
    "reverse_words(message)\n",
    "message"
   ]
  },
  {
   "cell_type": "code",
   "execution_count": 153,
   "metadata": {},
   "outputs": [
    {
     "data": {
      "text/plain": [
       "['p', 'o', 'u', 'n', 'd']"
      ]
     },
     "execution_count": 153,
     "metadata": {},
     "output_type": "execute_result"
    }
   ],
   "source": [
    "message[5:10]"
   ]
  },
  {
   "cell_type": "code",
   "execution_count": 154,
   "metadata": {},
   "outputs": [
    {
     "data": {
      "text/plain": [
       "['s', 't', 'e', 'a', 'l']"
      ]
     },
     "execution_count": 154,
     "metadata": {},
     "output_type": "execute_result"
    }
   ],
   "source": [
    "message[11:17]"
   ]
  },
  {
   "cell_type": "code",
   "execution_count": 81,
   "metadata": {},
   "outputs": [
    {
     "data": {
      "text/plain": [
       "list"
      ]
     },
     "execution_count": 81,
     "metadata": {},
     "output_type": "execute_result"
    }
   ],
   "source": [
    "type(message)"
   ]
  },
  {
   "cell_type": "code",
   "execution_count": 91,
   "metadata": {},
   "outputs": [
    {
     "data": {
      "text/plain": [
       "['e', 't', 's']"
      ]
     },
     "execution_count": 91,
     "metadata": {},
     "output_type": "execute_result"
    }
   ],
   "source": [
    "message[2:5]"
   ]
  },
  {
   "cell_type": "code",
   "execution_count": null,
   "metadata": {},
   "outputs": [],
   "source": []
  }
 ],
 "metadata": {
  "kernelspec": {
   "display_name": "Algorithms",
   "language": "python",
   "name": "algorithms"
  },
  "language_info": {
   "codemirror_mode": {
    "name": "ipython",
    "version": 3
   },
   "file_extension": ".py",
   "mimetype": "text/x-python",
   "name": "python",
   "nbconvert_exporter": "python",
   "pygments_lexer": "ipython3",
   "version": "3.7.4"
  }
 },
 "nbformat": 4,
 "nbformat_minor": 4
}
