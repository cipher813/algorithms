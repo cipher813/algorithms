{
 "cells": [
  {
   "cell_type": "code",
   "execution_count": null,
   "metadata": {},
   "outputs": [],
   "source": []
  },
  {
   "cell_type": "code",
   "execution_count": 1,
   "metadata": {},
   "outputs": [],
   "source": [
    "def upToKDifferences(str, k):\n",
    "#     substrings = []\n",
    "#     i = 0\n",
    "#     while i < len(str):\n",
    "#         string = set()\n",
    "#         while len(string)<=k and i < len(str):\n",
    "#             if str[i] not in string:\n",
    "#                 string.add(str[i])\n",
    "#             i+=1\n",
    "#         substrings.append(str)\n",
    "#     print(substrings)\n",
    "#     return len(substrings)\n",
    "    \n",
    "    \n",
    "    substrings = []\n",
    "    i = 0\n",
    "    while i < len(str):\n",
    "        chars = set()\n",
    "        while len(chars)<k and i<len(str):\n",
    "            if str[i] not in chars:\n",
    "                chars.add(str[i])\n",
    "            i+=1\n",
    "        substrings.append(''.join(list(chars)))\n",
    "    print(substrings)\n",
    "    return len(substrings)\n",
    "                \n",
    "    \n",
    "    \n",
    "#     while i<len(string):\n",
    "#         chars = set()\n",
    "#         while len(chars)<k and i < len(string):\n",
    "#             chars.add(string[i])\n",
    "#             i+=1\n",
    "#         substrings.append(''.join(list(chars)))\n",
    "#     print(substrings)\n",
    "#     return len(substrings)"
   ]
  },
  {
   "cell_type": "code",
   "execution_count": 2,
   "metadata": {},
   "outputs": [
    {
     "name": "stdout",
     "output_type": "stream",
     "text": [
      "['aeb', 'egf', 'cer', 'r']\n"
     ]
    },
    {
     "data": {
      "text/plain": [
       "4"
      ]
     },
     "execution_count": 2,
     "metadata": {},
     "output_type": "execute_result"
    }
   ],
   "source": [
    "upToKDifferences(\"aabeefegeeccrr\",3)"
   ]
  },
  {
   "cell_type": "code",
   "execution_count": 3,
   "metadata": {},
   "outputs": [
    {
     "name": "stdout",
     "output_type": "stream",
     "text": [
      "['ob', 'ol', 'tp', 'pt', 'tp', 'ab']\n"
     ]
    },
    {
     "data": {
      "text/plain": [
       "6"
      ]
     },
     "execution_count": 3,
     "metadata": {},
     "output_type": "execute_result"
    }
   ],
   "source": [
    "upToKDifferences(\"boooolpptttpptab\",2)"
   ]
  },
  {
   "cell_type": "code",
   "execution_count": null,
   "metadata": {},
   "outputs": [],
   "source": []
  },
  {
   "cell_type": "code",
   "execution_count": null,
   "metadata": {},
   "outputs": [],
   "source": []
  },
  {
   "cell_type": "code",
   "execution_count": null,
   "metadata": {},
   "outputs": [],
   "source": []
  },
  {
   "cell_type": "code",
   "execution_count": 4,
   "metadata": {},
   "outputs": [
    {
     "data": {
      "text/plain": [
       "9"
      ]
     },
     "execution_count": 4,
     "metadata": {},
     "output_type": "execute_result"
    }
   ],
   "source": [
    "def binaryPatternMatching(pattern, s):\n",
    "    alphabet = 'abcdefghijklmnopqrstuvwxyz'\n",
    "    vowels = 'aeiouy'\n",
    "    consonants = ''.join([x for x in alphabet if x not in vowels])\n",
    "    d = {'0':vowels, '1': consonants}\n",
    "\n",
    "    count = 0\n",
    "    for i in range(len(s)-len(pattern)+1):\n",
    "        flag = True\n",
    "        for j in range(len(pattern)):\n",
    "            if s[i+j] not in d[pattern[j]]:\n",
    "                flag = False\n",
    "        if flag==True:\n",
    "            count+=1\n",
    "\n",
    "    return count\n",
    "\n",
    "binaryPatternMatching('010','amazing')\n",
    "\n",
    "binaryPatternMatching('00','aaaaaaaaaa')"
   ]
  }
 ],
 "metadata": {
  "kernelspec": {
   "display_name": "Algorithms",
   "language": "python",
   "name": "algorithms"
  },
  "language_info": {
   "codemirror_mode": {
    "name": "ipython",
    "version": 3
   },
   "file_extension": ".py",
   "mimetype": "text/x-python",
   "name": "python",
   "nbconvert_exporter": "python",
   "pygments_lexer": "ipython3",
   "version": "3.7.4"
  }
 },
 "nbformat": 4,
 "nbformat_minor": 4
}
