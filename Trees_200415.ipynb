{
 "cells": [
  {
   "cell_type": "code",
   "execution_count": 1,
   "metadata": {},
   "outputs": [],
   "source": [
    "class BinaryTree:\n",
    "    def __init__(self, val):\n",
    "        self.val = val\n",
    "        self.left = None\n",
    "        self.right = None\n",
    "        \n",
    "    def insertLeft(self, newNode):\n",
    "        if self.left==None:\n",
    "            self.left = BinaryTree(newNode)\n",
    "        else:\n",
    "            t = BinaryTree(newNode)\n",
    "            t.left = self.left\n",
    "            self.left = t\n",
    "            \n",
    "    def insertRight(self, newNode):\n",
    "        if self.right==None:\n",
    "            self.right = BinaryTree(newNode)\n",
    "        else:\n",
    "            t = BinaryTree(newNode)\n",
    "            t.right = self.right\n",
    "            self.right = t      \n",
    "            \n",
    "    def getRight(self):\n",
    "        return self.right\n",
    "    \n",
    "    def getLeft(self):\n",
    "        return self.left\n",
    "    \n",
    "    def setRootVal(self, val):\n",
    "        self.val = val\n",
    "        \n",
    "    def getRootVal(self):\n",
    "        return self.val"
   ]
  },
  {
   "cell_type": "code",
   "execution_count": 2,
   "metadata": {},
   "outputs": [],
   "source": [
    "r = BinaryTree('a')"
   ]
  },
  {
   "cell_type": "code",
   "execution_count": 3,
   "metadata": {},
   "outputs": [],
   "source": [
    "r.insertLeft('b')\n",
    "r.insertRight('d')"
   ]
  },
  {
   "cell_type": "code",
   "execution_count": 4,
   "metadata": {},
   "outputs": [],
   "source": [
    "r.left.insertLeft('c')\n",
    "r.right.insertRight('e')"
   ]
  },
  {
   "cell_type": "code",
   "execution_count": 5,
   "metadata": {},
   "outputs": [
    {
     "data": {
      "text/plain": [
       "'b'"
      ]
     },
     "execution_count": 5,
     "metadata": {},
     "output_type": "execute_result"
    }
   ],
   "source": [
    "r.getLeft().getRootVal()"
   ]
  },
  {
   "cell_type": "code",
   "execution_count": 6,
   "metadata": {},
   "outputs": [
    {
     "data": {
      "text/plain": [
       "'d'"
      ]
     },
     "execution_count": 6,
     "metadata": {},
     "output_type": "execute_result"
    }
   ],
   "source": [
    "r.getRight().getRootVal()"
   ]
  },
  {
   "cell_type": "markdown",
   "metadata": {},
   "source": [
    "### Traversal"
   ]
  },
  {
   "cell_type": "code",
   "execution_count": 7,
   "metadata": {},
   "outputs": [],
   "source": [
    "def preorder(tree):\n",
    "    \"\"\"root, left, right\"\"\"\n",
    "    if tree:\n",
    "        print(tree.getRootVal())\n",
    "        preorder(tree.getLeft())\n",
    "        preorder(tree.getRight())\n",
    "        \n",
    "def postorder(tree):\n",
    "    \"\"\"left, right, root\"\"\"\n",
    "    if tree:\n",
    "        postorder(tree.getLeft())\n",
    "        postorder(tree.getRight())\n",
    "        print(tree.getRootVal())\n",
    "        \n",
    "def inorder(tree):\n",
    "    \"\"\"left, root, right\"\"\"\n",
    "    if tree:\n",
    "        inorder(tree.getLeft())\n",
    "        print(tree.getRootVal())\n",
    "        inorder(tree.getRight())"
   ]
  },
  {
   "cell_type": "code",
   "execution_count": 8,
   "metadata": {},
   "outputs": [
    {
     "name": "stdout",
     "output_type": "stream",
     "text": [
      "a\n",
      "b\n",
      "c\n",
      "d\n",
      "e\n"
     ]
    }
   ],
   "source": [
    "preorder(r)"
   ]
  },
  {
   "cell_type": "code",
   "execution_count": 9,
   "metadata": {},
   "outputs": [
    {
     "name": "stdout",
     "output_type": "stream",
     "text": [
      "c\n",
      "b\n",
      "e\n",
      "d\n",
      "a\n"
     ]
    }
   ],
   "source": [
    "postorder(r)"
   ]
  },
  {
   "cell_type": "code",
   "execution_count": 10,
   "metadata": {},
   "outputs": [
    {
     "name": "stdout",
     "output_type": "stream",
     "text": [
      "c\n",
      "b\n",
      "a\n",
      "d\n",
      "e\n"
     ]
    }
   ],
   "source": [
    "inorder(r)"
   ]
  },
  {
   "cell_type": "markdown",
   "metadata": {},
   "source": [
    "### Binary Heap"
   ]
  },
  {
   "cell_type": "code",
   "execution_count": 11,
   "metadata": {},
   "outputs": [],
   "source": [
    "class BinHeap:\n",
    "    def __init__(self):\n",
    "        self.heapList = [0]\n",
    "        self.currentSize = 0\n",
    "        \n",
    "    def percUp(self, i):\n",
    "        while i // 2 > 0:\n",
    "            if self.heapList[i]<self.heapList[i//2]:\n",
    "                tmp = self.heapList[i//2]\n",
    "                self.heapList[i//2] = self.heapList[i]\n",
    "                self.heapList[i] = tmp\n",
    "            i = i//2\n",
    "            \n",
    "    def insert(self, k):\n",
    "        self.heapList.append(k)\n",
    "        self.currentSize = self.currentSize + 1\n",
    "        self.percUp(self.currentSize)\n",
    "        \n",
    "    def percDown(self, i):\n",
    "        while (i*2)<= self.currentSize:\n",
    "            mc = self.minChild(i)\n",
    "            if self.heapList[i]>self.heapList[mc]:\n",
    "                tmp = self.heapList[i]\n",
    "                self.heapList[i] = self.heapList[mc]\n",
    "                self.heapList[mc] = tmp\n",
    "            i = mc\n",
    "            \n",
    "    def minChild(self, i):\n",
    "        if i * 2 + 1 > self.currentSize:\n",
    "            return i * 2\n",
    "        \n",
    "        else:\n",
    "            if self.heapList[i*2]<self.heapList[i*2+1]:\n",
    "                return i * 2\n",
    "            else:\n",
    "                return i*2 + 1\n",
    "            \n",
    "    def delMin(self):\n",
    "        retval = self.heapList[1]\n",
    "        self.heapList[1] = self.heapList[self.currentSize]\n",
    "        self.currentSize = self.currentSize - 1\n",
    "        self.heapList.pop()\n",
    "        self.percDown(1)\n",
    "        return retval\n",
    "    \n",
    "    def buildHeap(self, alist):\n",
    "        i = len(alist) // 2\n",
    "        self.currentSize = len(alist)\n",
    "        self.heapList = [0] + alist[:]\n",
    "        while (i>0):\n",
    "            self.percDown(i)\n",
    "            i-=1\n",
    "        "
   ]
  },
  {
   "cell_type": "code",
   "execution_count": 12,
   "metadata": {},
   "outputs": [],
   "source": [
    "bh = BinHeap()"
   ]
  },
  {
   "cell_type": "code",
   "execution_count": 13,
   "metadata": {},
   "outputs": [],
   "source": [
    "bh.buildHeap([9,6,5,2,3])"
   ]
  },
  {
   "cell_type": "code",
   "execution_count": 14,
   "metadata": {},
   "outputs": [
    {
     "data": {
      "text/plain": [
       "[0, 2, 3, 5, 6, 9]"
      ]
     },
     "execution_count": 14,
     "metadata": {},
     "output_type": "execute_result"
    }
   ],
   "source": [
    "bh.heapList"
   ]
  },
  {
   "cell_type": "markdown",
   "metadata": {},
   "source": [
    "### Binary Search Trees"
   ]
  },
  {
   "cell_type": "code",
   "execution_count": null,
   "metadata": {},
   "outputs": [],
   "source": [
    "class TreeNode:\n",
    "    def __init__(self, key, val, left=None, right=None, parent=None):\n",
    "        self.key = key\n",
    "        self.payload = val\n",
    "        self.left = left\n",
    "        self.right = right\n",
    "        self.parent = parent\n",
    "        \n",
    "    def hasLeft(self):\n",
    "        return self.left\n",
    "    \n",
    "    def hasRight(self):\n",
    "        return self.right\n",
    "    \n",
    "    def isLeft(self):\n",
    "        return self.parent and self.parent.left == self\n",
    "    \n",
    "    def isRight(self):\n",
    "        return self.parent and self.parent.right == self\n",
    "    \n",
    "    def isRoot(self):\n",
    "        return not self.parent\n",
    "    \n",
    "    def isLeaf(self):\n",
    "        return not (self.right or self.left)\n",
    "    \n",
    "    def hasAnyChildren(self):\n",
    "        return self.right or self.left\n",
    "    \n",
    "    def hasBothChildren(self):\n",
    "        return self.right and self.left\n",
    "    \n",
    "    def replaceNodeData(self, key, value, lc, rc):\n",
    "        self.key = key\n",
    "        self.payload = value\n",
    "        self.left = lc\n",
    "        self.right = rc\n",
    "        if self.hasLeft():\n",
    "            self.left.parent = self\n",
    "        if self.hasRight():\n",
    "            self.right.parent = self\n",
    "\n",
    "\n",
    "class BinarySearchTree:\n",
    "    def __init__(self):\n",
    "        self.root = None\n",
    "        self.size = 0\n",
    "        \n",
    "    def length(self):\n",
    "        return self.size\n",
    "    \n",
    "    def __len__(self):\n",
    "        return self.size\n",
    "    \n",
    "    def put(self, key, val):\n",
    "        if self.root:\n",
    "            self._put(key, val, self.root)\n",
    "        else:\n",
    "            self.root = TreeNode(key, val)\n",
    "        self.size+=1\n",
    "        \n",
    "    def _put(self, key, val, currentNode):\n",
    "        if key < currentNode.key:\n",
    "            if currentNode.hasLeft():\n",
    "                self._put(key, val, currentNode.left)\n",
    "            else:\n",
    "                currentNode.left = TreeNode(key, val, parent=currentNode)\n",
    "        else:\n",
    "            if currentNode.hasRight():\n",
    "                self._put(key, val, currentNode.right)\n",
    "            else:\n",
    "                currentNode.right = TreeNode(key, val, parent=currentNode)\n",
    "                \n",
    "    def __setitem__(self, k, v):\n",
    "        self.put(k,v)\n",
    "        \n",
    "    def get(self, key):\n",
    "        if self.root:\n",
    "            res = self._get(key, self.root)\n",
    "            if res:\n",
    "                return res.payload\n",
    "            else:\n",
    "                return None\n",
    "        else:\n",
    "            return None\n",
    "        \n",
    "    def _get(self, key, currentNode):\n",
    "        if not currentNode:\n",
    "            return None\n",
    "        elif currentNode.key == key:\n",
    "            return currentNode\n",
    "        elif key < currentNode.key:\n",
    "            return self._get(key, currentNode.left)\n",
    "        else:\n",
    "            return self._get(key, currentNode.right)\n",
    "        \n",
    "    def __getitem__(self, key):\n",
    "        return self.get(key)\n",
    "    \n",
    "    def __iter__(self):\n",
    "        return self.root.__iter__()"
   ]
  }
 ],
 "metadata": {
  "kernelspec": {
   "display_name": "Algorithms",
   "language": "python",
   "name": "algorithms"
  },
  "language_info": {
   "codemirror_mode": {
    "name": "ipython",
    "version": 3
   },
   "file_extension": ".py",
   "mimetype": "text/x-python",
   "name": "python",
   "nbconvert_exporter": "python",
   "pygments_lexer": "ipython3",
   "version": "3.7.4"
  }
 },
 "nbformat": 4,
 "nbformat_minor": 4
}
