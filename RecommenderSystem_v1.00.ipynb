{
 "cells": [
  {
   "cell_type": "markdown",
   "metadata": {},
   "source": [
    "# Recommender System\n",
    "\n",
    "Books\n",
    "\n",
    "April 2019\n",
    "\n",
    "Based on recommender system architecture [here](https://github.com/cipher813/recommender_system) and Book Crossing dataset [here](http://www2.informatik.uni-freiburg.de/~cziegler/BX/)."
   ]
  },
  {
   "cell_type": "code",
   "execution_count": 1,
   "metadata": {},
   "outputs": [],
   "source": [
    "from scipy.sparse import csr_matrix \n",
    "from sklearn.neighbors import NearestNeighbors\n",
    "\n",
    "from bm_util import *\n",
    "\n",
    "import warnings\n",
    "warnings.filterwarnings('ignore')"
   ]
  },
  {
   "cell_type": "code",
   "execution_count": 2,
   "metadata": {},
   "outputs": [],
   "source": [
    "PATH = \"/tmp/data/\""
   ]
  },
  {
   "cell_type": "markdown",
   "metadata": {},
   "source": []
  },
  {
   "cell_type": "code",
   "execution_count": 3,
   "metadata": {},
   "outputs": [
    {
     "data": {
      "text/plain": [
       "['BX-Book-Ratings.csv', 'BX-Books.csv', 'BX-CSV-Dump.zip', 'BX-Users.csv']"
      ]
     },
     "execution_count": 3,
     "metadata": {},
     "output_type": "execute_result"
    }
   ],
   "source": [
    "fp = PATH + \"BX-CSV-Dump.zip\"\n",
    "url = 'http://www2.informatik.uni-freiburg.de/~cziegler/BX/BX-CSV-Dump.zip'\n",
    "fp = download_url_to_filepath(fp, url)\n",
    "unzip_file(fp,PATH)\n",
    "os.listdir(PATH)"
   ]
  },
  {
   "cell_type": "code",
   "execution_count": 4,
   "metadata": {},
   "outputs": [],
   "source": [
    "def read_BX_csv(filepath,encoding):\n",
    "    df = pd.read_csv(filepath,delimiter=';',error_bad_lines=False,encoding=encoding)\n",
    "    return df\n",
    "\n",
    "def print_info(df):\n",
    "    print(f\"Shape:\\n{df.shape}\")\n",
    "    print(f\"Info:\\n{df.info()}\")\n",
    "    print(f\"Unique:\\n{df.nunique()}\")"
   ]
  },
  {
   "cell_type": "code",
   "execution_count": 5,
   "metadata": {},
   "outputs": [
    {
     "name": "stderr",
     "output_type": "stream",
     "text": [
      "b'Skipping line 6452: expected 8 fields, saw 9\\nSkipping line 43667: expected 8 fields, saw 10\\nSkipping line 51751: expected 8 fields, saw 9\\n'\n",
      "b'Skipping line 92038: expected 8 fields, saw 9\\nSkipping line 104319: expected 8 fields, saw 9\\nSkipping line 121768: expected 8 fields, saw 9\\n'\n",
      "b'Skipping line 144058: expected 8 fields, saw 9\\nSkipping line 150789: expected 8 fields, saw 9\\nSkipping line 157128: expected 8 fields, saw 9\\nSkipping line 180189: expected 8 fields, saw 9\\nSkipping line 185738: expected 8 fields, saw 9\\n'\n",
      "b'Skipping line 209388: expected 8 fields, saw 9\\nSkipping line 220626: expected 8 fields, saw 9\\nSkipping line 227933: expected 8 fields, saw 11\\nSkipping line 228957: expected 8 fields, saw 10\\nSkipping line 245933: expected 8 fields, saw 9\\nSkipping line 251296: expected 8 fields, saw 9\\nSkipping line 259941: expected 8 fields, saw 9\\nSkipping line 261529: expected 8 fields, saw 9\\n'\n"
     ]
    }
   ],
   "source": [
    "br = read_BX_csv(PATH + \"BX-Book-Ratings.csv\",'unicode_escape')\n",
    "bu = read_BX_csv(PATH + \"BX-Users.csv\",'unicode_escape')\n",
    "bk = read_BX_csv(PATH + \"BX-Books.csv\",'latin-1')"
   ]
  },
  {
   "cell_type": "code",
   "execution_count": 6,
   "metadata": {},
   "outputs": [
    {
     "name": "stdout",
     "output_type": "stream",
     "text": [
      "\n",
      "Ratings\n",
      "\n",
      "Shape:\n",
      "(1149780, 3)\n",
      "<class 'pandas.core.frame.DataFrame'>\n",
      "RangeIndex: 1149780 entries, 0 to 1149779\n",
      "Data columns (total 3 columns):\n",
      "User-ID        1149780 non-null int64\n",
      "ISBN           1149780 non-null object\n",
      "Book-Rating    1149780 non-null int64\n",
      "dtypes: int64(2), object(1)\n",
      "memory usage: 26.3+ MB\n",
      "Info:\n",
      "None\n",
      "Unique:\n",
      "User-ID        105283\n",
      "ISBN           340556\n",
      "Book-Rating        11\n",
      "dtype: int64\n",
      "\n",
      "Users\n",
      "\n",
      "Shape:\n",
      "(278858, 3)\n",
      "<class 'pandas.core.frame.DataFrame'>\n",
      "RangeIndex: 278858 entries, 0 to 278857\n",
      "Data columns (total 3 columns):\n",
      "User-ID     278858 non-null int64\n",
      "Location    278858 non-null object\n",
      "Age         168096 non-null float64\n",
      "dtypes: float64(1), int64(1), object(1)\n",
      "memory usage: 6.4+ MB\n",
      "Info:\n",
      "None\n",
      "Unique:\n",
      "User-ID     278858\n",
      "Location     57339\n",
      "Age            165\n",
      "dtype: int64\n",
      "\n",
      "Info\n",
      "\n",
      "Shape:\n",
      "(271360, 8)\n",
      "<class 'pandas.core.frame.DataFrame'>\n",
      "RangeIndex: 271360 entries, 0 to 271359\n",
      "Data columns (total 8 columns):\n",
      "ISBN                   271360 non-null object\n",
      "Book-Title             271360 non-null object\n",
      "Book-Author            271359 non-null object\n",
      "Year-Of-Publication    271360 non-null object\n",
      "Publisher              271358 non-null object\n",
      "Image-URL-S            271360 non-null object\n",
      "Image-URL-M            271360 non-null object\n",
      "Image-URL-L            271357 non-null object\n",
      "dtypes: object(8)\n",
      "memory usage: 16.6+ MB\n",
      "Info:\n",
      "None\n",
      "Unique:\n",
      "ISBN                   271360\n",
      "Book-Title             242135\n",
      "Book-Author            102023\n",
      "Year-Of-Publication       202\n",
      "Publisher               16807\n",
      "Image-URL-S            271044\n",
      "Image-URL-M            271044\n",
      "Image-URL-L            271041\n",
      "dtype: int64\n"
     ]
    }
   ],
   "source": [
    "for df in [(\"Ratings\",br), (\"Users\",bu), (\"Info\",bk)]:\n",
    "    print(f\"\\n{df[0]}\\n\")\n",
    "    print_info(df[1])"
   ]
  },
  {
   "cell_type": "code",
   "execution_count": 7,
   "metadata": {},
   "outputs": [],
   "source": [
    "df1 = br.merge(bu,how='left',on='User-ID')\n",
    "df = df1.merge(bk,how='left',on='ISBN')\n",
    "user_rank = pd.DataFrame(br.groupby(\"User-ID\")[\"ISBN\"].count()).rename(columns={\"ISBN\":\"User-Rating-Count\"}).sort_values(\"User-Rating-Count\",ascending=False)\n",
    "book_rank = pd.DataFrame(br.groupby(\"ISBN\")[\"User-ID\"].count()).rename(columns={\"User-ID\":\"Book-Rating-Count\"}).sort_values(\"Book-Rating-Count\",ascending=False)"
   ]
  },
  {
   "cell_type": "code",
   "execution_count": 8,
   "metadata": {},
   "outputs": [
    {
     "data": {
      "text/html": [
       "<div>\n",
       "<style scoped>\n",
       "    .dataframe tbody tr th:only-of-type {\n",
       "        vertical-align: middle;\n",
       "    }\n",
       "\n",
       "    .dataframe tbody tr th {\n",
       "        vertical-align: top;\n",
       "    }\n",
       "\n",
       "    .dataframe thead th {\n",
       "        text-align: right;\n",
       "    }\n",
       "</style>\n",
       "<table border=\"1\" class=\"dataframe\">\n",
       "  <thead>\n",
       "    <tr style=\"text-align: right;\">\n",
       "      <th></th>\n",
       "      <th>User-Rating-Count</th>\n",
       "    </tr>\n",
       "    <tr>\n",
       "      <th>User-ID</th>\n",
       "      <th></th>\n",
       "    </tr>\n",
       "  </thead>\n",
       "  <tbody>\n",
       "    <tr>\n",
       "      <th>11676</th>\n",
       "      <td>13602</td>\n",
       "    </tr>\n",
       "    <tr>\n",
       "      <th>198711</th>\n",
       "      <td>7550</td>\n",
       "    </tr>\n",
       "    <tr>\n",
       "      <th>153662</th>\n",
       "      <td>6109</td>\n",
       "    </tr>\n",
       "    <tr>\n",
       "      <th>98391</th>\n",
       "      <td>5891</td>\n",
       "    </tr>\n",
       "    <tr>\n",
       "      <th>35859</th>\n",
       "      <td>5850</td>\n",
       "    </tr>\n",
       "  </tbody>\n",
       "</table>\n",
       "</div>"
      ],
      "text/plain": [
       "         User-Rating-Count\n",
       "User-ID                   \n",
       "11676                13602\n",
       "198711                7550\n",
       "153662                6109\n",
       "98391                 5891\n",
       "35859                 5850"
      ]
     },
     "execution_count": 8,
     "metadata": {},
     "output_type": "execute_result"
    }
   ],
   "source": [
    "user_rank.head()"
   ]
  },
  {
   "cell_type": "code",
   "execution_count": 9,
   "metadata": {},
   "outputs": [
    {
     "data": {
      "text/html": [
       "<div>\n",
       "<style scoped>\n",
       "    .dataframe tbody tr th:only-of-type {\n",
       "        vertical-align: middle;\n",
       "    }\n",
       "\n",
       "    .dataframe tbody tr th {\n",
       "        vertical-align: top;\n",
       "    }\n",
       "\n",
       "    .dataframe thead th {\n",
       "        text-align: right;\n",
       "    }\n",
       "</style>\n",
       "<table border=\"1\" class=\"dataframe\">\n",
       "  <thead>\n",
       "    <tr style=\"text-align: right;\">\n",
       "      <th></th>\n",
       "      <th>Book-Rating-Count</th>\n",
       "    </tr>\n",
       "    <tr>\n",
       "      <th>ISBN</th>\n",
       "      <th></th>\n",
       "    </tr>\n",
       "  </thead>\n",
       "  <tbody>\n",
       "    <tr>\n",
       "      <th>0971880107</th>\n",
       "      <td>2502</td>\n",
       "    </tr>\n",
       "    <tr>\n",
       "      <th>0316666343</th>\n",
       "      <td>1295</td>\n",
       "    </tr>\n",
       "    <tr>\n",
       "      <th>0385504209</th>\n",
       "      <td>883</td>\n",
       "    </tr>\n",
       "    <tr>\n",
       "      <th>0060928336</th>\n",
       "      <td>732</td>\n",
       "    </tr>\n",
       "    <tr>\n",
       "      <th>0312195516</th>\n",
       "      <td>723</td>\n",
       "    </tr>\n",
       "  </tbody>\n",
       "</table>\n",
       "</div>"
      ],
      "text/plain": [
       "            Book-Rating-Count\n",
       "ISBN                         \n",
       "0971880107               2502\n",
       "0316666343               1295\n",
       "0385504209                883\n",
       "0060928336                732\n",
       "0312195516                723"
      ]
     },
     "execution_count": 9,
     "metadata": {},
     "output_type": "execute_result"
    }
   ],
   "source": [
    "book_rank.head()"
   ]
  },
  {
   "cell_type": "code",
   "execution_count": 10,
   "metadata": {},
   "outputs": [
    {
     "name": "stdout",
     "output_type": "stream",
     "text": [
      "(65217, 14)\n"
     ]
    },
    {
     "data": {
      "text/html": [
       "<div>\n",
       "<style scoped>\n",
       "    .dataframe tbody tr th:only-of-type {\n",
       "        vertical-align: middle;\n",
       "    }\n",
       "\n",
       "    .dataframe tbody tr th {\n",
       "        vertical-align: top;\n",
       "    }\n",
       "\n",
       "    .dataframe thead th {\n",
       "        text-align: right;\n",
       "    }\n",
       "</style>\n",
       "<table border=\"1\" class=\"dataframe\">\n",
       "  <thead>\n",
       "    <tr style=\"text-align: right;\">\n",
       "      <th></th>\n",
       "      <th>User-ID</th>\n",
       "      <th>ISBN</th>\n",
       "      <th>Book-Rating</th>\n",
       "      <th>Location</th>\n",
       "      <th>Age</th>\n",
       "      <th>Book-Title</th>\n",
       "      <th>Book-Author</th>\n",
       "      <th>Year-Of-Publication</th>\n",
       "      <th>Publisher</th>\n",
       "      <th>Image-URL-S</th>\n",
       "      <th>Image-URL-M</th>\n",
       "      <th>Image-URL-L</th>\n",
       "      <th>User-Rating-Count</th>\n",
       "      <th>Book-Rating-Count</th>\n",
       "    </tr>\n",
       "  </thead>\n",
       "  <tbody>\n",
       "    <tr>\n",
       "      <th>413</th>\n",
       "      <td>276925</td>\n",
       "      <td>002542730X</td>\n",
       "      <td>10</td>\n",
       "      <td>barcelona, barcelona, spain</td>\n",
       "      <td>22.0</td>\n",
       "      <td>Politically Correct Bedtime Stories: Modern Ta...</td>\n",
       "      <td>James Finn Garner</td>\n",
       "      <td>1994</td>\n",
       "      <td>John Wiley &amp;amp; Sons Inc</td>\n",
       "      <td>http://images.amazon.com/images/P/002542730X.0...</td>\n",
       "      <td>http://images.amazon.com/images/P/002542730X.0...</td>\n",
       "      <td>http://images.amazon.com/images/P/002542730X.0...</td>\n",
       "      <td>108</td>\n",
       "      <td>171</td>\n",
       "    </tr>\n",
       "    <tr>\n",
       "      <th>426</th>\n",
       "      <td>276925</td>\n",
       "      <td>0316666343</td>\n",
       "      <td>0</td>\n",
       "      <td>barcelona, barcelona, spain</td>\n",
       "      <td>22.0</td>\n",
       "      <td>The Lovely Bones: A Novel</td>\n",
       "      <td>Alice Sebold</td>\n",
       "      <td>2002</td>\n",
       "      <td>Little, Brown</td>\n",
       "      <td>http://images.amazon.com/images/P/0316666343.0...</td>\n",
       "      <td>http://images.amazon.com/images/P/0316666343.0...</td>\n",
       "      <td>http://images.amazon.com/images/P/0316666343.0...</td>\n",
       "      <td>108</td>\n",
       "      <td>1295</td>\n",
       "    </tr>\n",
       "    <tr>\n",
       "      <th>429</th>\n",
       "      <td>276925</td>\n",
       "      <td>0385504209</td>\n",
       "      <td>8</td>\n",
       "      <td>barcelona, barcelona, spain</td>\n",
       "      <td>22.0</td>\n",
       "      <td>The Da Vinci Code</td>\n",
       "      <td>Dan Brown</td>\n",
       "      <td>2003</td>\n",
       "      <td>Doubleday</td>\n",
       "      <td>http://images.amazon.com/images/P/0385504209.0...</td>\n",
       "      <td>http://images.amazon.com/images/P/0385504209.0...</td>\n",
       "      <td>http://images.amazon.com/images/P/0385504209.0...</td>\n",
       "      <td>108</td>\n",
       "      <td>883</td>\n",
       "    </tr>\n",
       "    <tr>\n",
       "      <th>453</th>\n",
       "      <td>276925</td>\n",
       "      <td>0804106304</td>\n",
       "      <td>0</td>\n",
       "      <td>barcelona, barcelona, spain</td>\n",
       "      <td>22.0</td>\n",
       "      <td>The Joy Luck Club</td>\n",
       "      <td>Amy Tan</td>\n",
       "      <td>1994</td>\n",
       "      <td>Prentice Hall (K-12)</td>\n",
       "      <td>http://images.amazon.com/images/P/0804106304.0...</td>\n",
       "      <td>http://images.amazon.com/images/P/0804106304.0...</td>\n",
       "      <td>http://images.amazon.com/images/P/0804106304.0...</td>\n",
       "      <td>108</td>\n",
       "      <td>519</td>\n",
       "    </tr>\n",
       "    <tr>\n",
       "      <th>457</th>\n",
       "      <td>276925</td>\n",
       "      <td>0971880107</td>\n",
       "      <td>0</td>\n",
       "      <td>barcelona, barcelona, spain</td>\n",
       "      <td>22.0</td>\n",
       "      <td>Wild Animus</td>\n",
       "      <td>Rich Shapero</td>\n",
       "      <td>2004</td>\n",
       "      <td>Too Far</td>\n",
       "      <td>http://images.amazon.com/images/P/0971880107.0...</td>\n",
       "      <td>http://images.amazon.com/images/P/0971880107.0...</td>\n",
       "      <td>http://images.amazon.com/images/P/0971880107.0...</td>\n",
       "      <td>108</td>\n",
       "      <td>2502</td>\n",
       "    </tr>\n",
       "  </tbody>\n",
       "</table>\n",
       "</div>"
      ],
      "text/plain": [
       "     User-ID        ISBN  Book-Rating                     Location   Age  \\\n",
       "413   276925  002542730X           10  barcelona, barcelona, spain  22.0   \n",
       "426   276925  0316666343            0  barcelona, barcelona, spain  22.0   \n",
       "429   276925  0385504209            8  barcelona, barcelona, spain  22.0   \n",
       "453   276925  0804106304            0  barcelona, barcelona, spain  22.0   \n",
       "457   276925  0971880107            0  barcelona, barcelona, spain  22.0   \n",
       "\n",
       "                                            Book-Title        Book-Author  \\\n",
       "413  Politically Correct Bedtime Stories: Modern Ta...  James Finn Garner   \n",
       "426                          The Lovely Bones: A Novel       Alice Sebold   \n",
       "429                                  The Da Vinci Code          Dan Brown   \n",
       "453                                  The Joy Luck Club            Amy Tan   \n",
       "457                                        Wild Animus       Rich Shapero   \n",
       "\n",
       "    Year-Of-Publication                  Publisher  \\\n",
       "413                1994  John Wiley &amp; Sons Inc   \n",
       "426                2002              Little, Brown   \n",
       "429                2003                  Doubleday   \n",
       "453                1994       Prentice Hall (K-12)   \n",
       "457                2004                    Too Far   \n",
       "\n",
       "                                           Image-URL-S  \\\n",
       "413  http://images.amazon.com/images/P/002542730X.0...   \n",
       "426  http://images.amazon.com/images/P/0316666343.0...   \n",
       "429  http://images.amazon.com/images/P/0385504209.0...   \n",
       "453  http://images.amazon.com/images/P/0804106304.0...   \n",
       "457  http://images.amazon.com/images/P/0971880107.0...   \n",
       "\n",
       "                                           Image-URL-M  \\\n",
       "413  http://images.amazon.com/images/P/002542730X.0...   \n",
       "426  http://images.amazon.com/images/P/0316666343.0...   \n",
       "429  http://images.amazon.com/images/P/0385504209.0...   \n",
       "453  http://images.amazon.com/images/P/0804106304.0...   \n",
       "457  http://images.amazon.com/images/P/0971880107.0...   \n",
       "\n",
       "                                           Image-URL-L  User-Rating-Count  \\\n",
       "413  http://images.amazon.com/images/P/002542730X.0...                108   \n",
       "426  http://images.amazon.com/images/P/0316666343.0...                108   \n",
       "429  http://images.amazon.com/images/P/0385504209.0...                108   \n",
       "453  http://images.amazon.com/images/P/0804106304.0...                108   \n",
       "457  http://images.amazon.com/images/P/0971880107.0...                108   \n",
       "\n",
       "     Book-Rating-Count  \n",
       "413                171  \n",
       "426               1295  \n",
       "429                883  \n",
       "453                519  \n",
       "457               2502  "
      ]
     },
     "execution_count": 10,
     "metadata": {},
     "output_type": "execute_result"
    }
   ],
   "source": [
    "df = df.merge(user_rank,how='left',on=\"User-ID\")\n",
    "df = df.merge(book_rank,how='left',on=\"ISBN\")\n",
    "\n",
    "# filtered to users who have given over 100 ratings, and books that have received over 100 ratings\n",
    "df = df[(df['User-Rating-Count']>100) & (df['Book-Rating-Count']>100)]\n",
    "print(df.shape)\n",
    "df.head()"
   ]
  },
  {
   "cell_type": "markdown",
   "metadata": {},
   "source": [
    "### Prepare Sparse Matrix"
   ]
  },
  {
   "cell_type": "code",
   "execution_count": 14,
   "metadata": {},
   "outputs": [],
   "source": [
    "def data_to_sparse(data,index,columns,values):\n",
    "    pivot = data.pivot(index=index,columns=columns,values=values).fillna(0)\n",
    "    sparse = csr_matrix(pivot.values)\n",
    "    print(sparse.shape)\n",
    "    return pivot,sparse\n",
    "\n",
    "def fit_knn(sparse):\n",
    "    knn = NearestNeighbors(metric='cosine')\n",
    "    knn.fit(sparse)\n",
    "    print(knn)\n",
    "    return knn"
   ]
  },
  {
   "cell_type": "code",
   "execution_count": 15,
   "metadata": {},
   "outputs": [
    {
     "name": "stdout",
     "output_type": "stream",
     "text": [
      "(721, 1767)\n"
     ]
    }
   ],
   "source": [
    "pivot, sparse = data_to_sparse(df,\"ISBN\",\"User-ID\",\"Book-Rating\")"
   ]
  },
  {
   "cell_type": "code",
   "execution_count": 16,
   "metadata": {},
   "outputs": [
    {
     "name": "stdout",
     "output_type": "stream",
     "text": [
      "NearestNeighbors(algorithm='auto', leaf_size=30, metric='cosine',\n",
      "         metric_params=None, n_jobs=None, n_neighbors=5, p=2, radius=1.0)\n"
     ]
    }
   ],
   "source": [
    "knn = fit_knn(sparse)"
   ]
  },
  {
   "cell_type": "code",
   "execution_count": null,
   "metadata": {},
   "outputs": [],
   "source": []
  }
 ],
 "metadata": {
  "kernelspec": {
   "display_name": "Python 3.7",
   "language": "python",
   "name": "python37"
  },
  "language_info": {
   "codemirror_mode": {
    "name": "ipython",
    "version": 3
   },
   "file_extension": ".py",
   "mimetype": "text/x-python",
   "name": "python",
   "nbconvert_exporter": "python",
   "pygments_lexer": "ipython3",
   "version": "3.7.3"
  }
 },
 "nbformat": 4,
 "nbformat_minor": 2
}
