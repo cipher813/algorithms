{
 "cells": [
  {
   "cell_type": "markdown",
   "metadata": {},
   "source": [
    "# Data Exploration"
   ]
  },
  {
   "cell_type": "code",
   "execution_count": 1,
   "metadata": {},
   "outputs": [],
   "source": [
    "import pandas as pd \n",
    "import numpy as np\n",
    "from datetime import datetime\n",
    "import matplotlib.pyplot as plt"
   ]
  },
  {
   "cell_type": "code",
   "execution_count": 2,
   "metadata": {},
   "outputs": [],
   "source": [
    "def filter_datetime(string):\n",
    "    return string.split('+')[0]"
   ]
  },
  {
   "cell_type": "code",
   "execution_count": 3,
   "metadata": {},
   "outputs": [],
   "source": [
    "data = pd.read_csv(\"~/Downloads/sleep.csv\")\n",
    "data['sleep'] = data['sleep'].apply(lambda x: filter_datetime(x))\n",
    "data['sleep_dt'] = data['sleep'].apply(lambda x: datetime.strptime(x,'%Y-%m-%d %H:%M:%S'))\n",
    "data['wake'] = data['wake'].apply(lambda x: filter_datetime(x))\n",
    "data['wake_dt'] = data['wake'].apply(lambda x: datetime.strptime(x,'%Y-%m-%d %H:%M:%S'))\n",
    "data['sleep_hours'] = data['wake_dt'] - data['sleep_dt']\n",
    "data['sleep_hours'] = data['sleep_hours'].apply(lambda x: x.total_seconds() / 60 / 60)"
   ]
  },
  {
   "cell_type": "code",
   "execution_count": 4,
   "metadata": {},
   "outputs": [
    {
     "data": {
      "text/plain": [
       "7.577058644788818"
      ]
     },
     "execution_count": 4,
     "metadata": {},
     "output_type": "execute_result"
    }
   ],
   "source": [
    "data['sleep_hours'].mean()"
   ]
  },
  {
   "cell_type": "code",
   "execution_count": 5,
   "metadata": {},
   "outputs": [
    {
     "data": {
      "text/plain": [
       "numpy.float64"
      ]
     },
     "execution_count": 5,
     "metadata": {},
     "output_type": "execute_result"
    }
   ],
   "source": [
    "type(data['sleep_hours'][0])"
   ]
  },
  {
   "cell_type": "code",
   "execution_count": 6,
   "metadata": {},
   "outputs": [
    {
     "data": {
      "text/plain": [
       "<matplotlib.lines.Line2D at 0x11f269710>"
      ]
     },
     "execution_count": 6,
     "metadata": {},
     "output_type": "execute_result"
    },
    {
     "data": {
      "image/png": "[encoded data removed]",
      "text/plain": [
       "<Figure size 432x288 with 1 Axes>"
      ]
     },
     "metadata": {
      "needs_background": "light"
     },
     "output_type": "display_data"
    }
   ],
   "source": [
    "fig, ax = plt.subplots()\n",
    "ax.hist(data['sleep_hours'])\n",
    "ax.set_xlabel('hours')\n",
    "ax.set_ylabel('probability density')\n",
    "ax.axvline(data['sleep_hours'].mean(), color='orange')"
   ]
  },
  {
   "cell_type": "code",
   "execution_count": 7,
   "metadata": {},
   "outputs": [],
   "source": [
    "data['day'] = data['wake_dt'].apply(lambda x: x.weekday()) "
   ]
  },
  {
   "cell_type": "code",
   "execution_count": 8,
   "metadata": {},
   "outputs": [
    {
     "data": {
      "text/html": [
       "<div>\n",
       "<style scoped>\n",
       "    .dataframe tbody tr th:only-of-type {\n",
       "        vertical-align: middle;\n",
       "    }\n",
       "\n",
       "    .dataframe tbody tr th {\n",
       "        vertical-align: top;\n",
       "    }\n",
       "\n",
       "    .dataframe thead th {\n",
       "        text-align: right;\n",
       "    }\n",
       "</style>\n",
       "<table border=\"1\" class=\"dataframe\">\n",
       "  <thead>\n",
       "    <tr style=\"text-align: right;\">\n",
       "      <th></th>\n",
       "      <th>exercise_hours</th>\n",
       "      <th>mood</th>\n",
       "      <th>sleep_hours</th>\n",
       "    </tr>\n",
       "    <tr>\n",
       "      <th>day</th>\n",
       "      <th></th>\n",
       "      <th></th>\n",
       "      <th></th>\n",
       "    </tr>\n",
       "  </thead>\n",
       "  <tbody>\n",
       "    <tr>\n",
       "      <th>0</th>\n",
       "      <td>1.617333</td>\n",
       "      <td>5.708955</td>\n",
       "      <td>8.478875</td>\n",
       "    </tr>\n",
       "    <tr>\n",
       "      <th>1</th>\n",
       "      <td>0.112263</td>\n",
       "      <td>5.496269</td>\n",
       "      <td>7.867410</td>\n",
       "    </tr>\n",
       "    <tr>\n",
       "      <th>2</th>\n",
       "      <td>0.069590</td>\n",
       "      <td>5.500000</td>\n",
       "      <td>7.906838</td>\n",
       "    </tr>\n",
       "    <tr>\n",
       "      <th>3</th>\n",
       "      <td>1.681496</td>\n",
       "      <td>5.792683</td>\n",
       "      <td>8.605769</td>\n",
       "    </tr>\n",
       "    <tr>\n",
       "      <th>4</th>\n",
       "      <td>0.108321</td>\n",
       "      <td>5.671756</td>\n",
       "      <td>7.686518</td>\n",
       "    </tr>\n",
       "    <tr>\n",
       "      <th>5</th>\n",
       "      <td>0.115077</td>\n",
       "      <td>5.576923</td>\n",
       "      <td>5.816348</td>\n",
       "    </tr>\n",
       "    <tr>\n",
       "      <th>6</th>\n",
       "      <td>1.242932</td>\n",
       "      <td>5.330769</td>\n",
       "      <td>6.686306</td>\n",
       "    </tr>\n",
       "  </tbody>\n",
       "</table>\n",
       "</div>"
      ],
      "text/plain": [
       "     exercise_hours      mood  sleep_hours\n",
       "day                                       \n",
       "0          1.617333  5.708955     8.478875\n",
       "1          0.112263  5.496269     7.867410\n",
       "2          0.069590  5.500000     7.906838\n",
       "3          1.681496  5.792683     8.605769\n",
       "4          0.108321  5.671756     7.686518\n",
       "5          0.115077  5.576923     5.816348\n",
       "6          1.242932  5.330769     6.686306"
      ]
     },
     "execution_count": 8,
     "metadata": {},
     "output_type": "execute_result"
    }
   ],
   "source": [
    "data.groupby('day').mean()"
   ]
  },
  {
   "cell_type": "code",
   "execution_count": null,
   "metadata": {},
   "outputs": [],
   "source": []
  },
  {
   "cell_type": "code",
   "execution_count": null,
   "metadata": {},
   "outputs": [],
   "source": []
  },
  {
   "cell_type": "code",
   "execution_count": 9,
   "metadata": {},
   "outputs": [
    {
     "data": {
      "text/plain": [
       "'2016-01-01 05:28:00'"
      ]
     },
     "execution_count": 9,
     "metadata": {},
     "output_type": "execute_result"
    }
   ],
   "source": [
    "# datetime.strptime(date_string, format)\n",
    "data['sleep'][0]"
   ]
  },
  {
   "cell_type": "code",
   "execution_count": null,
   "metadata": {},
   "outputs": [],
   "source": []
  },
  {
   "cell_type": "code",
   "execution_count": 10,
   "metadata": {},
   "outputs": [
    {
     "data": {
      "text/plain": [
       "'2016-01-01 05:28:00'"
      ]
     },
     "execution_count": 10,
     "metadata": {},
     "output_type": "execute_result"
    }
   ],
   "source": [
    "filter_datetime('2016-01-01 05:28:00+00:00')"
   ]
  },
  {
   "cell_type": "code",
   "execution_count": null,
   "metadata": {},
   "outputs": [],
   "source": []
  },
  {
   "cell_type": "code",
   "execution_count": 11,
   "metadata": {},
   "outputs": [],
   "source": [
    "import datetime"
   ]
  },
  {
   "cell_type": "code",
   "execution_count": 12,
   "metadata": {},
   "outputs": [],
   "source": [
    "sleep1 = datetime.datetime.strptime(data['sleep'][0],'%Y-%m-%d %H:%M:%S')\n",
    "wake1 = datetime.datetime.strptime(data['wake'][0],'%Y-%m-%d %H:%M:%S')"
   ]
  },
  {
   "cell_type": "code",
   "execution_count": 13,
   "metadata": {},
   "outputs": [
    {
     "data": {
      "text/plain": [
       "23640.0"
      ]
     },
     "execution_count": 13,
     "metadata": {},
     "output_type": "execute_result"
    }
   ],
   "source": [
    "(wake1 - sleep1).total_seconds()"
   ]
  },
  {
   "cell_type": "code",
   "execution_count": 14,
   "metadata": {},
   "outputs": [],
   "source": [
    "# data['sleep_hours'] = data['wake'] - data['sleep']"
   ]
  },
  {
   "cell_type": "code",
   "execution_count": null,
   "metadata": {},
   "outputs": [],
   "source": []
  },
  {
   "cell_type": "code",
   "execution_count": null,
   "metadata": {},
   "outputs": [],
   "source": []
  },
  {
   "cell_type": "code",
   "execution_count": null,
   "metadata": {},
   "outputs": [],
   "source": []
  },
  {
   "cell_type": "code",
   "execution_count": null,
   "metadata": {},
   "outputs": [],
   "source": []
  },
  {
   "cell_type": "code",
   "execution_count": null,
   "metadata": {},
   "outputs": [],
   "source": []
  },
  {
   "cell_type": "code",
   "execution_count": null,
   "metadata": {},
   "outputs": [],
   "source": []
  },
  {
   "cell_type": "code",
   "execution_count": 15,
   "metadata": {},
   "outputs": [],
   "source": [
    "import pandas as pd\n",
    "import numpy as np"
   ]
  },
  {
   "cell_type": "code",
   "execution_count": 16,
   "metadata": {},
   "outputs": [
    {
     "name": "stdout",
     "output_type": "stream",
     "text": [
      "(500, 5)\n",
      "(250, 5)\n"
     ]
    }
   ],
   "source": [
    "data = pd.read_csv(\"~/Downloads/trees.csv\")\n",
    "train = data.iloc[:500,:]\n",
    "test = data.iloc[500:,:]\n",
    "\n",
    "print(train.shape)\n",
    "print(test.shape)"
   ]
  },
  {
   "cell_type": "code",
   "execution_count": 17,
   "metadata": {},
   "outputs": [],
   "source": [
    "class Node:\n",
    "    def __init__(self, column: int, split_value: float, left_subtree, right_subtree):\n",
    "        \"\"\"Create node\n",
    "\n",
    "        Arguments:\n",
    "            column (int):\n",
    "            split_value (float):\n",
    "            left_subtree (Union[Leaf, Node]):\n",
    "            right_subtree (Union[Leaf, Node])\n",
    "        \"\"\"\n",
    "        self.column = column\n",
    "        self.split_value = split_value\n",
    "        self.left_subtree = left_subtree\n",
    "        self.right_subtree = right_subtree\n",
    "\n",
    "class Leaf:\n",
    "    def __init__(self, label):\n",
    "        self.label = label\n",
    "\n",
    "def predict(root, x):\n",
    "    \"\"\"Predicts\n",
    "\n",
    "    Arguments:\n",
    "        root (Node, Leaf):\n",
    "        x (np.array): vector of input features\n",
    "    \"\"\"\n",
    "#     if not root:\n",
    "#         return\n",
    "\n",
    "    # check if leaf or node\n",
    "    if isinstance(root, Node):\n",
    "        if x[root.column]<= root.split_value:\n",
    "            predict(root.left_subtree, x)\n",
    "\n",
    "        else: # x[root.column]> root.split_value:\n",
    "            predict(root.right_subtree, x)\n",
    "    else: # if is leaf\n",
    "        return root.label"
   ]
  },
  {
   "cell_type": "code",
   "execution_count": 18,
   "metadata": {},
   "outputs": [],
   "source": [
    "tree = Node(0, 5.6, Leaf(0), Node(2, 5.0, Leaf(1), Leaf(2)))\n",
    "x = train.iloc[0,:-1]\n",
    "predict(tree, x)"
   ]
  },
  {
   "cell_type": "code",
   "execution_count": null,
   "metadata": {},
   "outputs": [],
   "source": []
  }
 ],
 "metadata": {
  "kernelspec": {
   "display_name": "Algorithms",
   "language": "python",
   "name": "algorithms"
  },
  "language_info": {
   "codemirror_mode": {
    "name": "ipython",
    "version": 3
   },
   "file_extension": ".py",
   "mimetype": "text/x-python",
   "name": "python",
   "nbconvert_exporter": "python",
   "pygments_lexer": "ipython3",
   "version": "3.7.4"
  }
 },
 "nbformat": 4,
 "nbformat_minor": 4
}
