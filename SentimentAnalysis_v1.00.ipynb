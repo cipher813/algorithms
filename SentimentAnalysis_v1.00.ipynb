{
 "cells": [
  {
   "cell_type": "markdown",
   "metadata": {},
   "source": [
    "# Sentiment Analysis\n",
    "\n",
    "### Twitter Terms\n",
    "\n",
    "April 2019\n",
    "\n",
    "Based on original script [here](https://github.com/cipher813/bitcoin_prediction/blob/master/scripts/tweethack1.py)."
   ]
  },
  {
   "cell_type": "code",
   "execution_count": 1,
   "metadata": {},
   "outputs": [],
   "source": [
    "import re\n",
    "import tweepy\n",
    "import pandas as pd\n",
    "from textblob import TextBlob\n",
    "from collections import defaultdict"
   ]
  },
  {
   "cell_type": "code",
   "execution_count": 2,
   "metadata": {},
   "outputs": [],
   "source": [
    "class TwitterClient:\n",
    "    def __init__(self):\n",
    "        self.consumer_key = %env TWITTER_API_KEY\n",
    "        self.consumer_secret = %env TWITTER_API_SECRET_KEY\n",
    "        self.access_token = %env TWITTER_ACCESS_TOKEN\n",
    "        self.access_secret = %env TWITTER_ACCESS_TOKEN_SECRET\n",
    "\n",
    "        self.auth = tweepy.OAuthHandler(self.consumer_key, self.consumer_secret)\n",
    "        self.auth.set_access_token(self.access_token, self.access_secret)\n",
    "\n",
    "        self.api = tweepy.API(self.auth)\n",
    "        \n",
    "    def get_tweets(self, term):\n",
    "        \"\"\"Get the latest set of tweets by term, grouped by sentiment.\n",
    "        \n",
    "        :term: str Term to match in tweets\n",
    "        \"\"\"\n",
    "        td = defaultdict(list)\n",
    "        tweets = self.api.search(term,tweet_mode=\"extended\")\n",
    "        for tweet in tweets:\n",
    "            if 'retweeted_status' in tweet._json:\n",
    "                txt = TextBlob(tweet._json['retweeted_status']['full_text'])\n",
    "            else:\n",
    "                txt = TextBlob(tweet.full_text)\n",
    "            polarity = txt.sentiment.polarity\n",
    "            if polarity > 0:\n",
    "                td['pos'].append(f\"{txt} ({polarity:.2f})\")\n",
    "            elif polarity < 0:\n",
    "                td['neg'].append(f\"{txt} ({polarity:.2f})\")\n",
    "            else:\n",
    "                td['neu'].append(f\"{txt}-{polarity:.2f}\")\n",
    "        pos, neg, neu = len(td['pos']),len(td['neg']),len(td['neu'])\n",
    "        tot = pos+neg+neu\n",
    "        print(f\"Tweet stats:\\nPositive:{pos}, {pos/tot*100:.1f}%\\nNegative:{neg}, {neg/tot*100:.1f}%\\nNeutral:{neu}, {neu/tot*100:.1f}%\")\n",
    "        return td\n",
    "    \n",
    "    def clean_tweet(self, tweet):\n",
    "        \"\"\"Format tweet into clean string.\n",
    "        \n",
    "        :tweet: str tweet to clean\n",
    "        \"\"\"\n",
    "        tweet = ' '.join(re.sub(r\"(.+@[A-Za-z0-9_]+)|([^0-9A-Za-z\\.\\s\\t]) |(\\w+:\\/\\/\\S+)\", \"\", tweet).split()) \n",
    "        return tweet"
   ]
  },
  {
   "cell_type": "code",
   "execution_count": 3,
   "metadata": {},
   "outputs": [
    {
     "name": "stdout",
     "output_type": "stream",
     "text": [
      "Tweet stats:\n",
      "Positive:3, 27.3%\n",
      "Negative:5, 45.5%\n",
      "Neutral:3, 27.3%\n"
     ]
    }
   ],
   "source": [
    "twitter = TwitterClient()\n",
    "d = twitter.get_tweets(\"Trump\")"
   ]
  },
  {
   "cell_type": "code",
   "execution_count": 4,
   "metadata": {},
   "outputs": [
    {
     "data": {
      "text/plain": [
       "\"In 2005, many of us who'd voted for George W. Bush the year before opposed his nomination of Harriet Miers to the Supreme Court, and we prevailed. Which Trump supporters will speak up against the (perhaps more egregious) nominations of Stephen Moore and Herman Cain to the Fed? (0.50)\""
      ]
     },
     "execution_count": 4,
     "metadata": {},
     "output_type": "execute_result"
    }
   ],
   "source": [
    "tweet = d['pos'][0]\n",
    "tweet"
   ]
  },
  {
   "cell_type": "code",
   "execution_count": 5,
   "metadata": {},
   "outputs": [
    {
     "data": {
      "text/plain": [
       "\"In 2005many of us who'd voted for George W. Bush the year before opposed his nomination of Harriet Miers to the Supreme Courtand we prevailed. Which Trump supporters will speak up against the (perhaps more egregiousnominations of Stephen Moore and Herman Cain to the Fed(0.50)\""
      ]
     },
     "execution_count": 5,
     "metadata": {},
     "output_type": "execute_result"
    }
   ],
   "source": [
    "tweet = twitter.clean_tweet(d['pos'][0])\n",
    "tweet"
   ]
  },
  {
   "cell_type": "code",
   "execution_count": 6,
   "metadata": {},
   "outputs": [
    {
     "data": {
      "text/plain": [
       "[\"In 2005, many of us who'd voted for George W. Bush the year before opposed his nomination of Harriet Miers to the Supreme Court, and we prevailed. Which Trump supporters will speak up against the (perhaps more egregious) nominations of Stephen Moore and Herman Cain to the Fed? (0.50)\",\n",
       " \"@cenkuygur @AOC I'd say Trump has got her beat by a mile. Until they go after her with no evidence &amp; try to destroy her entire family &amp; put them in prison for winning an election Chunk Yanker, she's no victim just a dolt.\\nDude, F**g really. \\nTrump bad, Sandra Casio Ortiz good? \\nGigs up Cenk.. https://t.co/QBnS9YztYH (0.08)\",\n",
       " 'There are a heck of a lot more jobs fighting climate change than there are in denying climate change. #OurClimateMoment https://t.co/HqHDtKIOVe (0.50)']"
      ]
     },
     "execution_count": 6,
     "metadata": {},
     "output_type": "execute_result"
    }
   ],
   "source": [
    "d['pos']"
   ]
  },
  {
   "cell_type": "code",
   "execution_count": 7,
   "metadata": {},
   "outputs": [
    {
     "data": {
      "text/plain": [
       "['Looks like Bob Mueller’s team of 13 Trump Haters &amp; Angry Democrats are illegally leaking information to the press while the Fake News Media make up their own stories with or without sources - sources no longer matter to our corrupt &amp; dishonest Mainstream Media, they are a Joke! (-0.30)',\n",
       " 'The hate is coming frim the left. The Republicans never treated Obama the way the Democrats treat President Trump https://t.co/BaDJtFrB3Z (-0.40)',\n",
       " '\"They dislike him with a passion, and they want his tax returns to destroy him.\" - @ChuckGrassley\\n\\nNope, sorry, Chuck. Every president since Nixon has shown the American people their tax returns.\\n\\n#CongressCanRequest\\n\\nhttps://t.co/FaybXK4jII (-0.23)',\n",
       " 'Ilhan Omar was labeled an anti-Semite for merely suggesting what Trump said out loud. https://t.co/dNiUFra80S (-0.20)',\n",
       " 'trump literally gets up and says “you people love money and your country, which is israel” every time he talks to jews it’s beyond disgusting https://t.co/03qK3LVmKE (-0.25)']"
      ]
     },
     "execution_count": 7,
     "metadata": {},
     "output_type": "execute_result"
    }
   ],
   "source": [
    "d['neg']"
   ]
  },
  {
   "cell_type": "code",
   "execution_count": 8,
   "metadata": {},
   "outputs": [
    {
     "data": {
      "text/plain": [
       "['Far-left activists are recirculating President Trump\\'s \"these aren\\'t people, they\\'re animals\" quote.\\n\\nSo what are we calling savage MS-13 gang members now? Humanitarians? What we should be asking is why Democrats are not calling them \\'animals.\\'-0.00',\n",
       " 'Here are photos of Donald, Ivanka and Eric Trump doing business in Doha, Qatar in 2008. Ivanka used to sell her jewelry there and bragged about her relationship with the government, Don Jr and Eric have been there a lot and Cohen reportedly tried to get $1M from the Gov’t. https://t.co/FAi5mqMEha-0.00',\n",
       " '1) Expertos en inteligencia escriben directamente a Trump: \"No defendemos a Maduro.. pero subrayamos que muchos de los problemas de Venezuela han sido exacerbados por las políticas estadounidenses y sus intentos de derrocar al presidente\"\\nhttps://t.co/0didwpeUOi-0.00']"
      ]
     },
     "execution_count": 8,
     "metadata": {},
     "output_type": "execute_result"
    }
   ],
   "source": [
    "d['neu']"
   ]
  }
 ],
 "metadata": {
  "kernelspec": {
   "display_name": "Python 3.7",
   "language": "python",
   "name": "python37"
  },
  "language_info": {
   "codemirror_mode": {
    "name": "ipython",
    "version": 3
   },
   "file_extension": ".py",
   "mimetype": "text/x-python",
   "name": "python",
   "nbconvert_exporter": "python",
   "pygments_lexer": "ipython3",
   "version": "3.7.3"
  }
 },
 "nbformat": 4,
 "nbformat_minor": 2
}
