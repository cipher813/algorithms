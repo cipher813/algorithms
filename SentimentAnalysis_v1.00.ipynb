{
 "cells": [
  {
   "cell_type": "markdown",
   "metadata": {},
   "source": [
    "# Sentiment Analysis\n",
    "\n",
    "### Twitter Terms\n",
    "\n",
    "April 2019\n",
    "\n",
    "Based on original script [here](https://github.com/cipher813/bitcoin_prediction/blob/master/scripts/tweethack1.py)."
   ]
  },
  {
   "cell_type": "code",
   "execution_count": 1,
   "metadata": {},
   "outputs": [],
   "source": [
    "import re\n",
    "import tweepy\n",
    "import pandas as pd\n",
    "from textblob import TextBlob\n",
    "from collections import defaultdict"
   ]
  },
  {
   "cell_type": "code",
   "execution_count": 2,
   "metadata": {},
   "outputs": [],
   "source": [
    "class TwitterClient:\n",
    "    def __init__(self):\n",
    "        # store these in ~/.bash_profile\n",
    "        self.consumer_key = %env TWITTER_API_KEY\n",
    "        self.consumer_secret = %env TWITTER_API_SECRET_KEY\n",
    "        self.access_token = %env TWITTER_ACCESS_TOKEN\n",
    "        self.access_secret = %env TWITTER_ACCESS_TOKEN_SECRET\n",
    "\n",
    "        self.auth = tweepy.OAuthHandler(self.consumer_key, self.consumer_secret)\n",
    "        self.auth.set_access_token(self.access_token, self.access_secret)\n",
    "\n",
    "        self.api = tweepy.API(self.auth)\n",
    "        \n",
    "    def get_tweets(self, term):\n",
    "        \"\"\"Get the latest set of tweets by term, grouped by sentiment.\n",
    "        \n",
    "        :term: str Term to match in tweets\n",
    "        \"\"\"\n",
    "        td = defaultdict(list)\n",
    "        tweets = self.api.search(term,tweet_mode=\"extended\")\n",
    "        for tweet in tweets:\n",
    "            if 'retweeted_status' in tweet._json:\n",
    "                txt = TextBlob(tweet._json['retweeted_status']['full_text'])\n",
    "            else:\n",
    "                txt = TextBlob(tweet.full_text)\n",
    "            polarity = txt.sentiment.polarity\n",
    "            if polarity > 0:\n",
    "                td['pos'].append(f\"{txt} ({polarity:.3f})\")\n",
    "            elif polarity < 0:\n",
    "                td['neg'].append(f\"{txt} ({polarity:.3f})\")\n",
    "            else:\n",
    "                td['neu'].append(f\"{txt}-{polarity:.3f}\")\n",
    "        pos, neg, neu = len(td['pos']),len(td['neg']),len(td['neu'])\n",
    "        tot = pos+neg+neu\n",
    "        print(f\"Tweet stats:\\nPositive:{pos}, {pos/tot*100:.1f}%\\nNegative:{neg}, {neg/tot*100:.1f}%\\nNeutral:{neu}, {neu/tot*100:.1f}%\")\n",
    "        return td\n",
    "    \n",
    "    def clean_tweet(self, tweet):\n",
    "        \"\"\"Format tweet into clean string.\n",
    "        \n",
    "        :tweet: str tweet to clean\n",
    "        \"\"\"\n",
    "        tweet = ' '.join(re.sub(r\"(.+@[A-Za-z0-9_]+)|([^0-9A-Za-z\\.\\s\\t]) |(\\w+:\\/\\/\\S+)\", \"\", tweet).split()) \n",
    "        return tweet"
   ]
  },
  {
   "cell_type": "code",
   "execution_count": 3,
   "metadata": {},
   "outputs": [
    {
     "name": "stdout",
     "output_type": "stream",
     "text": [
      "Tweet stats:\n",
      "Positive:5, 35.7%\n",
      "Negative:5, 35.7%\n",
      "Neutral:4, 28.6%\n"
     ]
    }
   ],
   "source": [
    "twitter = TwitterClient()\n",
    "d = twitter.get_tweets(\"Trump\")"
   ]
  },
  {
   "cell_type": "code",
   "execution_count": 4,
   "metadata": {},
   "outputs": [
    {
     "data": {
      "text/plain": [
       "'One can be conservative and not support Trump but I honestly don’t remember the last time Jennifer expressed a conservative thought. https://t.co/AyemuX3YAu (0.30)'"
      ]
     },
     "execution_count": 4,
     "metadata": {},
     "output_type": "execute_result"
    }
   ],
   "source": [
    "tweet = d['pos'][0]\n",
    "tweet"
   ]
  },
  {
   "cell_type": "code",
   "execution_count": 5,
   "metadata": {},
   "outputs": [
    {
     "data": {
      "text/plain": [
       "'One can be conservative and not support Trump but I honestly don’t remember the last time Jennifer expressed a conservative thought. (0.30)'"
      ]
     },
     "execution_count": 5,
     "metadata": {},
     "output_type": "execute_result"
    }
   ],
   "source": [
    "tweet = twitter.clean_tweet(d['pos'][0])\n",
    "tweet"
   ]
  },
  {
   "cell_type": "code",
   "execution_count": 6,
   "metadata": {},
   "outputs": [
    {
     "data": {
      "text/plain": [
       "['One can be conservative and not support Trump but I honestly don’t remember the last time Jennifer expressed a conservative thought. https://t.co/AyemuX3YAu (0.30)',\n",
       " '@ananavarro @markmobility @realDonaldTrump @TifaniRoberts Do you EVER get tired of lying? Trump CONDEMNS MS-13 for this kind of thuggery. He is working to stop it from happening by securing the border; propagandists like yourself are more concerned with making Trump look bad than with American safety. (0.00)',\n",
       " \"When a President lacks character, strong oversight is essential.\\n\\nHouse Republicans seem to think as long as you can't prove a crime, all is fair in love and war, and what the Trump campaign did is all okay.\\n\\nI don't feel that way. And I don't think most Americans feel that way. https://t.co/KZpLkIvshx (0.37)\",\n",
       " 'Do you have any evidence Obama ordered the FBI to surveil Trump? Please stop making stuff up as distractions, @mschlapp. Even if it’s good for business. Have a nice Sunday. https://t.co/aQTEmZ0tCL (0.65)',\n",
       " \"Trump's @EPA wants to gut the Mercury and Air Toxic Standards (MATS), which protects children from toxic air pollutants like mercury and arsenic from power plants. Say NO to Trump's plans to undo mercury protections &gt;&gt;&gt; https://t.co/2pbPpixTFK (0.20)\"]"
      ]
     },
     "execution_count": 6,
     "metadata": {},
     "output_type": "execute_result"
    }
   ],
   "source": [
    "d['pos']"
   ]
  },
  {
   "cell_type": "code",
   "execution_count": 7,
   "metadata": {},
   "outputs": [
    {
     "data": {
      "text/plain": [
       "['Looks like Bob Mueller’s team of 13 Trump Haters &amp; Angry Democrats are illegally leaking information to the press while the Fake News Media make up their own stories with or without sources - sources no longer matter to our corrupt &amp; dishonest Mainstream Media, they are a Joke! (-0.30)',\n",
       " \"@FoxNewsSunday Trump said he will not that he could. Then it was oh I cant drop it I'm being audited. Now its I won so no need to drop them. If you ain't got shit to hide then drop them and throw it in the dems face but we all know why he wont (-0.20)\",\n",
       " \"Look at this stupid A$$ white liberal calling a Mexican woman a racist and harrasing her for wearing a Trump hat. \\n\\nWhite liberals think they control minorities, and it's always them harrasing minorities who don't cowtow to their regressive bullsh*t! \\n\\n https://t.co/zV71JDnR6R (-0.20)\",\n",
       " \"Look at this stupid A$$ white liberal calling a Mexican woman a racist and harrasing her for wearing a Trump hat. \\n\\nWhite liberals think they control minorities, and it's always them harrasing minorities who don't cowtow to their regressive bullsh*t! \\n\\n https://t.co/zV71JDnR6R (-0.20)\",\n",
       " \"'It must really suck to be that dumb!' — Kennedy slaps down Democratic attempt to force Trump to release his taxes (VIDEO) https://t.co/DAtnbC3cWG (-0.14)\"]"
      ]
     },
     "execution_count": 7,
     "metadata": {},
     "output_type": "execute_result"
    }
   ],
   "source": [
    "d['neg']"
   ]
  },
  {
   "cell_type": "code",
   "execution_count": 8,
   "metadata": {},
   "outputs": [
    {
     "data": {
      "text/plain": [
       "['President. Donald. Trump. https://t.co/jcQnQTMTYv-0.00',\n",
       " '@CasanovaInk @DevlinBarrett @gtconway3d I asked a follower if he caught trump growing his grandmother what would he do? He says nothing, he may be trying to heal her cance r-0.00',\n",
       " \"Dictators fear what they can't buy, bully, or control. It's why Putin loves Trump. https://t.co/Dk4frRqyl5-0.00\",\n",
       " 'Raise your hand if you\\'ve NEVER said the words \"President Trump\" 👋-0.00']"
      ]
     },
     "execution_count": 8,
     "metadata": {},
     "output_type": "execute_result"
    }
   ],
   "source": [
    "d['neu']"
   ]
  }
 ],
 "metadata": {
  "kernelspec": {
   "display_name": "Python 3.7",
   "language": "python",
   "name": "python37"
  },
  "language_info": {
   "codemirror_mode": {
    "name": "ipython",
    "version": 3
   },
   "file_extension": ".py",
   "mimetype": "text/x-python",
   "name": "python",
   "nbconvert_exporter": "python",
   "pygments_lexer": "ipython3",
   "version": "3.7.3"
  }
 },
 "nbformat": 4,
 "nbformat_minor": 2
}
