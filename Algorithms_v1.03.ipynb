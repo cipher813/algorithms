{
 "cells": [
  {
   "cell_type": "markdown",
   "metadata": {},
   "source": [
    "# Algorithms\n",
    "\n",
    "April 2019"
   ]
  },
  {
   "cell_type": "code",
   "execution_count": 1,
   "metadata": {},
   "outputs": [],
   "source": [
    "from bm_util import *\n",
    "from sort import *"
   ]
  },
  {
   "cell_type": "code",
   "execution_count": 2,
   "metadata": {},
   "outputs": [
    {
     "name": "stdout",
     "output_type": "stream",
     "text": [
      "10.9 µs ± 185 ns per loop (mean ± std. dev. of 7 runs, 100000 loops each)\n",
      "9.95 µs ± 370 ns per loop (mean ± std. dev. of 7 runs, 100000 loops each)\n",
      "301 ns ± 6.83 ns per loop (mean ± std. dev. of 7 runs, 1000000 loops each)\n"
     ]
    }
   ],
   "source": [
    "num_list = [10, 7, 8, 9, 1, 5]\n",
    "%timeit mergesort(num_list)\n",
    "%timeit quicksort(num_list)\n",
    "%timeit sorted(num_list)"
   ]
  },
  {
   "cell_type": "code",
   "execution_count": null,
   "metadata": {},
   "outputs": [],
   "source": [
    "mergesort_printed(num_list)"
   ]
  },
  {
   "cell_type": "code",
   "execution_count": 3,
   "metadata": {},
   "outputs": [
    {
     "name": "stdout",
     "output_type": "stream",
     "text": [
      "Unsorted:\t[1, 5, 7, 8, 9, 10]\n",
      "Applying MergeSort\n",
      "1.\t[1, 5, 7, 8, 9, 10]\n",
      "1.\t[1, 5, 7]\n",
      "1.\t[1]\n",
      "1.\t[5, 7]\n",
      "1.\t[5]\n",
      "1.\t[7]\n",
      "2.\tl[0]<r[0]: 5<7\n",
      "2.\tarr[0]=l[0]=5,[5, 7]\n",
      "3.\tarr[1]=r[0]=7,[5, 7]\n",
      "2.\tl[0]<r[0]: 1<5\n",
      "2.\tarr[0]=l[0]=1,[1, 5, 7]\n",
      "3.\tarr[1]=r[0]=5,[1, 5, 7]\n",
      "3.\tarr[2]=r[1]=7,[1, 5, 7]\n",
      "1.\t[8, 9, 10]\n",
      "1.\t[8]\n",
      "1.\t[9, 10]\n",
      "1.\t[9]\n",
      "1.\t[10]\n",
      "2.\tl[0]<r[0]: 9<10\n",
      "2.\tarr[0]=l[0]=9,[9, 10]\n",
      "3.\tarr[1]=r[0]=10,[9, 10]\n",
      "2.\tl[0]<r[0]: 8<9\n",
      "2.\tarr[0]=l[0]=8,[8, 9, 10]\n",
      "3.\tarr[1]=r[0]=9,[8, 9, 10]\n",
      "3.\tarr[2]=r[1]=10,[8, 9, 10]\n",
      "2.\tl[0]<r[0]: 1<8\n",
      "2.\tarr[0]=l[0]=1,[1, 5, 7, 8, 9, 10]\n",
      "2.\tl[1]<r[0]: 5<8\n",
      "2.\tarr[1]=l[1]=5,[1, 5, 7, 8, 9, 10]\n",
      "2.\tl[2]<r[0]: 7<8\n",
      "2.\tarr[2]=l[2]=7,[1, 5, 7, 8, 9, 10]\n",
      "3.\tarr[3]=r[0]=8,[1, 5, 7, 8, 9, 10]\n",
      "3.\tarr[4]=r[1]=9,[1, 5, 7, 8, 9, 10]\n",
      "3.\tarr[5]=r[2]=10,[1, 5, 7, 8, 9, 10]\n",
      "Sorted:\t[1, 5, 7, 8, 9, 10]\n",
      "Unsorted:\t[1, 5, 7, 8, 9, 10]\n",
      "Applying QuickSort\n",
      "0<5\n",
      "pi=partition at [1, 5, 7, 8, 9, 10],0,5\n",
      "Pivot=arr[5]=10\n",
      "arr[0]<=10\n",
      "swapping arr[0] and arr[0]\n",
      "arr[1]<=10\n",
      "swapping arr[1] and arr[1]\n",
      "arr[2]<=10\n",
      "swapping arr[2] and arr[2]\n",
      "arr[3]<=10\n",
      "swapping arr[3] and arr[3]\n",
      "arr[4]<=10\n",
      "swapping arr[4] and arr[4]\n",
      "swapping arr[5] and arr[5]\n",
      "Applying sort at [1, 5, 7, 8, 9, 10],0,4\n",
      "0<4\n",
      "pi=partition at [1, 5, 7, 8, 9, 10],0,4\n",
      "Pivot=arr[4]=9\n",
      "arr[0]<=9\n",
      "swapping arr[0] and arr[0]\n",
      "arr[1]<=9\n",
      "swapping arr[1] and arr[1]\n",
      "arr[2]<=9\n",
      "swapping arr[2] and arr[2]\n",
      "arr[3]<=9\n",
      "swapping arr[3] and arr[3]\n",
      "swapping arr[4] and arr[4]\n",
      "Applying sort at [1, 5, 7, 8, 9, 10],0,3\n",
      "0<3\n",
      "pi=partition at [1, 5, 7, 8, 9, 10],0,3\n",
      "Pivot=arr[3]=8\n",
      "arr[0]<=8\n",
      "swapping arr[0] and arr[0]\n",
      "arr[1]<=8\n",
      "swapping arr[1] and arr[1]\n",
      "arr[2]<=8\n",
      "swapping arr[2] and arr[2]\n",
      "swapping arr[3] and arr[3]\n",
      "Applying sort at [1, 5, 7, 8, 9, 10],0,2\n",
      "0<2\n",
      "pi=partition at [1, 5, 7, 8, 9, 10],0,2\n",
      "Pivot=arr[2]=7\n",
      "arr[0]<=7\n",
      "swapping arr[0] and arr[0]\n",
      "arr[1]<=7\n",
      "swapping arr[1] and arr[1]\n",
      "swapping arr[2] and arr[2]\n",
      "Applying sort at [1, 5, 7, 8, 9, 10],0,1\n",
      "0<1\n",
      "pi=partition at [1, 5, 7, 8, 9, 10],0,1\n",
      "Pivot=arr[1]=5\n",
      "arr[0]<=5\n",
      "swapping arr[0] and arr[0]\n",
      "swapping arr[1] and arr[1]\n",
      "Applying sort at [1, 5, 7, 8, 9, 10],0,0\n",
      "Applying sort at [1, 5, 7, 8, 9, 10],2,1\n",
      "Applying sort at [1, 5, 7, 8, 9, 10],3,2\n",
      "Applying sort at [1, 5, 7, 8, 9, 10],4,3\n",
      "Applying sort at [1, 5, 7, 8, 9, 10],5,4\n",
      "Applying sort at [1, 5, 7, 8, 9, 10],6,5\n",
      "Sorted:\t[1, 5, 7, 8, 9, 10]\n"
     ]
    },
    {
     "data": {
      "text/plain": [
       "[1, 5, 7, 8, 9, 10]"
      ]
     },
     "execution_count": 3,
     "metadata": {},
     "output_type": "execute_result"
    }
   ],
   "source": [
    "quicksort_printed(num_list)"
   ]
  },
  {
   "cell_type": "code",
   "execution_count": null,
   "metadata": {},
   "outputs": [],
   "source": []
  },
  {
   "cell_type": "markdown",
   "metadata": {},
   "source": [
    "### Python Built-In Functions"
   ]
  },
  {
   "cell_type": "code",
   "execution_count": 4,
   "metadata": {},
   "outputs": [
    {
     "data": {
      "text/plain": [
       "\"'chicken pot pie\\\\n.'\""
      ]
     },
     "execution_count": 4,
     "metadata": {},
     "output_type": "execute_result"
    }
   ],
   "source": [
    "ascii(\"chicken pot pie\\n.\")"
   ]
  },
  {
   "cell_type": "code",
   "execution_count": 5,
   "metadata": {},
   "outputs": [
    {
     "data": {
      "text/plain": [
       "'0b1110'"
      ]
     },
     "execution_count": 5,
     "metadata": {},
     "output_type": "execute_result"
    }
   ],
   "source": [
    "format(14, '#b')"
   ]
  },
  {
   "cell_type": "code",
   "execution_count": 6,
   "metadata": {},
   "outputs": [
    {
     "data": {
      "text/plain": [
       "'1110'"
      ]
     },
     "execution_count": 6,
     "metadata": {},
     "output_type": "execute_result"
    }
   ],
   "source": [
    "format(14, 'b')"
   ]
  },
  {
   "cell_type": "code",
   "execution_count": 7,
   "metadata": {},
   "outputs": [
    {
     "data": {
      "text/plain": [
       "'e'"
      ]
     },
     "execution_count": 7,
     "metadata": {},
     "output_type": "execute_result"
    }
   ],
   "source": [
    "chr(101)"
   ]
  },
  {
   "cell_type": "code",
   "execution_count": 8,
   "metadata": {},
   "outputs": [
    {
     "data": {
      "text/plain": [
       "97"
      ]
     },
     "execution_count": 8,
     "metadata": {},
     "output_type": "execute_result"
    }
   ],
   "source": [
    "ord('a')"
   ]
  },
  {
   "cell_type": "code",
   "execution_count": 9,
   "metadata": {},
   "outputs": [
    {
     "data": {
      "text/plain": [
       "['In',\n",
       " 'Out',\n",
       " '_',\n",
       " '_3',\n",
       " '_4',\n",
       " '_5',\n",
       " '_6',\n",
       " '_7',\n",
       " '_8',\n",
       " '__',\n",
       " '___',\n",
       " '__builtin__',\n",
       " '__builtins__',\n",
       " '__doc__',\n",
       " '__loader__',\n",
       " '__name__',\n",
       " '__package__',\n",
       " '__spec__',\n",
       " '_dh',\n",
       " '_i',\n",
       " '_i1',\n",
       " '_i2',\n",
       " '_i3',\n",
       " '_i4',\n",
       " '_i5',\n",
       " '_i6',\n",
       " '_i7',\n",
       " '_i8',\n",
       " '_i9',\n",
       " '_ih',\n",
       " '_ii',\n",
       " '_iii',\n",
       " '_oh',\n",
       " 'binary_search',\n",
       " 'exit',\n",
       " 'fibonacci',\n",
       " 'find_primes',\n",
       " 'func',\n",
       " 'functions',\n",
       " 'gcd',\n",
       " 'generator',\n",
       " 'get_ipython',\n",
       " 'isprime',\n",
       " 'isprime2',\n",
       " 'isprime3',\n",
       " 'itertools',\n",
       " 'mergesort',\n",
       " 'mergesort_printed',\n",
       " 'multiply_binary',\n",
       " 'np',\n",
       " 'num_list',\n",
       " 'prime_list',\n",
       " 'quicksort',\n",
       " 'quicksort_printed',\n",
       " 'quit']"
      ]
     },
     "execution_count": 9,
     "metadata": {},
     "output_type": "execute_result"
    }
   ],
   "source": [
    "dir()"
   ]
  },
  {
   "cell_type": "markdown",
   "metadata": {},
   "source": [
    "### Itertools"
   ]
  },
  {
   "cell_type": "code",
   "execution_count": 10,
   "metadata": {},
   "outputs": [
    {
     "data": {
      "text/plain": [
       "[0, 1, 8, 27, 64, 125, 216, 343, 512, 729]"
      ]
     },
     "execution_count": 10,
     "metadata": {},
     "output_type": "execute_result"
    }
   ],
   "source": [
    "from itertools import repeat\n",
    "\n",
    "listy = [1,2,3]\n",
    "\n",
    "list(map(pow, range(10), repeat(3)))"
   ]
  },
  {
   "cell_type": "markdown",
   "metadata": {},
   "source": [
    "### Apply Functions from a List"
   ]
  },
  {
   "cell_type": "code",
   "execution_count": 11,
   "metadata": {},
   "outputs": [],
   "source": [
    "raw = 'ABC'\n",
    "\n",
    "functions = [str.isalnum, str.isalpha, str.isupper]\n",
    "\n",
    "for func in functions:\n",
    "    assert any(func(letter) for letter in raw)"
   ]
  },
  {
   "cell_type": "markdown",
   "metadata": {},
   "source": [
    "### Time Experiments\n",
    "\n",
    "Primes"
   ]
  },
  {
   "cell_type": "code",
   "execution_count": 12,
   "metadata": {},
   "outputs": [
    {
     "name": "stdout",
     "output_type": "stream",
     "text": [
      "3.15 ms ± 111 µs per loop (mean ± std. dev. of 7 runs, 100 loops each)\n",
      "7.42 µs ± 48.7 ns per loop (mean ± std. dev. of 7 runs, 100000 loops each)\n",
      "6.97 µs ± 437 ns per loop (mean ± std. dev. of 7 runs, 100000 loops each)\n",
      "121 µs ± 2.21 µs per loop (mean ± std. dev. of 7 runs, 10000 loops each)\n",
      "114 µs ± 1.86 µs per loop (mean ± std. dev. of 7 runs, 10000 loops each)\n"
     ]
    }
   ],
   "source": [
    "%timeit isprime(2064991007)\n",
    "%timeit isprime2(2064991007)\n",
    "%timeit isprime3(2064991007)\n",
    "%timeit list(filter(isprime,range(1,100)))\n",
    "%timeit list(filter(isprime3,range(1,100)))"
   ]
  },
  {
   "cell_type": "markdown",
   "metadata": {},
   "source": [
    "Sorting"
   ]
  },
  {
   "cell_type": "code",
   "execution_count": 13,
   "metadata": {},
   "outputs": [
    {
     "name": "stdout",
     "output_type": "stream",
     "text": [
      "9.84 µs ± 232 ns per loop (mean ± std. dev. of 7 runs, 100000 loops each)\n",
      "10.5 µs ± 96 ns per loop (mean ± std. dev. of 7 runs, 100000 loops each)\n",
      "271 ns ± 10.9 ns per loop (mean ± std. dev. of 7 runs, 1000000 loops each)\n"
     ]
    }
   ],
   "source": [
    "num_list = [10, 7, 8, 9, 1, 5]\n",
    "%timeit quicksort(num_list) # 361 µs ± 51 µs per loop (mean ± std. dev. of 7 runs, 1000 loops each)\n",
    "%timeit mergesort(num_list) # 5.63 ms ± 435 µs per loop (mean ± std. dev. of 7 runs, 100 loops each)\n",
    "%timeit sorted(num_list) # 393 ns ± 14.9 ns per loop (mean ± std. dev. of 7 runs, 1000000 loops each)"
   ]
  }
 ],
 "metadata": {
  "kernelspec": {
   "display_name": "Python 3.7",
   "language": "python",
   "name": "python37"
  },
  "language_info": {
   "codemirror_mode": {
    "name": "ipython",
    "version": 3
   },
   "file_extension": ".py",
   "mimetype": "text/x-python",
   "name": "python",
   "nbconvert_exporter": "python",
   "pygments_lexer": "ipython3",
   "version": "3.7.2"
  }
 },
 "nbformat": 4,
 "nbformat_minor": 2
}
