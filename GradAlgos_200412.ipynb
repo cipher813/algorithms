{
 "cells": [
  {
   "cell_type": "markdown",
   "metadata": {},
   "source": [
    "### Longest Increasing Subsequences (LIS)\n",
    "\n",
    "[LeetCode 300](https://leetcode.com/problems/longest-increasing-subsequence/)"
   ]
  },
  {
   "cell_type": "code",
   "execution_count": 1,
   "metadata": {},
   "outputs": [],
   "source": [
    "arr = [5,7,4,-3,9,1,10,4,5,8,9,3]"
   ]
  },
  {
   "cell_type": "code",
   "execution_count": 2,
   "metadata": {},
   "outputs": [],
   "source": [
    "def length_of_lis(arr):\n",
    "    \"\"\"Longest increasing subsequence\"\"\"\n",
    "    if not arr:\n",
    "        return 0\n",
    "    length = [1]*len(arr)\n",
    "    for i in range(1, len(arr)):\n",
    "        for j in range(i):\n",
    "            if arr[i]>arr[j]:\n",
    "                length[i] = max(length[i],length[j]+1)\n",
    "    return max(length)"
   ]
  },
  {
   "cell_type": "code",
   "execution_count": 3,
   "metadata": {},
   "outputs": [
    {
     "data": {
      "text/plain": [
       "6"
      ]
     },
     "execution_count": 3,
     "metadata": {},
     "output_type": "execute_result"
    }
   ],
   "source": [
    "length_of_lis(arr)"
   ]
  },
  {
   "cell_type": "markdown",
   "metadata": {},
   "source": [
    "### Longest Common Subsequences (LCS)\n",
    "\n",
    "[LeetCode 1143](https://leetcode.com/problems/longest-common-subsequence/)"
   ]
  },
  {
   "cell_type": "code",
   "execution_count": 19,
   "metadata": {},
   "outputs": [],
   "source": [
    "def length_of_lcs(text1, text2):\n",
    "    \"\"\"Longest common subsequence\"\"\"\n",
    "    m, n = len(text1), len(text2)\n",
    "    dp = [[0 for _ in range(n+1)] for _ in range(m+1)]\n",
    "    for i in range(1, m+1):\n",
    "        for j in range(1, n+1):\n",
    "            if text1[i-1]==text2[j-1]:\n",
    "                dp[i][j]=dp[i-1][j-1]+1\n",
    "            else:\n",
    "                dp[i][j] = max(dp[i-1][j], dp[i][j-1])\n",
    "    return dp[-1][-1]"
   ]
  },
  {
   "cell_type": "code",
   "execution_count": 20,
   "metadata": {},
   "outputs": [
    {
     "name": "stdout",
     "output_type": "stream",
     "text": [
      "[[0, 0, 0, 0], [0, 1, 1, 1], [0, 1, 1, 1], [0, 1, 2, 2], [0, 1, 2, 2], [0, 1, 2, 3]]\n",
      "[[0, 0, 0, 0, 0, 0, 0, 0], [0, 0, 0, 0, 0, 0, 0, 0], [0, 0, 0, 0, 0, 0, 0, 0], [0, 1, 1, 1, 1, 1, 1, 1], [0, 1, 1, 1, 1, 1, 2, 2], [0, 1, 1, 1, 1, 1, 2, 2], [0, 1, 1, 1, 2, 2, 2, 2]]\n",
      "[[0, 0, 0, 0, 0, 0, 0, 0, 0, 0], [0, 0, 0, 0, 0, 1, 1, 1, 1, 1], [0, 0, 0, 0, 0, 1, 1, 1, 1, 1], [0, 0, 0, 0, 0, 1, 1, 1, 1, 1], [0, 0, 0, 0, 0, 1, 1, 1, 1, 1], [0, 0, 0, 0, 0, 1, 1, 1, 1, 1], [0, 0, 0, 0, 0, 1, 1, 1, 1, 1], [0, 0, 0, 0, 0, 1, 1, 1, 1, 1], [0, 0, 1, 1, 1, 1, 1, 1, 1, 1]]\n",
      "[[0, 0, 0, 0, 0, 0, 0, 0, 0, 0, 0, 0], [0, 0, 0, 0, 0, 0, 0, 0, 0, 0, 0, 0], [0, 0, 0, 0, 0, 0, 0, 0, 0, 0, 0, 0], [0, 0, 0, 0, 0, 0, 0, 0, 0, 0, 0, 0], [0, 0, 0, 0, 0, 0, 0, 0, 0, 0, 1, 1], [0, 0, 0, 0, 0, 0, 0, 1, 1, 1, 1, 1], [0, 0, 0, 0, 0, 0, 0, 1, 2, 2, 2, 2], [0, 1, 1, 1, 1, 1, 1, 1, 2, 2, 2, 2], [0, 1, 1, 1, 1, 1, 1, 1, 2, 2, 2, 2], [0, 1, 1, 1, 1, 1, 1, 1, 2, 2, 2, 2], [0, 1, 1, 1, 1, 1, 1, 1, 2, 2, 2, 2]]\n"
     ]
    }
   ],
   "source": [
    "assert length_of_lcs(\"abcde\",\"ace\")==3\n",
    "assert length_of_lcs(\"ezupkr\",\"ubmrapg\")==2\n",
    "assert length_of_lcs(\"bsbininm\",\"jmjkbkjkv\")==1\n",
    "assert length_of_lcs(\"oxcpqrsvwf\",\"shmtulqrypy\")==2  # qr"
   ]
  },
  {
   "cell_type": "markdown",
   "metadata": {},
   "source": [
    "### Contiguous Subsequence\n",
    "\n",
    "Dasgupta 6.1"
   ]
  },
  {
   "cell_type": "code",
   "execution_count": 17,
   "metadata": {},
   "outputs": [],
   "source": [
    "a = [5,15,-30,10,-5,40,10]\n",
    "\n",
    "def cs1(arr):\n",
    "    \"\"\"No memory\"\"\"\n",
    "    mx = []\n",
    "    for i in range(len(a)):\n",
    "        for j in range(i, len(a)+1):\n",
    "            sm = sum(a[i:j])\n",
    "            mx.append(sm)\n",
    "    return max(mx)\n",
    "\n",
    "def cs2(arr):\n",
    "    \"\"\"With memory\"\"\"\n",
    "    dp = [[0 for _ in range(len(a)+1)] for _ in range(len(a)+1)]\n",
    "    for i in range(len(a)+1):\n",
    "        for j in range(i,len(a)+1):\n",
    "            sm = sum(a[i:j])\n",
    "            dp[i][j] = max(sm, dp[i-1][j], dp[i][j-1])\n",
    "    return dp[-1][-1]"
   ]
  },
  {
   "cell_type": "code",
   "execution_count": 20,
   "metadata": {},
   "outputs": [
    {
     "name": "stdout",
     "output_type": "stream",
     "text": [
      "10.4 µs ± 196 ns per loop (mean ± std. dev. of 7 runs, 100000 loops each)\n"
     ]
    }
   ],
   "source": [
    "%timeit cs1(a)"
   ]
  },
  {
   "cell_type": "code",
   "execution_count": 21,
   "metadata": {},
   "outputs": [
    {
     "name": "stdout",
     "output_type": "stream",
     "text": [
      "22.4 µs ± 139 ns per loop (mean ± std. dev. of 7 runs, 10000 loops each)\n"
     ]
    }
   ],
   "source": [
    "%timeit cs2(a)"
   ]
  },
  {
   "cell_type": "code",
   "execution_count": null,
   "metadata": {},
   "outputs": [],
   "source": []
  }
 ],
 "metadata": {
  "kernelspec": {
   "display_name": "Algorithms",
   "language": "python",
   "name": "algorithms"
  },
  "language_info": {
   "codemirror_mode": {
    "name": "ipython",
    "version": 3
   },
   "file_extension": ".py",
   "mimetype": "text/x-python",
   "name": "python",
   "nbconvert_exporter": "python",
   "pygments_lexer": "ipython3",
   "version": "3.7.4"
  }
 },
 "nbformat": 4,
 "nbformat_minor": 4
}
