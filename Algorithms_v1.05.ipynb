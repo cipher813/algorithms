{
 "cells": [
  {
   "cell_type": "markdown",
   "metadata": {},
   "source": [
    "# Algorithms\n",
    "\n",
    "April 2019"
   ]
  },
  {
   "cell_type": "code",
   "execution_count": 1,
   "metadata": {},
   "outputs": [],
   "source": [
    "import itertools\n",
    "# from collections import defaultdict \n",
    "\n",
    "from bm_util import *\n",
    "from sort import *\n",
    "from search import *"
   ]
  },
  {
   "cell_type": "markdown",
   "metadata": {},
   "source": [
    "### Search"
   ]
  },
  {
   "cell_type": "code",
   "execution_count": 2,
   "metadata": {},
   "outputs": [
    {
     "data": {
      "text/plain": [
       "[0, 1, 4, 9, 16, 25, 36, 49, 64, 81]"
      ]
     },
     "execution_count": 2,
     "metadata": {},
     "output_type": "execute_result"
    }
   ],
   "source": [
    "A = [x**2 for x in range(10)]\n",
    "A"
   ]
  },
  {
   "cell_type": "code",
   "execution_count": 3,
   "metadata": {},
   "outputs": [
    {
     "data": {
      "text/plain": [
       "True"
      ]
     },
     "execution_count": 3,
     "metadata": {},
     "output_type": "execute_result"
    }
   ],
   "source": [
    "binary_search(A,9)"
   ]
  },
  {
   "cell_type": "code",
   "execution_count": 4,
   "metadata": {},
   "outputs": [
    {
     "data": {
      "text/plain": [
       "False"
      ]
     },
     "execution_count": 4,
     "metadata": {},
     "output_type": "execute_result"
    }
   ],
   "source": [
    "binary_search(A,10)"
   ]
  },
  {
   "cell_type": "code",
   "execution_count": 5,
   "metadata": {},
   "outputs": [
    {
     "data": {
      "text/plain": [
       "False"
      ]
     },
     "execution_count": 5,
     "metadata": {},
     "output_type": "execute_result"
    }
   ],
   "source": [
    "binary_search(A,11)"
   ]
  },
  {
   "cell_type": "code",
   "execution_count": 6,
   "metadata": {},
   "outputs": [],
   "source": [
    "g = BreadthFirstSearch()"
   ]
  },
  {
   "cell_type": "code",
   "execution_count": 7,
   "metadata": {},
   "outputs": [],
   "source": [
    "g.addEdge(0, 1) \n",
    "g.addEdge(0, 2) \n",
    "g.addEdge(1, 2) \n",
    "g.addEdge(2, 0) \n",
    "g.addEdge(2, 3) \n",
    "g.addEdge(3, 3)"
   ]
  },
  {
   "cell_type": "code",
   "execution_count": 8,
   "metadata": {},
   "outputs": [
    {
     "data": {
      "text/plain": [
       "defaultdict(list, {0: [1, 2], 1: [2], 2: [0, 3], 3: [3]})"
      ]
     },
     "execution_count": 8,
     "metadata": {},
     "output_type": "execute_result"
    }
   ],
   "source": [
    "g.graph"
   ]
  },
  {
   "cell_type": "code",
   "execution_count": 9,
   "metadata": {},
   "outputs": [
    {
     "name": "stdout",
     "output_type": "stream",
     "text": [
      "2 explored\n",
      "0 explored\n",
      "3 explored\n",
      "1 explored\n"
     ]
    }
   ],
   "source": [
    "g.BFS(2)"
   ]
  },
  {
   "cell_type": "code",
   "execution_count": 10,
   "metadata": {},
   "outputs": [],
   "source": [
    "d = DepthFirstSearch()"
   ]
  },
  {
   "cell_type": "code",
   "execution_count": 11,
   "metadata": {},
   "outputs": [],
   "source": [
    "d.addEdge(0, 1) \n",
    "d.addEdge(0, 2) \n",
    "d.addEdge(1, 2) \n",
    "d.addEdge(2, 0) \n",
    "d.addEdge(2, 3) \n",
    "d.addEdge(3, 3) "
   ]
  },
  {
   "cell_type": "code",
   "execution_count": 12,
   "metadata": {},
   "outputs": [
    {
     "data": {
      "text/plain": [
       "defaultdict(list, {0: [1, 2], 1: [2], 2: [0, 3], 3: [3]})"
      ]
     },
     "execution_count": 12,
     "metadata": {},
     "output_type": "execute_result"
    }
   ],
   "source": [
    "d.graph"
   ]
  },
  {
   "cell_type": "code",
   "execution_count": 13,
   "metadata": {},
   "outputs": [
    {
     "name": "stdout",
     "output_type": "stream",
     "text": [
      "2 explored\n",
      "0 explored\n",
      "1 explored\n",
      "3 explored\n"
     ]
    }
   ],
   "source": [
    "d.DFS(2)"
   ]
  },
  {
   "cell_type": "markdown",
   "metadata": {},
   "source": [
    "### Sort"
   ]
  },
  {
   "cell_type": "code",
   "execution_count": 14,
   "metadata": {},
   "outputs": [],
   "source": [
    "a, b, c, d, e = [list(x) for x in itertools.tee([10, 7, 8, 9, 1, 5],5)]"
   ]
  },
  {
   "cell_type": "code",
   "execution_count": 15,
   "metadata": {},
   "outputs": [
    {
     "name": "stdout",
     "output_type": "stream",
     "text": [
      "6.82 µs ± 206 ns per loop (mean ± std. dev. of 7 runs, 100000 loops each)\n",
      "5.95 µs ± 61.4 ns per loop (mean ± std. dev. of 7 runs, 100000 loops each)\n",
      "308 ns ± 2.89 ns per loop (mean ± std. dev. of 7 runs, 1000000 loops each)\n"
     ]
    }
   ],
   "source": [
    "%timeit mergesort(a)\n",
    "%timeit quicksort(b)\n",
    "%timeit sorted(c)"
   ]
  },
  {
   "cell_type": "code",
   "execution_count": 16,
   "metadata": {},
   "outputs": [
    {
     "name": "stdout",
     "output_type": "stream",
     "text": [
      "Unsorted:\t[10, 7, 8, 9, 1, 5]\n",
      "Applying MergeSort\n",
      "1.\t[10, 7, 8, 9, 1, 5]\n",
      "1.\t[10, 7, 8]\n",
      "1.\t[10]\n",
      "1.\t[7, 8]\n",
      "1.\t[7]\n",
      "1.\t[8]\n",
      "2.\tl[0]<r[0]: 7<8\n",
      "2.\tarr[0]=l[0]=7,[7, 8]\n",
      "3.\tarr[1]=r[0]=8,[7, 8]\n",
      "2.\tl[0]>r[0]: 10>7\n",
      "2.\tarr[0]=r[0]=7,[7, 7, 8]\n",
      "2.\tl[0]>r[1]: 10>8\n",
      "2.\tarr[1]=r[1]=8,[7, 8, 8]\n",
      "3.\tarr[2]=l[0]=10,[7, 8, 10]\n",
      "1.\t[9, 1, 5]\n",
      "1.\t[9]\n",
      "1.\t[1, 5]\n",
      "1.\t[1]\n",
      "1.\t[5]\n",
      "2.\tl[0]<r[0]: 1<5\n",
      "2.\tarr[0]=l[0]=1,[1, 5]\n",
      "3.\tarr[1]=r[0]=5,[1, 5]\n",
      "2.\tl[0]>r[0]: 9>1\n",
      "2.\tarr[0]=r[0]=1,[1, 1, 5]\n",
      "2.\tl[0]>r[1]: 9>5\n",
      "2.\tarr[1]=r[1]=5,[1, 5, 5]\n",
      "3.\tarr[2]=l[0]=9,[1, 5, 9]\n",
      "2.\tl[0]>r[0]: 7>1\n",
      "2.\tarr[0]=r[0]=1,[1, 7, 8, 9, 1, 5]\n",
      "2.\tl[0]>r[1]: 7>5\n",
      "2.\tarr[1]=r[1]=5,[1, 5, 8, 9, 1, 5]\n",
      "2.\tl[0]<r[2]: 7<9\n",
      "2.\tarr[2]=l[0]=7,[1, 5, 7, 9, 1, 5]\n",
      "2.\tl[1]<r[2]: 8<9\n",
      "2.\tarr[3]=l[1]=8,[1, 5, 7, 8, 1, 5]\n",
      "2.\tl[2]>r[2]: 10>9\n",
      "2.\tarr[4]=r[2]=9,[1, 5, 7, 8, 9, 5]\n",
      "3.\tarr[5]=l[2]=10,[1, 5, 7, 8, 9, 10]\n",
      "Sorted:\t[1, 5, 7, 8, 9, 10]\n"
     ]
    },
    {
     "data": {
      "text/plain": [
       "[1, 5, 7, 8, 9, 10]"
      ]
     },
     "execution_count": 16,
     "metadata": {},
     "output_type": "execute_result"
    }
   ],
   "source": [
    "mergesort_printed(d)"
   ]
  },
  {
   "cell_type": "code",
   "execution_count": 17,
   "metadata": {},
   "outputs": [
    {
     "name": "stdout",
     "output_type": "stream",
     "text": [
      "Unsorted:\t[10, 7, 8, 9, 1, 5]\n",
      "Applying QuickSort\n",
      "Low 0 is less than High 5\n",
      "Partition at Array [10, 7, 8, 9, 1, 5], Low 0, High 5\n",
      "Pivot=arr[5]=5\n",
      "arr[4]<=5\n",
      "swapping arr[0] and arr[4]\n",
      "swapping arr[1] and arr[5]\n",
      "Applying sort at Array [1, 5, 8, 9, 10, 7], Low 0, High 0\n",
      "Applying sort at Array [1, 5, 8, 9, 10, 7], Low 2, High 5\n",
      "Low 2 is less than High 5\n",
      "Partition at Array [1, 5, 8, 9, 10, 7], Low 2, High 5\n",
      "Pivot=arr[5]=7\n",
      "swapping arr[2] and arr[5]\n",
      "Applying sort at Array [1, 5, 7, 9, 10, 8], Low 2, High 1\n",
      "Applying sort at Array [1, 5, 7, 9, 10, 8], Low 3, High 5\n",
      "Low 3 is less than High 5\n",
      "Partition at Array [1, 5, 7, 9, 10, 8], Low 3, High 5\n",
      "Pivot=arr[5]=8\n",
      "swapping arr[3] and arr[5]\n",
      "Applying sort at Array [1, 5, 7, 8, 10, 9], Low 3, High 2\n",
      "Applying sort at Array [1, 5, 7, 8, 10, 9], Low 4, High 5\n",
      "Low 4 is less than High 5\n",
      "Partition at Array [1, 5, 7, 8, 10, 9], Low 4, High 5\n",
      "Pivot=arr[5]=9\n",
      "swapping arr[4] and arr[5]\n",
      "Applying sort at Array [1, 5, 7, 8, 9, 10], Low 4, High 3\n",
      "Applying sort at Array [1, 5, 7, 8, 9, 10], Low 5, High 5\n",
      "Sorted:\t[1, 5, 7, 8, 9, 10]\n"
     ]
    },
    {
     "data": {
      "text/plain": [
       "[1, 5, 7, 8, 9, 10]"
      ]
     },
     "execution_count": 17,
     "metadata": {},
     "output_type": "execute_result"
    }
   ],
   "source": [
    "quicksort_printed(e)"
   ]
  },
  {
   "cell_type": "code",
   "execution_count": null,
   "metadata": {},
   "outputs": [],
   "source": []
  },
  {
   "cell_type": "markdown",
   "metadata": {},
   "source": [
    "### Python Built-In Functions"
   ]
  },
  {
   "cell_type": "code",
   "execution_count": 18,
   "metadata": {},
   "outputs": [
    {
     "data": {
      "text/plain": [
       "\"'chicken pot pie\\\\n.'\""
      ]
     },
     "execution_count": 18,
     "metadata": {},
     "output_type": "execute_result"
    }
   ],
   "source": [
    "ascii(\"chicken pot pie\\n.\")"
   ]
  },
  {
   "cell_type": "code",
   "execution_count": 19,
   "metadata": {},
   "outputs": [
    {
     "data": {
      "text/plain": [
       "'0b1110'"
      ]
     },
     "execution_count": 19,
     "metadata": {},
     "output_type": "execute_result"
    }
   ],
   "source": [
    "format(14, '#b')"
   ]
  },
  {
   "cell_type": "code",
   "execution_count": 20,
   "metadata": {},
   "outputs": [
    {
     "data": {
      "text/plain": [
       "'1110'"
      ]
     },
     "execution_count": 20,
     "metadata": {},
     "output_type": "execute_result"
    }
   ],
   "source": [
    "format(14, 'b')"
   ]
  },
  {
   "cell_type": "code",
   "execution_count": 21,
   "metadata": {},
   "outputs": [
    {
     "data": {
      "text/plain": [
       "'e'"
      ]
     },
     "execution_count": 21,
     "metadata": {},
     "output_type": "execute_result"
    }
   ],
   "source": [
    "chr(101)"
   ]
  },
  {
   "cell_type": "code",
   "execution_count": 22,
   "metadata": {},
   "outputs": [
    {
     "data": {
      "text/plain": [
       "97"
      ]
     },
     "execution_count": 22,
     "metadata": {},
     "output_type": "execute_result"
    }
   ],
   "source": [
    "ord('a')"
   ]
  },
  {
   "cell_type": "code",
   "execution_count": 23,
   "metadata": {},
   "outputs": [
    {
     "data": {
      "text/plain": [
       "['A',\n",
       " 'BeautifulSoup',\n",
       " 'BreadthFirstSearch',\n",
       " 'DepthFirstSearch',\n",
       " 'Graph',\n",
       " 'In',\n",
       " 'Out',\n",
       " '_',\n",
       " '_12',\n",
       " '_16',\n",
       " '_17',\n",
       " '_18',\n",
       " '_19',\n",
       " '_2',\n",
       " '_20',\n",
       " '_21',\n",
       " '_22',\n",
       " '_3',\n",
       " '_4',\n",
       " '_5',\n",
       " '_8',\n",
       " '__',\n",
       " '___',\n",
       " '__builtin__',\n",
       " '__builtins__',\n",
       " '__doc__',\n",
       " '__loader__',\n",
       " '__name__',\n",
       " '__package__',\n",
       " '__spec__',\n",
       " '_dh',\n",
       " '_i',\n",
       " '_i1',\n",
       " '_i10',\n",
       " '_i11',\n",
       " '_i12',\n",
       " '_i13',\n",
       " '_i14',\n",
       " '_i15',\n",
       " '_i16',\n",
       " '_i17',\n",
       " '_i18',\n",
       " '_i19',\n",
       " '_i2',\n",
       " '_i20',\n",
       " '_i21',\n",
       " '_i22',\n",
       " '_i23',\n",
       " '_i3',\n",
       " '_i4',\n",
       " '_i5',\n",
       " '_i6',\n",
       " '_i7',\n",
       " '_i8',\n",
       " '_i9',\n",
       " '_ih',\n",
       " '_ii',\n",
       " '_iii',\n",
       " '_oh',\n",
       " 'a',\n",
       " 'b',\n",
       " 'binary_search',\n",
       " 'c',\n",
       " 'd',\n",
       " 'defaultdict',\n",
       " 'download_url_to_filepath',\n",
       " 'e',\n",
       " 'exit',\n",
       " 'fibonacci',\n",
       " 'find_primes',\n",
       " 'func',\n",
       " 'functions',\n",
       " 'g',\n",
       " 'gcd',\n",
       " 'generator',\n",
       " 'get_ipython',\n",
       " 'isprime',\n",
       " 'isprime2',\n",
       " 'isprime3',\n",
       " 'itertools',\n",
       " 'mergesort',\n",
       " 'mergesort_printed',\n",
       " 'multiply_binary',\n",
       " 'np',\n",
       " 'os',\n",
       " 'parse_table_from_url',\n",
       " 'pd',\n",
       " 'prime_list',\n",
       " 'quicksort',\n",
       " 'quicksort_printed',\n",
       " 'quit',\n",
       " 're',\n",
       " 'requests',\n",
       " 'unzip_file',\n",
       " 'urllib',\n",
       " 'zipfile']"
      ]
     },
     "execution_count": 23,
     "metadata": {},
     "output_type": "execute_result"
    }
   ],
   "source": [
    "dir()"
   ]
  },
  {
   "cell_type": "markdown",
   "metadata": {},
   "source": [
    "### Itertools"
   ]
  },
  {
   "cell_type": "code",
   "execution_count": 24,
   "metadata": {},
   "outputs": [
    {
     "data": {
      "text/plain": [
       "[0, 1, 8, 27, 64, 125, 216, 343, 512, 729]"
      ]
     },
     "execution_count": 24,
     "metadata": {},
     "output_type": "execute_result"
    }
   ],
   "source": [
    "from itertools import repeat\n",
    "\n",
    "listy = [1,2,3]\n",
    "\n",
    "list(map(pow, range(10), repeat(3)))"
   ]
  },
  {
   "cell_type": "markdown",
   "metadata": {},
   "source": [
    "### Apply Functions from a List"
   ]
  },
  {
   "cell_type": "code",
   "execution_count": 25,
   "metadata": {},
   "outputs": [],
   "source": [
    "raw = 'ABC'\n",
    "\n",
    "functions = [str.isalnum, str.isalpha, str.isupper]\n",
    "\n",
    "for func in functions:\n",
    "    assert any(func(letter) for letter in raw)"
   ]
  },
  {
   "cell_type": "markdown",
   "metadata": {},
   "source": [
    "### Time Experiments\n",
    "\n",
    "Primes"
   ]
  },
  {
   "cell_type": "code",
   "execution_count": 26,
   "metadata": {},
   "outputs": [
    {
     "name": "stdout",
     "output_type": "stream",
     "text": [
      "2.01 ms ± 16.2 µs per loop (mean ± std. dev. of 7 runs, 100 loops each)\n",
      "4.33 µs ± 31.7 ns per loop (mean ± std. dev. of 7 runs, 100000 loops each)\n",
      "3.97 µs ± 19.9 ns per loop (mean ± std. dev. of 7 runs, 100000 loops each)\n",
      "77.2 µs ± 713 ns per loop (mean ± std. dev. of 7 runs, 10000 loops each)\n",
      "99.1 µs ± 908 ns per loop (mean ± std. dev. of 7 runs, 10000 loops each)\n"
     ]
    }
   ],
   "source": [
    "%timeit isprime(2064991007)\n",
    "%timeit isprime2(2064991007)\n",
    "%timeit isprime3(2064991007)\n",
    "%timeit list(filter(isprime,range(1,100)))\n",
    "%timeit list(filter(isprime3,range(1,100)))"
   ]
  },
  {
   "cell_type": "markdown",
   "metadata": {},
   "source": [
    "Sorting"
   ]
  },
  {
   "cell_type": "code",
   "execution_count": 27,
   "metadata": {},
   "outputs": [
    {
     "name": "stdout",
     "output_type": "stream",
     "text": [
      "6 µs ± 54.4 ns per loop (mean ± std. dev. of 7 runs, 100000 loops each)\n",
      "6.85 µs ± 149 ns per loop (mean ± std. dev. of 7 runs, 100000 loops each)\n",
      "250 ns ± 3.44 ns per loop (mean ± std. dev. of 7 runs, 1000000 loops each)\n"
     ]
    }
   ],
   "source": [
    "num_list = [10, 7, 8, 9, 1, 5]\n",
    "%timeit quicksort(num_list) # 361 µs ± 51 µs per loop (mean ± std. dev. of 7 runs, 1000 loops each)\n",
    "%timeit mergesort(num_list) # 5.63 ms ± 435 µs per loop (mean ± std. dev. of 7 runs, 100 loops each)\n",
    "%timeit sorted(num_list) # 393 ns ± 14.9 ns per loop (mean ± std. dev. of 7 runs, 1000000 loops each)"
   ]
  }
 ],
 "metadata": {
  "kernelspec": {
   "display_name": "Python 3.7",
   "language": "python",
   "name": "python37"
  },
  "language_info": {
   "codemirror_mode": {
    "name": "ipython",
    "version": 3
   },
   "file_extension": ".py",
   "mimetype": "text/x-python",
   "name": "python",
   "nbconvert_exporter": "python",
   "pygments_lexer": "ipython3",
   "version": "3.6.8"
  }
 },
 "nbformat": 4,
 "nbformat_minor": 2
}
