{
 "cells": [
  {
   "cell_type": "markdown",
   "metadata": {},
   "source": [
    "[LeetCode question list](https://leetcode.com/discuss/career/449135/how-to-effectively-use-leetcode-to-prepare-for-interviews)"
   ]
  },
  {
   "cell_type": "code",
   "execution_count": 1,
   "metadata": {},
   "outputs": [],
   "source": [
    "import numpy as np"
   ]
  },
  {
   "cell_type": "code",
   "execution_count": null,
   "metadata": {},
   "outputs": [],
   "source": []
  },
  {
   "cell_type": "markdown",
   "metadata": {},
   "source": [
    "### Functions"
   ]
  },
  {
   "cell_type": "code",
   "execution_count": 2,
   "metadata": {},
   "outputs": [],
   "source": [
    "class Node:\n",
    "    \"\"\"Node for single and double linked lists\"\"\"\n",
    "    def __init__(self, x):\n",
    "        self.val = x\n",
    "        self.next = None\n",
    "        self.prev = None"
   ]
  },
  {
   "cell_type": "code",
   "execution_count": null,
   "metadata": {},
   "outputs": [],
   "source": []
  },
  {
   "cell_type": "code",
   "execution_count": null,
   "metadata": {},
   "outputs": [],
   "source": []
  },
  {
   "cell_type": "code",
   "execution_count": null,
   "metadata": {},
   "outputs": [],
   "source": []
  },
  {
   "cell_type": "markdown",
   "metadata": {},
   "source": [
    "13. [Roman to Integer](https://leetcode.com/problems/roman-to-integer/)"
   ]
  },
  {
   "cell_type": "code",
   "execution_count": 3,
   "metadata": {},
   "outputs": [],
   "source": [
    "def roman_to_integer(s):\n",
    "    d = {\"I\":1,\"V\":5,\"X\":10,\"L\":50,\"C\":100,\"D\":500,\"M\":1000, \"CD\":400,\"CM\":900,\"XC\":90,\"IV\":4,\"IX\":9}\n",
    "    \n",
    "    num = 0\n",
    "    while len(s)>0:\n",
    "        two = s[:2]\n",
    "        one = s[0]\n",
    "        if two in d:\n",
    "            s = s[2:]\n",
    "            num+=d[two]\n",
    "        elif one in d:\n",
    "            s = s[1:]\n",
    "            num+=d[one]\n",
    "        else:\n",
    "            raise ValueError(\"Not a valid roman numeral\")\n",
    "    return num    "
   ]
  },
  {
   "cell_type": "code",
   "execution_count": 4,
   "metadata": {},
   "outputs": [
    {
     "data": {
      "text/plain": [
       "1994"
      ]
     },
     "execution_count": 4,
     "metadata": {},
     "output_type": "execute_result"
    }
   ],
   "source": [
    "roman_to_integer('MCMXCIV')"
   ]
  },
  {
   "cell_type": "code",
   "execution_count": 5,
   "metadata": {},
   "outputs": [],
   "source": [
    "assert roman_to_integer('MCMXCIV')==1994"
   ]
  },
  {
   "cell_type": "markdown",
   "metadata": {},
   "source": [
    "20. [Valid Parentheses](https://leetcode.com/problems/valid-parentheses/)"
   ]
  },
  {
   "cell_type": "code",
   "execution_count": 6,
   "metadata": {},
   "outputs": [],
   "source": [
    "def valid_paren(s):\n",
    "    left = \"{[(\"\n",
    "    right = \"}])\"\n",
    "    stack = []\n",
    "    for c in s:\n",
    "        if c in left:\n",
    "            stack.append(c)\n",
    "        elif c in right:\n",
    "            right_idx = right.index(c)\n",
    "            if len(stack)>0 and stack[-1]==left[right_idx]:\n",
    "                stack.pop()\n",
    "            else:\n",
    "                return False\n",
    "    if len(stack)==0:\n",
    "        return True\n",
    "    return False"
   ]
  },
  {
   "cell_type": "markdown",
   "metadata": {},
   "source": [
    "21. [Merge Two Sorted Lists](https://leetcode.com/problems/merge-two-sorted-lists/)"
   ]
  },
  {
   "cell_type": "code",
   "execution_count": 7,
   "metadata": {},
   "outputs": [],
   "source": [
    "def mergeTwoLists(l1, l2):\n",
    "    a = []\n",
    "\n",
    "    while l1:\n",
    "        a.append(l1.val)\n",
    "        l1 = l1.next\n",
    "\n",
    "    while l2:\n",
    "        a.append(l2.val)\n",
    "        l2 = l2.next\n",
    "\n",
    "    a = sorted(a)\n",
    "\n",
    "    root = Node(0)\n",
    "    m = root\n",
    "    for i in range(len(a)):\n",
    "        temp = Node(a[i])\n",
    "        root.next = temp\n",
    "        root = root.next\n",
    "    return m.next\n",
    "\n",
    "# NOTE this is for array only, not linked list\n",
    "# def mergeTwoLists2(l1, l2):\n",
    "#     l3 = []\n",
    "#     while(l1 or l2):\n",
    "#         if not l2 or l1 and l1[0]<=l2[0]:\n",
    "#             l3.append(l1.pop(0))\n",
    "#         else:\n",
    "#             l3.append(l2.pop(0))\n",
    "#     return l3"
   ]
  },
  {
   "cell_type": "code",
   "execution_count": 8,
   "metadata": {},
   "outputs": [],
   "source": [
    "a = Node(1)\n",
    "b = Node(2)\n",
    "c = Node(4)\n",
    "\n",
    "d = Node(1)\n",
    "e = Node(3)\n",
    "f = Node(4)\n",
    "\n",
    "# linked list 1\n",
    "a.next = b\n",
    "b.next = c\n",
    "\n",
    "# linked list 2\n",
    "d.next = e\n",
    "e.next = f"
   ]
  },
  {
   "cell_type": "code",
   "execution_count": 9,
   "metadata": {},
   "outputs": [
    {
     "name": "stdout",
     "output_type": "stream",
     "text": [
      "1\n",
      "1\n",
      "2\n",
      "3\n",
      "4\n",
      "4\n"
     ]
    }
   ],
   "source": [
    "g = mergeTwoLists(a,d)\n",
    "\n",
    "while g:\n",
    "    print(g.val)\n",
    "    g = g.next"
   ]
  },
  {
   "cell_type": "code",
   "execution_count": 10,
   "metadata": {},
   "outputs": [],
   "source": [
    "# h = mergeTwoLists2(a,d)\n",
    "\n",
    "# while h:\n",
    "#     print(h.val)\n",
    "#     h = h.next"
   ]
  },
  {
   "cell_type": "markdown",
   "metadata": {},
   "source": [
    "141. [Linked List Cycle](https://leetcode.com/problems/linked-list-cycle/)"
   ]
  },
  {
   "cell_type": "code",
   "execution_count": 11,
   "metadata": {},
   "outputs": [],
   "source": [
    "def hasCycle(head):\n",
    "    if not head or not head.next:\n",
    "        return False\n",
    "    \n",
    "    slow = head\n",
    "    fast = head.next\n",
    "    while slow!=fast:\n",
    "        if not fast or not fast.next:\n",
    "            return False\n",
    "        slow = slow.next\n",
    "        fast = fast.next.next\n",
    "    return True"
   ]
  },
  {
   "cell_type": "code",
   "execution_count": 12,
   "metadata": {},
   "outputs": [
    {
     "data": {
      "text/plain": [
       "True"
      ]
     },
     "execution_count": 12,
     "metadata": {},
     "output_type": "execute_result"
    }
   ],
   "source": [
    "# with cycle\n",
    "a = Node(1)\n",
    "b = Node(2)\n",
    "c = Node(4)\n",
    "\n",
    "a.next = b\n",
    "b.next = c\n",
    "c.next = a\n",
    "\n",
    "hasCycle(a)"
   ]
  },
  {
   "cell_type": "code",
   "execution_count": 13,
   "metadata": {},
   "outputs": [
    {
     "data": {
      "text/plain": [
       "False"
      ]
     },
     "execution_count": 13,
     "metadata": {},
     "output_type": "execute_result"
    }
   ],
   "source": [
    "# no cycle\n",
    "d = Node(1)\n",
    "e = Node(2)\n",
    "f = Node(4)\n",
    "\n",
    "d.next = e\n",
    "e.next = f\n",
    "\n",
    "hasCycle(d)"
   ]
  },
  {
   "cell_type": "markdown",
   "metadata": {},
   "source": [
    "155. [Min Stack](https://leetcode.com/problems/min-stack/)"
   ]
  },
  {
   "cell_type": "code",
   "execution_count": 14,
   "metadata": {},
   "outputs": [],
   "source": [
    "class MinStack:\n",
    "\n",
    "    def __init__(self):\n",
    "        \"\"\"\n",
    "        initialize your data structure here.\n",
    "        \"\"\"\n",
    "        self.stack = []\n",
    "        \n",
    "\n",
    "    def push(self, x: int) -> None:\n",
    "        return self.stack.append(x)\n",
    "\n",
    "    def pop(self) -> None:\n",
    "        return self.stack.pop()\n",
    "        \n",
    "\n",
    "    def top(self) -> int:\n",
    "        return self.stack[-1]\n",
    "        \n",
    "    def getMin(self) -> int:\n",
    "        return min(self.stack)"
   ]
  },
  {
   "cell_type": "markdown",
   "metadata": {},
   "source": [
    "169. [Majority Elements](https://leetcode.com/problems/majority-element/)"
   ]
  },
  {
   "cell_type": "code",
   "execution_count": 15,
   "metadata": {},
   "outputs": [],
   "source": [
    "b = [3,3,4]"
   ]
  },
  {
   "cell_type": "code",
   "execution_count": 16,
   "metadata": {},
   "outputs": [],
   "source": [
    "def majorityElement(nums):\n",
    "    d = {}\n",
    "    for c in nums:\n",
    "        if c in d:\n",
    "            d[c]+=1\n",
    "        else:\n",
    "            d[c]=1\n",
    "    return max(d, key=lambda k: d[k])"
   ]
  },
  {
   "cell_type": "code",
   "execution_count": 17,
   "metadata": {},
   "outputs": [],
   "source": [
    "assert majorityElement(b)==3"
   ]
  },
  {
   "cell_type": "markdown",
   "metadata": {},
   "source": [
    "202. [Happy Number](https://leetcode.com/problems/happy-number/)"
   ]
  },
  {
   "cell_type": "code",
   "execution_count": 18,
   "metadata": {},
   "outputs": [],
   "source": [
    "def isHappy(n):\n",
    "    i=0\n",
    "    while n!=1:\n",
    "        if i>100:\n",
    "            return False\n",
    "        lst = [int(x)**2 for x in str(n)]\n",
    "        n = sum(lst)\n",
    "        i+=1\n",
    "    return True"
   ]
  },
  {
   "cell_type": "code",
   "execution_count": 19,
   "metadata": {},
   "outputs": [],
   "source": [
    "assert isHappy(19)==True"
   ]
  },
  {
   "cell_type": "markdown",
   "metadata": {},
   "source": [
    "204. [Count Primes](https://leetcode.com/problems/count-primes/)"
   ]
  },
  {
   "cell_type": "code",
   "execution_count": 20,
   "metadata": {},
   "outputs": [],
   "source": [
    "def isPrime(n):\n",
    "    if n==2:\n",
    "        return True\n",
    "    elif n%2==0 or n<2:\n",
    "        return False\n",
    "    else:\n",
    "        for i in range(3,int(np.sqrt(n))+1,2):\n",
    "            if n%i==0:\n",
    "                return False\n",
    "    return True\n",
    "\n",
    "def countPrimes(n):\n",
    "    primes = [x for x in range(n) if isPrime(x)]\n",
    "    return len(primes)"
   ]
  },
  {
   "cell_type": "code",
   "execution_count": 21,
   "metadata": {},
   "outputs": [],
   "source": [
    "assert countPrimes(10)==4"
   ]
  },
  {
   "cell_type": "markdown",
   "metadata": {},
   "source": [
    "242. [Valid Anagram](https://leetcode.com/problems/valid-anagram/)"
   ]
  },
  {
   "cell_type": "code",
   "execution_count": 22,
   "metadata": {},
   "outputs": [],
   "source": [
    "def isAnagram(s, t):\n",
    "    return sorted(s)==sorted(t)"
   ]
  },
  {
   "cell_type": "code",
   "execution_count": 23,
   "metadata": {},
   "outputs": [
    {
     "data": {
      "text/plain": [
       "True"
      ]
     },
     "execution_count": 23,
     "metadata": {},
     "output_type": "execute_result"
    }
   ],
   "source": [
    "isAnagram(\"anagram\",\"nagaram\")"
   ]
  },
  {
   "cell_type": "code",
   "execution_count": 24,
   "metadata": {},
   "outputs": [
    {
     "data": {
      "text/plain": [
       "False"
      ]
     },
     "execution_count": 24,
     "metadata": {},
     "output_type": "execute_result"
    }
   ],
   "source": [
    "isAnagram('rat','car')"
   ]
  },
  {
   "cell_type": "markdown",
   "metadata": {},
   "source": [
    "371. [Sum of Two Integers](https://leetcode.com/problems/sum-of-two-integers/)"
   ]
  },
  {
   "cell_type": "code",
   "execution_count": 25,
   "metadata": {},
   "outputs": [],
   "source": [
    "def getSum(a, b):\n",
    "    return sum([a,b])"
   ]
  },
  {
   "cell_type": "code",
   "execution_count": 26,
   "metadata": {},
   "outputs": [],
   "source": [
    "assert getSum(1,2)==3"
   ]
  },
  {
   "cell_type": "markdown",
   "metadata": {},
   "source": [
    "88. [Merge Sorted Array](https://leetcode.com/problems/merge-sorted-array/)"
   ]
  },
  {
   "cell_type": "code",
   "execution_count": 27,
   "metadata": {},
   "outputs": [],
   "source": [
    "def merge(nums1, m, nums2, n):\n",
    "    \"\"\"Modify nums1 in-place\"\"\"\n",
    "    for i in range(n):\n",
    "        nums1.pop()\n",
    "    for j in range(n):\n",
    "        nums1.append(nums2[j])\n",
    "    nums1.sort()   \n",
    "            \n",
    "def merge2(nums1, m, nums2, n):\n",
    "    \"\"\"Returns sort\"\"\"\n",
    "    sort = []\n",
    "    nums1 = nums1[:m]\n",
    "    while nums1 or nums2:\n",
    "        if nums1 and nums2:\n",
    "            if nums1[0]>nums2[0]:\n",
    "                sort.append(nums2[0])\n",
    "                nums2 = nums2[1:]\n",
    "            else:\n",
    "                sort.append(nums1[0])\n",
    "                nums1 = nums1[1:]\n",
    "        elif nums2:\n",
    "            sort.append(nums2[0])\n",
    "            nums2 = nums2[1:]\n",
    "        else:\n",
    "            sort.append(nums1[0])\n",
    "            nums1 = nums1[1:]\n",
    "    return sort"
   ]
  },
  {
   "cell_type": "code",
   "execution_count": 28,
   "metadata": {},
   "outputs": [],
   "source": [
    "nums1 = [1,2,3,0,0,0]\n",
    "nums2 = [2,5,6]\n",
    "m = 3\n",
    "n = 3\n",
    "\n",
    "merge(nums1, m, nums2, n)\n",
    "assert nums1==[1, 2, 2, 3, 5, 6]"
   ]
  },
  {
   "cell_type": "markdown",
   "metadata": {},
   "source": [
    "108. [Convert Sorted Array to Binary Search Tree](https://leetcode.com/problems/convert-sorted-array-to-binary-search-tree/)"
   ]
  },
  {
   "cell_type": "code",
   "execution_count": 29,
   "metadata": {},
   "outputs": [],
   "source": [
    "# Definition for a binary tree node.\n",
    "class TreeNode:\n",
    "    def __init__(self, x):\n",
    "        self.val = x\n",
    "        self.left = None\n",
    "        self.right = None"
   ]
  },
  {
   "cell_type": "code",
   "execution_count": 30,
   "metadata": {},
   "outputs": [],
   "source": [
    "def sortedArrayToBST(nums):\n",
    "    \"\"\"STUDY\"\"\"\n",
    "    if not nums: return None\n",
    "    if len(nums)==1: return TreeNode(nums[0])\n",
    "    \n",
    "    size = len(nums)\n",
    "    mid = size//2\n",
    "    root = TreeNode(nums[mid])\n",
    "    \n",
    "    root.left = sortedArrayToBST(nums[:mid])\n",
    "    root.right = sortedArrayToBST(nums[mid+1:])\n",
    "#     if root.left:\n",
    "#         print(f\"LEFT: {root.left.val}\")\n",
    "#     if root.right:\n",
    "#         print(f\"RIGHT: {root.right.val}\")\n",
    "    return root\n",
    "\n",
    "def makeList(TreeNode):\n",
    "    if TreeNode is None:\n",
    "        return []\n",
    "#     print(TreeNode.val)\n",
    "#     print(TreeNode.left.val, TreeNode.right.val)\n",
    "    return makeList(TreeNode.left) + [TreeNode.val] + makeList(TreeNode.right)"
   ]
  },
  {
   "cell_type": "code",
   "execution_count": 31,
   "metadata": {},
   "outputs": [],
   "source": [
    "arr = [-10,-3,0,5,9]"
   ]
  },
  {
   "cell_type": "code",
   "execution_count": 32,
   "metadata": {},
   "outputs": [],
   "source": [
    "root = sortedArrayToBST(arr)\n",
    "assert makeList(root)==arr"
   ]
  },
  {
   "cell_type": "code",
   "execution_count": 33,
   "metadata": {},
   "outputs": [],
   "source": [
    "root = TreeNode(0)\n",
    "l1 = TreeNode(-3)\n",
    "r1 = TreeNode(9)\n",
    "l2 = TreeNode(-10)\n",
    "r2 = TreeNode(5)"
   ]
  },
  {
   "cell_type": "code",
   "execution_count": 34,
   "metadata": {},
   "outputs": [],
   "source": [
    "root.left = l1\n",
    "root.right = r1\n",
    "l1.left = l2\n",
    "r1.left = r2"
   ]
  }
 ],
 "metadata": {
  "kernelspec": {
   "display_name": "Algorithms",
   "language": "python",
   "name": "algorithms"
  },
  "language_info": {
   "codemirror_mode": {
    "name": "ipython",
    "version": 3
   },
   "file_extension": ".py",
   "mimetype": "text/x-python",
   "name": "python",
   "nbconvert_exporter": "python",
   "pygments_lexer": "ipython3",
   "version": "3.7.4"
  }
 },
 "nbformat": 4,
 "nbformat_minor": 4
}
