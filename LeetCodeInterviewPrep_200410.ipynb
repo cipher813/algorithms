{
 "cells": [
  {
   "cell_type": "markdown",
   "metadata": {},
   "source": [
    "[LeetCode question list](https://leetcode.com/discuss/career/449135/how-to-effectively-use-leetcode-to-prepare-for-interviews)"
   ]
  },
  {
   "cell_type": "markdown",
   "metadata": {},
   "source": [
    "13. [Roman to Integer](https://leetcode.com/problems/roman-to-integer/)"
   ]
  },
  {
   "cell_type": "code",
   "execution_count": 28,
   "metadata": {},
   "outputs": [],
   "source": [
    "def roman_to_integer(s):\n",
    "    d = {\"I\":1,\"V\":5,\"X\":10,\"L\":50,\"C\":100,\"D\":500,\"M\":1000, \"CD\":400,\"CM\":900,\"XC\":90,\"IV\":4,\"IX\":9}\n",
    "    \n",
    "    num = 0\n",
    "    while len(s)>0:\n",
    "        two = s[:2]\n",
    "        one = s[0]\n",
    "        if two in d:\n",
    "            s = s[2:]\n",
    "            num+=d[two]\n",
    "        elif one in d:\n",
    "            s = s[1:]\n",
    "            num+=d[one]\n",
    "        else:\n",
    "            raise(\"Not in dictionary\")\n",
    "    return num    "
   ]
  },
  {
   "cell_type": "code",
   "execution_count": 29,
   "metadata": {},
   "outputs": [],
   "source": [
    "assert roman_to_integer('MCMXCIV')==1994"
   ]
  },
  {
   "cell_type": "markdown",
   "metadata": {},
   "source": [
    "20. [Valid Parentheses](https://leetcode.com/problems/valid-parentheses/)"
   ]
  },
  {
   "cell_type": "code",
   "execution_count": 4,
   "metadata": {},
   "outputs": [],
   "source": [
    "def valid_paren(s):\n",
    "    left = \"{[(\"\n",
    "    right = \"}])\"\n",
    "    stack = []\n",
    "    for c in s:\n",
    "        if c in left:\n",
    "            stack.append(c)\n",
    "        elif c in right:\n",
    "            right_idx = right.index(c)\n",
    "            if len(stack)>0 and stack[-1]==left[right_idx]:\n",
    "                stack.pop()\n",
    "            else:\n",
    "                return False\n",
    "    if len(stack)==0:\n",
    "        return True\n",
    "    return False"
   ]
  },
  {
   "cell_type": "code",
   "execution_count": null,
   "metadata": {},
   "outputs": [],
   "source": []
  }
 ],
 "metadata": {
  "kernelspec": {
   "display_name": "Algorithms",
   "language": "python",
   "name": "algorithms"
  },
  "language_info": {
   "codemirror_mode": {
    "name": "ipython",
    "version": 3
   },
   "file_extension": ".py",
   "mimetype": "text/x-python",
   "name": "python",
   "nbconvert_exporter": "python",
   "pygments_lexer": "ipython3",
   "version": "3.7.4"
  }
 },
 "nbformat": 4,
 "nbformat_minor": 4
}
