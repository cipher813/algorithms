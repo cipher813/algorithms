{
 "cells": [
  {
   "cell_type": "markdown",
   "metadata": {},
   "source": [
    "[LeetCode question list](https://leetcode.com/discuss/career/449135/how-to-effectively-use-leetcode-to-prepare-for-interviews)"
   ]
  },
  {
   "cell_type": "code",
   "execution_count": 1,
   "metadata": {},
   "outputs": [],
   "source": [
    "import numpy as np"
   ]
  },
  {
   "cell_type": "code",
   "execution_count": null,
   "metadata": {},
   "outputs": [],
   "source": []
  },
  {
   "cell_type": "markdown",
   "metadata": {},
   "source": [
    "### Functions"
   ]
  },
  {
   "cell_type": "code",
   "execution_count": 2,
   "metadata": {},
   "outputs": [],
   "source": [
    "# Definition for singly-linked list.\n",
    "class Node:\n",
    "    def __init__(self, x):\n",
    "        self.val = x\n",
    "        self.next = None"
   ]
  },
  {
   "cell_type": "code",
   "execution_count": null,
   "metadata": {},
   "outputs": [],
   "source": []
  },
  {
   "cell_type": "code",
   "execution_count": null,
   "metadata": {},
   "outputs": [],
   "source": []
  },
  {
   "cell_type": "code",
   "execution_count": null,
   "metadata": {},
   "outputs": [],
   "source": []
  },
  {
   "cell_type": "markdown",
   "metadata": {},
   "source": [
    "13. [Roman to Integer](https://leetcode.com/problems/roman-to-integer/)"
   ]
  },
  {
   "cell_type": "code",
   "execution_count": 3,
   "metadata": {},
   "outputs": [],
   "source": [
    "def roman_to_integer(s):\n",
    "    d = {\"I\":1,\"V\":5,\"X\":10,\"L\":50,\"C\":100,\"D\":500,\"M\":1000, \"CD\":400,\"CM\":900,\"XC\":90,\"IV\":4,\"IX\":9}\n",
    "    \n",
    "    num = 0\n",
    "    while len(s)>0:\n",
    "        two = s[:2]\n",
    "        one = s[0]\n",
    "        if two in d:\n",
    "            s = s[2:]\n",
    "            num+=d[two]\n",
    "        elif one in d:\n",
    "            s = s[1:]\n",
    "            num+=d[one]\n",
    "        else:\n",
    "            raise ValueError(\"Not a valid roman numeral\")\n",
    "    return num    "
   ]
  },
  {
   "cell_type": "code",
   "execution_count": 4,
   "metadata": {},
   "outputs": [
    {
     "data": {
      "text/plain": [
       "1994"
      ]
     },
     "execution_count": 4,
     "metadata": {},
     "output_type": "execute_result"
    }
   ],
   "source": [
    "roman_to_integer('MCMXCIV')"
   ]
  },
  {
   "cell_type": "code",
   "execution_count": 5,
   "metadata": {},
   "outputs": [],
   "source": [
    "assert roman_to_integer('MCMXCIV')==1994"
   ]
  },
  {
   "cell_type": "markdown",
   "metadata": {},
   "source": [
    "20. [Valid Parentheses](https://leetcode.com/problems/valid-parentheses/)"
   ]
  },
  {
   "cell_type": "code",
   "execution_count": 6,
   "metadata": {},
   "outputs": [],
   "source": [
    "def valid_paren(s):\n",
    "    left = \"{[(\"\n",
    "    right = \"}])\"\n",
    "    stack = []\n",
    "    for c in s:\n",
    "        if c in left:\n",
    "            stack.append(c)\n",
    "        elif c in right:\n",
    "            right_idx = right.index(c)\n",
    "            if len(stack)>0 and stack[-1]==left[right_idx]:\n",
    "                stack.pop()\n",
    "            else:\n",
    "                return False\n",
    "    if len(stack)==0:\n",
    "        return True\n",
    "    return False"
   ]
  },
  {
   "cell_type": "markdown",
   "metadata": {},
   "source": [
    "21. [Merge Two Sorted Lists](https://leetcode.com/problems/merge-two-sorted-lists/)"
   ]
  },
  {
   "cell_type": "code",
   "execution_count": 7,
   "metadata": {},
   "outputs": [],
   "source": [
    "def mergeTwoLists(l1, l2):\n",
    "    a = []\n",
    "\n",
    "    while l1:\n",
    "        a.append(l1.val)\n",
    "        l1 = l1.next\n",
    "\n",
    "    while l2:\n",
    "        a.append(l2.val)\n",
    "        l2 = l2.next\n",
    "\n",
    "    a = sorted(a)\n",
    "\n",
    "    root = Node(0)\n",
    "    m = root\n",
    "    for i in range(len(a)):\n",
    "        temp = Node(a[i])\n",
    "        root.next = temp\n",
    "        root = root.next\n",
    "    return m.next\n",
    "\n",
    "def mergeTwoLists2(l1, l2):\n",
    "    l3 = []\n",
    "    while(l1 or l2):\n",
    "        if not l2 or l1 and l1[0]<=l2[0]:\n",
    "            l3.append(l1.pop(0))\n",
    "        else:\n",
    "            l3.append(l2.pop(0))\n",
    "    return l3"
   ]
  },
  {
   "cell_type": "code",
   "execution_count": 8,
   "metadata": {},
   "outputs": [],
   "source": [
    "a = Node(1)\n",
    "b = Node(2)\n",
    "c = Node(4)\n",
    "\n",
    "d = Node(1)\n",
    "e = Node(3)\n",
    "f = Node(4)\n",
    "\n",
    "# linked list 1\n",
    "a.next = b\n",
    "b.next = c\n",
    "\n",
    "# linked list 2\n",
    "d.next = e\n",
    "e.next = f"
   ]
  },
  {
   "cell_type": "code",
   "execution_count": 9,
   "metadata": {},
   "outputs": [
    {
     "name": "stdout",
     "output_type": "stream",
     "text": [
      "1\n",
      "1\n",
      "2\n",
      "3\n",
      "4\n",
      "4\n"
     ]
    }
   ],
   "source": [
    "g = mergeTwoLists(a,d)\n",
    "\n",
    "while g:\n",
    "    print(g.val)\n",
    "    g = g.next"
   ]
  },
  {
   "cell_type": "code",
   "execution_count": 11,
   "metadata": {},
   "outputs": [
    {
     "ename": "TypeError",
     "evalue": "'Node' object is not subscriptable",
     "output_type": "error",
     "traceback": [
      "\u001b[0;31m---------------------------------------------------------------------------\u001b[0m",
      "\u001b[0;31mTypeError\u001b[0m                                 Traceback (most recent call last)",
      "\u001b[0;32m<ipython-input-11-d7dbfcc21048>\u001b[0m in \u001b[0;36m<module>\u001b[0;34m\u001b[0m\n\u001b[0;32m----> 1\u001b[0;31m \u001b[0mh\u001b[0m \u001b[0;34m=\u001b[0m \u001b[0mmergeTwoLists2\u001b[0m\u001b[0;34m(\u001b[0m\u001b[0ma\u001b[0m\u001b[0;34m,\u001b[0m\u001b[0md\u001b[0m\u001b[0;34m)\u001b[0m\u001b[0;34m\u001b[0m\u001b[0;34m\u001b[0m\u001b[0m\n\u001b[0m\u001b[1;32m      2\u001b[0m \u001b[0;34m\u001b[0m\u001b[0m\n\u001b[1;32m      3\u001b[0m \u001b[0;32mwhile\u001b[0m \u001b[0mh\u001b[0m\u001b[0;34m:\u001b[0m\u001b[0;34m\u001b[0m\u001b[0;34m\u001b[0m\u001b[0m\n\u001b[1;32m      4\u001b[0m     \u001b[0mprint\u001b[0m\u001b[0;34m(\u001b[0m\u001b[0mh\u001b[0m\u001b[0;34m.\u001b[0m\u001b[0mval\u001b[0m\u001b[0;34m)\u001b[0m\u001b[0;34m\u001b[0m\u001b[0;34m\u001b[0m\u001b[0m\n\u001b[1;32m      5\u001b[0m     \u001b[0mh\u001b[0m \u001b[0;34m=\u001b[0m \u001b[0mh\u001b[0m\u001b[0;34m.\u001b[0m\u001b[0mnext\u001b[0m\u001b[0;34m\u001b[0m\u001b[0;34m\u001b[0m\u001b[0m\n",
      "\u001b[0;32m<ipython-input-7-2432684b428c>\u001b[0m in \u001b[0;36mmergeTwoLists2\u001b[0;34m(l1, l2)\u001b[0m\n\u001b[1;32m     23\u001b[0m     \u001b[0ml3\u001b[0m \u001b[0;34m=\u001b[0m \u001b[0;34m[\u001b[0m\u001b[0;34m]\u001b[0m\u001b[0;34m\u001b[0m\u001b[0;34m\u001b[0m\u001b[0m\n\u001b[1;32m     24\u001b[0m     \u001b[0;32mwhile\u001b[0m\u001b[0;34m(\u001b[0m\u001b[0ml1\u001b[0m \u001b[0;32mor\u001b[0m \u001b[0ml2\u001b[0m\u001b[0;34m)\u001b[0m\u001b[0;34m:\u001b[0m\u001b[0;34m\u001b[0m\u001b[0;34m\u001b[0m\u001b[0m\n\u001b[0;32m---> 25\u001b[0;31m         \u001b[0;32mif\u001b[0m \u001b[0;32mnot\u001b[0m \u001b[0ml2\u001b[0m \u001b[0;32mor\u001b[0m \u001b[0ml1\u001b[0m \u001b[0;32mand\u001b[0m \u001b[0ml1\u001b[0m\u001b[0;34m[\u001b[0m\u001b[0;36m0\u001b[0m\u001b[0;34m]\u001b[0m\u001b[0;34m<=\u001b[0m\u001b[0ml2\u001b[0m\u001b[0;34m[\u001b[0m\u001b[0;36m0\u001b[0m\u001b[0;34m]\u001b[0m\u001b[0;34m:\u001b[0m\u001b[0;34m\u001b[0m\u001b[0;34m\u001b[0m\u001b[0m\n\u001b[0m\u001b[1;32m     26\u001b[0m             \u001b[0ml3\u001b[0m\u001b[0;34m.\u001b[0m\u001b[0mappend\u001b[0m\u001b[0;34m(\u001b[0m\u001b[0ml1\u001b[0m\u001b[0;34m.\u001b[0m\u001b[0mpop\u001b[0m\u001b[0;34m(\u001b[0m\u001b[0;36m0\u001b[0m\u001b[0;34m)\u001b[0m\u001b[0;34m)\u001b[0m\u001b[0;34m\u001b[0m\u001b[0;34m\u001b[0m\u001b[0m\n\u001b[1;32m     27\u001b[0m         \u001b[0;32melse\u001b[0m\u001b[0;34m:\u001b[0m\u001b[0;34m\u001b[0m\u001b[0;34m\u001b[0m\u001b[0m\n",
      "\u001b[0;31mTypeError\u001b[0m: 'Node' object is not subscriptable"
     ]
    }
   ],
   "source": [
    "h = mergeTwoLists2(a,d)\n",
    "\n",
    "while h:\n",
    "    print(h.val)\n",
    "    h = h.next"
   ]
  },
  {
   "cell_type": "markdown",
   "metadata": {},
   "source": [
    "141. [Linked List Cycle](https://leetcode.com/problems/linked-list-cycle/)"
   ]
  },
  {
   "cell_type": "code",
   "execution_count": null,
   "metadata": {},
   "outputs": [],
   "source": [
    "def hasCycle(head):\n",
    "    if not head or not head.next:\n",
    "        return False\n",
    "    \n",
    "    slow = head\n",
    "    fast = head.next\n",
    "    while slow!=fast:\n",
    "        if not fast or not fast.next:\n",
    "            return False\n",
    "        slow = slow.next\n",
    "        fast = fast.next.next\n",
    "    return True"
   ]
  },
  {
   "cell_type": "code",
   "execution_count": null,
   "metadata": {},
   "outputs": [],
   "source": [
    "# with cycle\n",
    "a = Node(1)\n",
    "b = Node(2)\n",
    "c = Node(4)\n",
    "\n",
    "a.next = b\n",
    "b.next = c\n",
    "c.next = a\n",
    "\n",
    "hasCycle(a)"
   ]
  },
  {
   "cell_type": "code",
   "execution_count": null,
   "metadata": {},
   "outputs": [],
   "source": [
    "# no cycle\n",
    "d = Node(1)\n",
    "e = Node(2)\n",
    "f = Node(4)\n",
    "\n",
    "d.next = e\n",
    "e.next = f\n",
    "\n",
    "hasCycle(d)"
   ]
  },
  {
   "cell_type": "markdown",
   "metadata": {},
   "source": [
    "155. [Min Stack](https://leetcode.com/problems/min-stack/)"
   ]
  },
  {
   "cell_type": "code",
   "execution_count": null,
   "metadata": {},
   "outputs": [],
   "source": [
    "class MinStack:\n",
    "\n",
    "    def __init__(self):\n",
    "        \"\"\"\n",
    "        initialize your data structure here.\n",
    "        \"\"\"\n",
    "        self.stack = []\n",
    "        \n",
    "\n",
    "    def push(self, x: int) -> None:\n",
    "        return self.stack.append(x)\n",
    "\n",
    "    def pop(self) -> None:\n",
    "        return self.stack.pop()\n",
    "        \n",
    "\n",
    "    def top(self) -> int:\n",
    "        return self.stack[-1]\n",
    "        \n",
    "    def getMin(self) -> int:\n",
    "        return min(self.stack)"
   ]
  },
  {
   "cell_type": "markdown",
   "metadata": {},
   "source": [
    "169. [Majority Elements](https://leetcode.com/problems/majority-element/)"
   ]
  },
  {
   "cell_type": "code",
   "execution_count": null,
   "metadata": {},
   "outputs": [],
   "source": [
    "b = [3,3,4]"
   ]
  },
  {
   "cell_type": "code",
   "execution_count": null,
   "metadata": {},
   "outputs": [],
   "source": [
    "def majorityElement(nums):\n",
    "    d = {}\n",
    "    for c in nums:\n",
    "        if c in d:\n",
    "            d[c]+=1\n",
    "        else:\n",
    "            d[c]=1\n",
    "    return max(d, key=lambda k: d[k])"
   ]
  },
  {
   "cell_type": "code",
   "execution_count": null,
   "metadata": {},
   "outputs": [],
   "source": [
    "assert majorityElement(b)==4"
   ]
  },
  {
   "cell_type": "markdown",
   "metadata": {},
   "source": [
    "202. [Happy Number](https://leetcode.com/problems/happy-number/)"
   ]
  },
  {
   "cell_type": "code",
   "execution_count": null,
   "metadata": {},
   "outputs": [],
   "source": [
    "def isHappy(n):\n",
    "    i=0\n",
    "    while n!=1:\n",
    "        if i>100:\n",
    "            return False\n",
    "        lst = [int(x)**2 for x in str(n)]\n",
    "        n = sum(lst)\n",
    "        i+=1\n",
    "    return True"
   ]
  },
  {
   "cell_type": "code",
   "execution_count": null,
   "metadata": {},
   "outputs": [],
   "source": [
    "assert isHappy(19)==True"
   ]
  },
  {
   "cell_type": "markdown",
   "metadata": {},
   "source": [
    "204. [Count Primes](https://leetcode.com/problems/count-primes/)"
   ]
  },
  {
   "cell_type": "code",
   "execution_count": null,
   "metadata": {},
   "outputs": [],
   "source": [
    "def isPrime(n):\n",
    "    if n==2:\n",
    "        return True\n",
    "    elif n%2==0 or n<2:\n",
    "        return False\n",
    "    else:\n",
    "        for i in range(3,int(np.sqrt(n))+1,2):\n",
    "            if n%i==0:\n",
    "                return False\n",
    "    return True\n",
    "\n",
    "def countPrimes(n):\n",
    "    primes = [x for x in range(n) if isPrime(x)]\n",
    "    return len(primes)"
   ]
  },
  {
   "cell_type": "code",
   "execution_count": null,
   "metadata": {},
   "outputs": [],
   "source": [
    "[x for x in range(10) if isPrime(x)]"
   ]
  },
  {
   "cell_type": "code",
   "execution_count": null,
   "metadata": {},
   "outputs": [],
   "source": [
    "isPrime(11)"
   ]
  },
  {
   "cell_type": "code",
   "execution_count": null,
   "metadata": {},
   "outputs": [],
   "source": [
    "9%3"
   ]
  },
  {
   "cell_type": "code",
   "execution_count": null,
   "metadata": {},
   "outputs": [],
   "source": [
    "primeList(10)"
   ]
  },
  {
   "cell_type": "code",
   "execution_count": null,
   "metadata": {},
   "outputs": [],
   "source": [
    "# def primeDict(n):\n",
    "#     d = {}\n",
    "#     for i in range(n):\n",
    "#         if isPrime(i):\n",
    "#             d[i] = 1\n",
    "#     return d\n",
    "\n",
    "def countPrimes(n):\n",
    "    d = primeDict(n)\n",
    "    count = 0\n",
    "    for i in range(2,n):\n",
    "        if i in d:\n",
    "            count+=1\n",
    "    return count"
   ]
  },
  {
   "cell_type": "code",
   "execution_count": null,
   "metadata": {},
   "outputs": [],
   "source": [
    "countPrimes(10)"
   ]
  },
  {
   "cell_type": "code",
   "execution_count": null,
   "metadata": {},
   "outputs": [],
   "source": [
    "isPrime(12)"
   ]
  },
  {
   "cell_type": "code",
   "execution_count": null,
   "metadata": {},
   "outputs": [],
   "source": [
    "odds = [x for x in range(9) if x%2==1]"
   ]
  },
  {
   "cell_type": "code",
   "execution_count": null,
   "metadata": {},
   "outputs": [],
   "source": [
    "odds"
   ]
  },
  {
   "cell_type": "code",
   "execution_count": null,
   "metadata": {},
   "outputs": [],
   "source": []
  }
 ],
 "metadata": {
  "kernelspec": {
   "display_name": "Algorithms",
   "language": "python",
   "name": "algorithms"
  },
  "language_info": {
   "codemirror_mode": {
    "name": "ipython",
    "version": 3
   },
   "file_extension": ".py",
   "mimetype": "text/x-python",
   "name": "python",
   "nbconvert_exporter": "python",
   "pygments_lexer": "ipython3",
   "version": "3.7.4"
  }
 },
 "nbformat": 4,
 "nbformat_minor": 4
}
